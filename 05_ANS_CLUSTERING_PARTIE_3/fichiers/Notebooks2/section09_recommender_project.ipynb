{
 "cells": [
  {
   "cell_type": "markdown",
   "id": "dbb6bfbe-056c-4a3b-8a0e-5a0511781bcc",
   "metadata": {},
   "source": [
    "# Recommender Project"
   ]
  },
  {
   "cell_type": "markdown",
   "id": "abc3b536-94e6-4853-8f63-57c145eaaf92",
   "metadata": {},
   "source": [
    "## 1. Data Prep"
   ]
  },
  {
   "cell_type": "code",
   "execution_count": 1,
   "id": "ca5b0c39-6837-4638-9922-c7314bf1b70d",
   "metadata": {},
   "outputs": [],
   "source": [
    "# import the restaurant ratings data (first tab of spreadsheet)\n"
   ]
  },
  {
   "cell_type": "code",
   "execution_count": 2,
   "id": "4f916fc2-6c1e-4e1f-a68e-9514b52a3a5d",
   "metadata": {},
   "outputs": [],
   "source": [
    "# view the range of the ratings\n"
   ]
  },
  {
   "cell_type": "code",
   "execution_count": 3,
   "id": "3c326c44-5aa4-42ae-959f-3de4f273f0b0",
   "metadata": {},
   "outputs": [],
   "source": [
    "# pivot the data to get it into a user-item matrix format (think about how you'd like to deal with the NaN values)\n"
   ]
  },
  {
   "cell_type": "code",
   "execution_count": 4,
   "id": "a4ffe7d8-a0a4-4019-be01-79d5b28f10a6",
   "metadata": {},
   "outputs": [],
   "source": [
    "# check the number of rows and columns in the data\n"
   ]
  },
  {
   "cell_type": "markdown",
   "id": "ff41869a-8dd3-4fba-b96d-38affba7625f",
   "metadata": {},
   "source": [
    "## 2. Collaborative Filtering: Recommend Restaurants to a New User"
   ]
  },
  {
   "cell_type": "markdown",
   "id": "ef9a1962-20c1-4de5-a192-18a2e411f29b",
   "metadata": {},
   "source": [
    "### a. Fit an initial TruncatedSVD model with all the components on centered data"
   ]
  },
  {
   "cell_type": "code",
   "execution_count": 5,
   "id": "5f8a46d7-8ce0-4e05-a316-13149a656338",
   "metadata": {},
   "outputs": [],
   "source": [
    "# center the data\n"
   ]
  },
  {
   "cell_type": "code",
   "execution_count": 6,
   "id": "87cea393-01e3-46f1-9ef1-cd701171ed78",
   "metadata": {},
   "outputs": [],
   "source": [
    "# fit a TruncatedSVD model with 127 components\n"
   ]
  },
  {
   "cell_type": "code",
   "execution_count": 7,
   "id": "ccacf17f-ac38-4c6b-ae63-b9f01e254387",
   "metadata": {},
   "outputs": [],
   "source": [
    "# view the cumulative explained variance ratios\n"
   ]
  },
  {
   "cell_type": "code",
   "execution_count": 8,
   "id": "5bbd780a-0cc8-4e5c-b240-3255f3d5fde7",
   "metadata": {},
   "outputs": [],
   "source": [
    "# plot the cumulative explained variance ratios\n"
   ]
  },
  {
   "cell_type": "markdown",
   "id": "130e5258-92b6-4cb9-a475-78a26ef09144",
   "metadata": {},
   "source": [
    "### b. Update the model to have 50 components"
   ]
  },
  {
   "cell_type": "code",
   "execution_count": 9,
   "id": "993d7bb1-7796-44a8-8c52-91b583dd0c16",
   "metadata": {},
   "outputs": [],
   "source": [
    "# fit a TruncatedSVD model with 50 components\n"
   ]
  },
  {
   "cell_type": "code",
   "execution_count": 10,
   "id": "cf41af48-699a-4ff0-a11f-4b82d18a216c",
   "metadata": {},
   "outputs": [],
   "source": [
    "# view the cumulative explained variance ratios\n"
   ]
  },
  {
   "cell_type": "markdown",
   "id": "400962dd-355f-4131-8163-865cc4de8d04",
   "metadata": {},
   "source": [
    "### c. Introduce a New User"
   ]
  },
  {
   "cell_type": "code",
   "execution_count": 11,
   "id": "6063dedd-94ea-41dc-8d30-3d2ad8a9d016",
   "metadata": {},
   "outputs": [
    {
     "data": {
      "text/html": [
       "<div>\n",
       "<style scoped>\n",
       "    .dataframe tbody tr th:only-of-type {\n",
       "        vertical-align: middle;\n",
       "    }\n",
       "\n",
       "    .dataframe tbody tr th {\n",
       "        vertical-align: top;\n",
       "    }\n",
       "\n",
       "    .dataframe thead th {\n",
       "        text-align: right;\n",
       "    }\n",
       "</style>\n",
       "<table border=\"1\" class=\"dataframe\">\n",
       "  <thead>\n",
       "    <tr style=\"text-align: right;\">\n",
       "      <th>Restaurant_Name</th>\n",
       "      <th>Abondance Restaurante Bar</th>\n",
       "      <th>Arrachela Grill</th>\n",
       "      <th>Cabana Huasteca</th>\n",
       "      <th>Cafe Ambar</th>\n",
       "      <th>Cafe Chaires</th>\n",
       "      <th>Cafe Punta Del Cielo</th>\n",
       "      <th>Cafeteria Cenidet</th>\n",
       "      <th>Cafeteria Y Restaurant El Pacifico</th>\n",
       "      <th>Carl's Jr</th>\n",
       "      <th>Carnitas Mata</th>\n",
       "      <th>...</th>\n",
       "      <th>Tacos De Barbacoa Enfrente Del Tec</th>\n",
       "      <th>Tacos De La Estacion</th>\n",
       "      <th>Tacos El Guero</th>\n",
       "      <th>Tacos Los Volcanes</th>\n",
       "      <th>Taqueria El Amigo</th>\n",
       "      <th>Tortas Hawaii</th>\n",
       "      <th>Tortas Locas Hipocampo</th>\n",
       "      <th>Tortas Y Hamburguesas El Gordo</th>\n",
       "      <th>Unicol's Pizza</th>\n",
       "      <th>Vips</th>\n",
       "    </tr>\n",
       "  </thead>\n",
       "  <tbody>\n",
       "    <tr>\n",
       "      <th>0</th>\n",
       "      <td>NaN</td>\n",
       "      <td>NaN</td>\n",
       "      <td>NaN</td>\n",
       "      <td>NaN</td>\n",
       "      <td>NaN</td>\n",
       "      <td>NaN</td>\n",
       "      <td>NaN</td>\n",
       "      <td>NaN</td>\n",
       "      <td>NaN</td>\n",
       "      <td>NaN</td>\n",
       "      <td>...</td>\n",
       "      <td>NaN</td>\n",
       "      <td>NaN</td>\n",
       "      <td>NaN</td>\n",
       "      <td>NaN</td>\n",
       "      <td>NaN</td>\n",
       "      <td>NaN</td>\n",
       "      <td>NaN</td>\n",
       "      <td>NaN</td>\n",
       "      <td>NaN</td>\n",
       "      <td>NaN</td>\n",
       "    </tr>\n",
       "  </tbody>\n",
       "</table>\n",
       "<p>1 rows × 127 columns</p>\n",
       "</div>"
      ],
      "text/plain": [
       "Restaurant_Name  Abondance Restaurante Bar  Arrachela Grill  Cabana Huasteca  \\\n",
       "0                                      NaN              NaN              NaN   \n",
       "\n",
       "Restaurant_Name  Cafe Ambar  Cafe Chaires  Cafe Punta Del Cielo  \\\n",
       "0                       NaN           NaN                   NaN   \n",
       "\n",
       "Restaurant_Name  Cafeteria Cenidet  Cafeteria Y Restaurant El Pacifico  \\\n",
       "0                              NaN                                 NaN   \n",
       "\n",
       "Restaurant_Name  Carl's Jr  Carnitas Mata  ...  \\\n",
       "0                      NaN            NaN  ...   \n",
       "\n",
       "Restaurant_Name  Tacos De Barbacoa Enfrente Del Tec  Tacos De La Estacion  \\\n",
       "0                                               NaN                   NaN   \n",
       "\n",
       "Restaurant_Name  Tacos El Guero  Tacos Los Volcanes  Taqueria El Amigo   \\\n",
       "0                           NaN                 NaN                 NaN   \n",
       "\n",
       "Restaurant_Name  Tortas Hawaii  Tortas Locas Hipocampo  \\\n",
       "0                          NaN                     NaN   \n",
       "\n",
       "Restaurant_Name  Tortas Y Hamburguesas El Gordo  Unicol's Pizza  Vips  \n",
       "0                                           NaN             NaN   NaN  \n",
       "\n",
       "[1 rows x 127 columns]"
      ]
     },
     "execution_count": 11,
     "metadata": {},
     "output_type": "execute_result"
    }
   ],
   "source": [
    "# here's a new user\n",
    "import numpy as np\n",
    "import pandas as pd\n",
    "\n",
    "# create a user-item matrix\n",
    "restaurant_ratings = pd.read_excel('../Data/Restaurant_Ratings.xlsx')\n",
    "X = restaurant_ratings.pivot(index='Consumer_ID', columns='Restaurant_Name', values='Overall_Rating').fillna(restaurant_ratings.Overall_Rating.mean())\n",
    "\n",
    "# create a vector of NaN values\n",
    "vector_length = X.shape[1]\n",
    "new_user = np.full(vector_length, np.NaN)\n",
    "\n",
    "# populate with 2 ratings\n",
    "ratings = [2, 2]\n",
    "positions_to_populate = [40, 60]\n",
    "new_user[positions_to_populate] = ratings\n",
    "\n",
    "# view as a DataFrame\n",
    "new_user_df = pd.DataFrame([new_user], columns=X.columns)\n",
    "new_user_df"
   ]
  },
  {
   "cell_type": "code",
   "execution_count": 12,
   "id": "ed3daf2b-d20e-4f38-9dab-3fce6c9ee4aa",
   "metadata": {},
   "outputs": [
    {
     "data": {
      "text/html": [
       "<div>\n",
       "<style scoped>\n",
       "    .dataframe tbody tr th:only-of-type {\n",
       "        vertical-align: middle;\n",
       "    }\n",
       "\n",
       "    .dataframe tbody tr th {\n",
       "        vertical-align: top;\n",
       "    }\n",
       "\n",
       "    .dataframe thead th {\n",
       "        text-align: right;\n",
       "    }\n",
       "</style>\n",
       "<table border=\"1\" class=\"dataframe\">\n",
       "  <thead>\n",
       "    <tr style=\"text-align: right;\">\n",
       "      <th></th>\n",
       "      <th>0</th>\n",
       "    </tr>\n",
       "    <tr>\n",
       "      <th>Restaurant_Name</th>\n",
       "      <th></th>\n",
       "    </tr>\n",
       "  </thead>\n",
       "  <tbody>\n",
       "    <tr>\n",
       "      <th>KFC</th>\n",
       "      <td>2.0</td>\n",
       "    </tr>\n",
       "    <tr>\n",
       "      <th>McDonalds Centro</th>\n",
       "      <td>2.0</td>\n",
       "    </tr>\n",
       "  </tbody>\n",
       "</table>\n",
       "</div>"
      ],
      "text/plain": [
       "                    0\n",
       "Restaurant_Name      \n",
       "KFC               2.0\n",
       "McDonalds Centro  2.0"
      ]
     },
     "execution_count": 12,
     "metadata": {},
     "output_type": "execute_result"
    }
   ],
   "source": [
    "# view only the restaurants that the new user rated\n",
    "new_user_df.T.dropna()"
   ]
  },
  {
   "cell_type": "code",
   "execution_count": 13,
   "id": "8b5b2e6c-6461-45eb-882d-e7e17988ec87",
   "metadata": {},
   "outputs": [
    {
     "data": {
      "text/html": [
       "<div>\n",
       "<style scoped>\n",
       "    .dataframe tbody tr th:only-of-type {\n",
       "        vertical-align: middle;\n",
       "    }\n",
       "\n",
       "    .dataframe tbody tr th {\n",
       "        vertical-align: top;\n",
       "    }\n",
       "\n",
       "    .dataframe thead th {\n",
       "        text-align: right;\n",
       "    }\n",
       "</style>\n",
       "<table border=\"1\" class=\"dataframe\">\n",
       "  <thead>\n",
       "    <tr style=\"text-align: right;\">\n",
       "      <th></th>\n",
       "      <th>Restaurant_ID</th>\n",
       "      <th>Name</th>\n",
       "      <th>Cuisine</th>\n",
       "      <th>Price</th>\n",
       "      <th>Franchise</th>\n",
       "    </tr>\n",
       "  </thead>\n",
       "  <tbody>\n",
       "    <tr>\n",
       "      <th>0</th>\n",
       "      <td>135069.0</td>\n",
       "      <td>Abondance Restaurante Bar</td>\n",
       "      <td>Bar</td>\n",
       "      <td>Low</td>\n",
       "      <td>No</td>\n",
       "    </tr>\n",
       "    <tr>\n",
       "      <th>1</th>\n",
       "      <td>135016.0</td>\n",
       "      <td>Arrachela Grill</td>\n",
       "      <td>NaN</td>\n",
       "      <td>Medium</td>\n",
       "      <td>No</td>\n",
       "    </tr>\n",
       "    <tr>\n",
       "      <th>2</th>\n",
       "      <td>132754.0</td>\n",
       "      <td>Cabana Huasteca</td>\n",
       "      <td>Mexican</td>\n",
       "      <td>Medium</td>\n",
       "      <td>No</td>\n",
       "    </tr>\n",
       "    <tr>\n",
       "      <th>3</th>\n",
       "      <td>132561.0</td>\n",
       "      <td>Cafe Ambar</td>\n",
       "      <td>NaN</td>\n",
       "      <td>Low</td>\n",
       "      <td>No</td>\n",
       "    </tr>\n",
       "    <tr>\n",
       "      <th>4</th>\n",
       "      <td>132572.0</td>\n",
       "      <td>Cafe Chaires</td>\n",
       "      <td>Cafeteria</td>\n",
       "      <td>Low</td>\n",
       "      <td>No</td>\n",
       "    </tr>\n",
       "  </tbody>\n",
       "</table>\n",
       "</div>"
      ],
      "text/plain": [
       "   Restaurant_ID                       Name    Cuisine   Price Franchise\n",
       "0       135069.0  Abondance Restaurante Bar        Bar     Low        No\n",
       "1       135016.0            Arrachela Grill        NaN  Medium        No\n",
       "2       132754.0            Cabana Huasteca    Mexican  Medium        No\n",
       "3       132561.0                 Cafe Ambar        NaN     Low        No\n",
       "4       132572.0               Cafe Chaires  Cafeteria     Low        No"
      ]
     },
     "execution_count": 13,
     "metadata": {},
     "output_type": "execute_result"
    }
   ],
   "source": [
    "# read in the restaurants details (second tab of spreadsheet)\n",
    "restaurant_details = pd.read_excel('../Data/restaurant_ratings.xlsx', sheet_name=1)\n",
    "restaurant_details.head()"
   ]
  },
  {
   "cell_type": "code",
   "execution_count": 14,
   "id": "a02ab3d8-9c76-45df-8c76-f85577d8ae8f",
   "metadata": {},
   "outputs": [
    {
     "data": {
      "text/html": [
       "<div>\n",
       "<style scoped>\n",
       "    .dataframe tbody tr th:only-of-type {\n",
       "        vertical-align: middle;\n",
       "    }\n",
       "\n",
       "    .dataframe tbody tr th {\n",
       "        vertical-align: top;\n",
       "    }\n",
       "\n",
       "    .dataframe thead th {\n",
       "        text-align: right;\n",
       "    }\n",
       "</style>\n",
       "<table border=\"1\" class=\"dataframe\">\n",
       "  <thead>\n",
       "    <tr style=\"text-align: right;\">\n",
       "      <th></th>\n",
       "      <th>Restaurant_ID</th>\n",
       "      <th>Name</th>\n",
       "      <th>Cuisine</th>\n",
       "      <th>Price</th>\n",
       "      <th>Franchise</th>\n",
       "    </tr>\n",
       "  </thead>\n",
       "  <tbody>\n",
       "    <tr>\n",
       "      <th>40</th>\n",
       "      <td>132851.0</td>\n",
       "      <td>KFC</td>\n",
       "      <td>American</td>\n",
       "      <td>Low</td>\n",
       "      <td>Yes</td>\n",
       "    </tr>\n",
       "    <tr>\n",
       "      <th>60</th>\n",
       "      <td>132583.0</td>\n",
       "      <td>McDonalds Centro</td>\n",
       "      <td>American</td>\n",
       "      <td>Low</td>\n",
       "      <td>Yes</td>\n",
       "    </tr>\n",
       "  </tbody>\n",
       "</table>\n",
       "</div>"
      ],
      "text/plain": [
       "    Restaurant_ID              Name   Cuisine Price Franchise\n",
       "40       132851.0               KFC  American   Low       Yes\n",
       "60       132583.0  McDonalds Centro  American   Low       Yes"
      ]
     },
     "execution_count": 14,
     "metadata": {},
     "output_type": "execute_result"
    }
   ],
   "source": [
    "# the new user likes low-priced american chain restaurants\n",
    "restaurant_details[restaurant_details.Name.isin(new_user_df.T.dropna().index)]"
   ]
  },
  {
   "cell_type": "markdown",
   "id": "ae71bfb1-c48b-4010-b579-3f72b3392486",
   "metadata": {},
   "source": [
    "### d. Recommend Restaurants to the New User"
   ]
  },
  {
   "cell_type": "code",
   "execution_count": 15,
   "id": "74ec40ab-20d1-4553-b52a-a2b5b9d05d43",
   "metadata": {},
   "outputs": [],
   "source": [
    "# apply the necessary data prep steps to the user\n",
    "\n",
    "# fill nan values with the mean rating\n",
    "\n",
    "# center the data\n"
   ]
  },
  {
   "cell_type": "code",
   "execution_count": 16,
   "id": "ffbb71a3-2375-45c3-8c4e-b52409fcd077",
   "metadata": {},
   "outputs": [],
   "source": [
    "# transform the user into the latent space\n"
   ]
  },
  {
   "cell_type": "code",
   "execution_count": 17,
   "id": "4886ed01-19d9-4484-be03-ce4cc4ebc302",
   "metadata": {},
   "outputs": [],
   "source": [
    "# view the shape of the output\n"
   ]
  },
  {
   "cell_type": "code",
   "execution_count": 18,
   "id": "98ca0ab3-43c3-440e-921f-bcfd4118e40e",
   "metadata": {},
   "outputs": [],
   "source": [
    "# reconstruct the user-item matrix for the user\n"
   ]
  },
  {
   "cell_type": "code",
   "execution_count": 19,
   "id": "87356c0f-4a19-4e71-9b10-f8cd4951d8ad",
   "metadata": {},
   "outputs": [],
   "source": [
    "# view the shape of the output\n"
   ]
  },
  {
   "cell_type": "code",
   "execution_count": 20,
   "id": "b5850b9c-07f2-49e0-9c3c-764fe388f0c9",
   "metadata": {},
   "outputs": [],
   "source": [
    "# make restaurant recommendations for the new user\n"
   ]
  },
  {
   "cell_type": "code",
   "execution_count": 21,
   "id": "5d15d645-f28f-4160-812d-9605552e8f5a",
   "metadata": {},
   "outputs": [],
   "source": [
    "# sort the recommendations\n"
   ]
  },
  {
   "cell_type": "code",
   "execution_count": 22,
   "id": "61879e13-2b87-418a-8be3-1589c5a1f321",
   "metadata": {},
   "outputs": [],
   "source": [
    "# exclude the restaurants the user already rated\n"
   ]
  },
  {
   "cell_type": "code",
   "execution_count": 23,
   "id": "5372189f-3fdb-4c06-8e35-2d10182f3f75",
   "metadata": {},
   "outputs": [],
   "source": [
    "# view the new recommended restaurants\n"
   ]
  },
  {
   "cell_type": "code",
   "execution_count": 24,
   "id": "55c9e730-b47c-44fc-857e-220db66e50cf",
   "metadata": {},
   "outputs": [],
   "source": [
    "# view the restaurant details dataframe\n"
   ]
  },
  {
   "cell_type": "code",
   "execution_count": 25,
   "id": "cbd0506d-d919-4ebe-8e4c-11ba1285568e",
   "metadata": {},
   "outputs": [],
   "source": [
    "# combine the predicted ratings and restaurant details dataframes\n"
   ]
  },
  {
   "cell_type": "code",
   "execution_count": 26,
   "id": "504ca81f-b075-4904-b298-f64b6062755a",
   "metadata": {},
   "outputs": [],
   "source": [
    "# what are your thoughts on these recommendations?\n"
   ]
  },
  {
   "cell_type": "markdown",
   "id": "a6d3b9aa-fe1e-46fa-b434-37084c72b81e",
   "metadata": {},
   "source": [
    "## 3. Content-Based Filtering: Suggest Similar Restaurants to a Restaurant"
   ]
  },
  {
   "cell_type": "markdown",
   "id": "66f583ec-9513-4867-9f07-b624c67ceecd",
   "metadata": {},
   "source": [
    "### a. Prep the data to contain only numeric values"
   ]
  },
  {
   "cell_type": "code",
   "execution_count": 27,
   "id": "adeb1bbd-d2e2-477c-b1e9-12295f0fabce",
   "metadata": {},
   "outputs": [],
   "source": [
    "# turn the cuisine, price and franchise columns of the restaurant details data into numeric columns\n",
    "\n",
    "# turn cuisine into dummy variables\n",
    "\n",
    "# turn price into a numeric value\n",
    "\n",
    "# turn franchise into an indicator\n"
   ]
  },
  {
   "cell_type": "code",
   "execution_count": 28,
   "id": "d87f06a0-8ec4-4238-a3bd-daa302f5bf27",
   "metadata": {},
   "outputs": [],
   "source": [
    "# combine them into a single dataframe\n"
   ]
  },
  {
   "cell_type": "markdown",
   "id": "ee8eb808-4074-4296-aa86-c7141065de56",
   "metadata": {},
   "source": [
    "### b. Calculate the cosine similarities between rows"
   ]
  },
  {
   "cell_type": "code",
   "execution_count": 29,
   "id": "8b718d87-6e2e-4a4a-a64e-0d62f8bfa517",
   "metadata": {},
   "outputs": [],
   "source": [
    "# calculate all the cosine similarities\n"
   ]
  },
  {
   "cell_type": "code",
   "execution_count": 30,
   "id": "b2cec29c-3121-4cdf-957f-4b11d26d4fab",
   "metadata": {},
   "outputs": [],
   "source": [
    "# find the most similar restuarants to KFC\n"
   ]
  },
  {
   "cell_type": "code",
   "execution_count": 31,
   "id": "5ddf8116-b337-4b82-9082-6c6920c533f1",
   "metadata": {},
   "outputs": [],
   "source": [
    "# find the details of those restaurants\n"
   ]
  },
  {
   "cell_type": "code",
   "execution_count": 32,
   "id": "b1e7c391-7410-4fad-8302-479d5d590415",
   "metadata": {},
   "outputs": [],
   "source": [
    "# what are your thoughts on these recommendations?\n"
   ]
  },
  {
   "cell_type": "markdown",
   "id": "9db63654-c837-450d-8f77-a9a6505892f5",
   "metadata": {},
   "source": [
    "## 4. Summarize Recommendations"
   ]
  },
  {
   "cell_type": "code",
   "execution_count": 33,
   "id": "bf96e30e-6b58-45cf-b79e-d7f91b33c4d8",
   "metadata": {},
   "outputs": [],
   "source": [
    "# For the user who likes KFC and McDonalds, what are your top 10 restaurant recommendations?\n"
   ]
  },
  {
   "cell_type": "code",
   "execution_count": 34,
   "id": "c1bfcf0b-5db8-49a4-bb10-0d41d8ab672c",
   "metadata": {},
   "outputs": [],
   "source": [
    "# What are your thoughts on these recommendations and how could you improve your recommendations?\n"
   ]
  },
  {
   "cell_type": "code",
   "execution_count": 35,
   "id": "0a934bd4-816b-4bee-918e-03e640fc31e1",
   "metadata": {},
   "outputs": [],
   "source": [
    "# For the KFC details page, what are the top 10 other restuarants that you would suggest?\n"
   ]
  },
  {
   "cell_type": "code",
   "execution_count": 36,
   "id": "7a798e5f-f644-4774-8867-4d44ccd3e66e",
   "metadata": {},
   "outputs": [],
   "source": [
    "# What are your thoughts on these suggestions and how could you improve your suggestions?\n"
   ]
  },
  {
   "cell_type": "code",
   "execution_count": null,
   "id": "693f97c7-f2d8-4674-b7d8-b9d86cd3d6af",
   "metadata": {},
   "outputs": [],
   "source": []
  }
 ],
 "metadata": {
  "kernelspec": {
   "display_name": "Python 3 (ipykernel)",
   "language": "python",
   "name": "python3"
  },
  "language_info": {
   "codemirror_mode": {
    "name": "ipython",
    "version": 3
   },
   "file_extension": ".py",
   "mimetype": "text/x-python",
   "name": "python",
   "nbconvert_exporter": "python",
   "pygments_lexer": "ipython3",
   "version": "3.11.5"
  }
 },
 "nbformat": 4,
 "nbformat_minor": 5
}
