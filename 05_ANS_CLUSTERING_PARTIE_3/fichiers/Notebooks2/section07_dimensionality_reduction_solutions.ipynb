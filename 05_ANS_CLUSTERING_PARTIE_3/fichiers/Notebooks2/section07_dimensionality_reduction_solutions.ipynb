{
 "cells": [
  {
   "cell_type": "markdown",
   "id": "838f8216-ec65-4685-b3fb-393a99bffee8",
   "metadata": {},
   "source": [
    "# Dimensionality Reduction Assignment Solutions"
   ]
  },
  {
   "cell_type": "markdown",
   "id": "c0b9b428-1821-45e9-9c29-3841b4365584",
   "metadata": {},
   "source": [
    "## 1. Applying PCA"
   ]
  },
  {
   "cell_type": "code",
   "execution_count": 1,
   "id": "81e956c2-afa8-4891-91ec-5d90d5e32836",
   "metadata": {},
   "outputs": [
    {
     "data": {
      "text/html": [
       "<div>\n",
       "<style scoped>\n",
       "    .dataframe tbody tr th:only-of-type {\n",
       "        vertical-align: middle;\n",
       "    }\n",
       "\n",
       "    .dataframe tbody tr th {\n",
       "        vertical-align: top;\n",
       "    }\n",
       "\n",
       "    .dataframe thead th {\n",
       "        text-align: right;\n",
       "    }\n",
       "</style>\n",
       "<table border=\"1\" class=\"dataframe\">\n",
       "  <thead>\n",
       "    <tr style=\"text-align: right;\">\n",
       "      <th></th>\n",
       "      <th>student_id</th>\n",
       "      <th>math</th>\n",
       "      <th>science</th>\n",
       "      <th>cs</th>\n",
       "      <th>band</th>\n",
       "      <th>english</th>\n",
       "      <th>history</th>\n",
       "      <th>spanish</th>\n",
       "      <th>physed</th>\n",
       "    </tr>\n",
       "  </thead>\n",
       "  <tbody>\n",
       "    <tr>\n",
       "      <th>0</th>\n",
       "      <td>1</td>\n",
       "      <td>46</td>\n",
       "      <td>48</td>\n",
       "      <td>50</td>\n",
       "      <td>74</td>\n",
       "      <td>34</td>\n",
       "      <td>44</td>\n",
       "      <td>39</td>\n",
       "      <td>73</td>\n",
       "    </tr>\n",
       "    <tr>\n",
       "      <th>1</th>\n",
       "      <td>2</td>\n",
       "      <td>66</td>\n",
       "      <td>65</td>\n",
       "      <td>65</td>\n",
       "      <td>66</td>\n",
       "      <td>74</td>\n",
       "      <td>80</td>\n",
       "      <td>75</td>\n",
       "      <td>63</td>\n",
       "    </tr>\n",
       "    <tr>\n",
       "      <th>2</th>\n",
       "      <td>3</td>\n",
       "      <td>55</td>\n",
       "      <td>53</td>\n",
       "      <td>50</td>\n",
       "      <td>76</td>\n",
       "      <td>71</td>\n",
       "      <td>72</td>\n",
       "      <td>76</td>\n",
       "      <td>71</td>\n",
       "    </tr>\n",
       "    <tr>\n",
       "      <th>3</th>\n",
       "      <td>4</td>\n",
       "      <td>53</td>\n",
       "      <td>57</td>\n",
       "      <td>53</td>\n",
       "      <td>80</td>\n",
       "      <td>77</td>\n",
       "      <td>77</td>\n",
       "      <td>85</td>\n",
       "      <td>82</td>\n",
       "    </tr>\n",
       "    <tr>\n",
       "      <th>4</th>\n",
       "      <td>5</td>\n",
       "      <td>55</td>\n",
       "      <td>62</td>\n",
       "      <td>58</td>\n",
       "      <td>67</td>\n",
       "      <td>82</td>\n",
       "      <td>77</td>\n",
       "      <td>78</td>\n",
       "      <td>60</td>\n",
       "    </tr>\n",
       "  </tbody>\n",
       "</table>\n",
       "</div>"
      ],
      "text/plain": [
       "   student_id  math  science  cs  band  english  history  spanish  physed\n",
       "0           1    46       48  50    74       34       44       39      73\n",
       "1           2    66       65  65    66       74       80       75      63\n",
       "2           3    55       53  50    76       71       72       76      71\n",
       "3           4    53       57  53    80       77       77       85      82\n",
       "4           5    55       62  58    67       82       77       78      60"
      ]
     },
     "execution_count": 1,
     "metadata": {},
     "output_type": "execute_result"
    }
   ],
   "source": [
    "# 1. Read in the student grades data set\n",
    "import pandas as pd\n",
    "\n",
    "df = pd.read_csv('../Data/student_grades.csv')\n",
    "df.head()"
   ]
  },
  {
   "cell_type": "code",
   "execution_count": 2,
   "id": "4586f3b6-2c12-4166-b25f-34ed5212e616",
   "metadata": {},
   "outputs": [
    {
     "data": {
      "text/html": [
       "<div>\n",
       "<style scoped>\n",
       "    .dataframe tbody tr th:only-of-type {\n",
       "        vertical-align: middle;\n",
       "    }\n",
       "\n",
       "    .dataframe tbody tr th {\n",
       "        vertical-align: top;\n",
       "    }\n",
       "\n",
       "    .dataframe thead th {\n",
       "        text-align: right;\n",
       "    }\n",
       "</style>\n",
       "<table border=\"1\" class=\"dataframe\">\n",
       "  <thead>\n",
       "    <tr style=\"text-align: right;\">\n",
       "      <th></th>\n",
       "      <th>math</th>\n",
       "      <th>science</th>\n",
       "      <th>cs</th>\n",
       "      <th>band</th>\n",
       "      <th>english</th>\n",
       "      <th>history</th>\n",
       "      <th>spanish</th>\n",
       "      <th>physed</th>\n",
       "    </tr>\n",
       "  </thead>\n",
       "  <tbody>\n",
       "    <tr>\n",
       "      <th>0</th>\n",
       "      <td>46</td>\n",
       "      <td>48</td>\n",
       "      <td>50</td>\n",
       "      <td>74</td>\n",
       "      <td>34</td>\n",
       "      <td>44</td>\n",
       "      <td>39</td>\n",
       "      <td>73</td>\n",
       "    </tr>\n",
       "    <tr>\n",
       "      <th>1</th>\n",
       "      <td>66</td>\n",
       "      <td>65</td>\n",
       "      <td>65</td>\n",
       "      <td>66</td>\n",
       "      <td>74</td>\n",
       "      <td>80</td>\n",
       "      <td>75</td>\n",
       "      <td>63</td>\n",
       "    </tr>\n",
       "    <tr>\n",
       "      <th>2</th>\n",
       "      <td>55</td>\n",
       "      <td>53</td>\n",
       "      <td>50</td>\n",
       "      <td>76</td>\n",
       "      <td>71</td>\n",
       "      <td>72</td>\n",
       "      <td>76</td>\n",
       "      <td>71</td>\n",
       "    </tr>\n",
       "    <tr>\n",
       "      <th>3</th>\n",
       "      <td>53</td>\n",
       "      <td>57</td>\n",
       "      <td>53</td>\n",
       "      <td>80</td>\n",
       "      <td>77</td>\n",
       "      <td>77</td>\n",
       "      <td>85</td>\n",
       "      <td>82</td>\n",
       "    </tr>\n",
       "    <tr>\n",
       "      <th>4</th>\n",
       "      <td>55</td>\n",
       "      <td>62</td>\n",
       "      <td>58</td>\n",
       "      <td>67</td>\n",
       "      <td>82</td>\n",
       "      <td>77</td>\n",
       "      <td>78</td>\n",
       "      <td>60</td>\n",
       "    </tr>\n",
       "  </tbody>\n",
       "</table>\n",
       "</div>"
      ],
      "text/plain": [
       "   math  science  cs  band  english  history  spanish  physed\n",
       "0    46       48  50    74       34       44       39      73\n",
       "1    66       65  65    66       74       80       75      63\n",
       "2    55       53  50    76       71       72       76      71\n",
       "3    53       57  53    80       77       77       85      82\n",
       "4    55       62  58    67       82       77       78      60"
      ]
     },
     "execution_count": 2,
     "metadata": {},
     "output_type": "execute_result"
    }
   ],
   "source": [
    "# 2. Drop the first column with student_id\n",
    "grades = df.iloc[:, 1:]\n",
    "grades.head()"
   ]
  },
  {
   "cell_type": "code",
   "execution_count": 3,
   "id": "e0ce403f-92ae-4635-9b8e-e157dc340bb6",
   "metadata": {},
   "outputs": [
    {
     "data": {
      "text/html": [
       "<div>\n",
       "<style scoped>\n",
       "    .dataframe tbody tr th:only-of-type {\n",
       "        vertical-align: middle;\n",
       "    }\n",
       "\n",
       "    .dataframe tbody tr th {\n",
       "        vertical-align: top;\n",
       "    }\n",
       "\n",
       "    .dataframe thead th {\n",
       "        text-align: right;\n",
       "    }\n",
       "</style>\n",
       "<table border=\"1\" class=\"dataframe\">\n",
       "  <thead>\n",
       "    <tr style=\"text-align: right;\">\n",
       "      <th></th>\n",
       "      <th>math</th>\n",
       "      <th>science</th>\n",
       "      <th>cs</th>\n",
       "      <th>band</th>\n",
       "      <th>english</th>\n",
       "      <th>history</th>\n",
       "      <th>spanish</th>\n",
       "      <th>physed</th>\n",
       "    </tr>\n",
       "  </thead>\n",
       "  <tbody>\n",
       "    <tr>\n",
       "      <th>0</th>\n",
       "      <td>-7.05</td>\n",
       "      <td>-5.22</td>\n",
       "      <td>-2.75</td>\n",
       "      <td>3.96</td>\n",
       "      <td>-26.97</td>\n",
       "      <td>-19.6</td>\n",
       "      <td>-26.56</td>\n",
       "      <td>5.39</td>\n",
       "    </tr>\n",
       "    <tr>\n",
       "      <th>1</th>\n",
       "      <td>12.95</td>\n",
       "      <td>11.78</td>\n",
       "      <td>12.25</td>\n",
       "      <td>-4.04</td>\n",
       "      <td>13.03</td>\n",
       "      <td>16.4</td>\n",
       "      <td>9.44</td>\n",
       "      <td>-4.61</td>\n",
       "    </tr>\n",
       "    <tr>\n",
       "      <th>2</th>\n",
       "      <td>1.95</td>\n",
       "      <td>-0.22</td>\n",
       "      <td>-2.75</td>\n",
       "      <td>5.96</td>\n",
       "      <td>10.03</td>\n",
       "      <td>8.4</td>\n",
       "      <td>10.44</td>\n",
       "      <td>3.39</td>\n",
       "    </tr>\n",
       "    <tr>\n",
       "      <th>3</th>\n",
       "      <td>-0.05</td>\n",
       "      <td>3.78</td>\n",
       "      <td>0.25</td>\n",
       "      <td>9.96</td>\n",
       "      <td>16.03</td>\n",
       "      <td>13.4</td>\n",
       "      <td>19.44</td>\n",
       "      <td>14.39</td>\n",
       "    </tr>\n",
       "    <tr>\n",
       "      <th>4</th>\n",
       "      <td>1.95</td>\n",
       "      <td>8.78</td>\n",
       "      <td>5.25</td>\n",
       "      <td>-3.04</td>\n",
       "      <td>21.03</td>\n",
       "      <td>13.4</td>\n",
       "      <td>12.44</td>\n",
       "      <td>-7.61</td>\n",
       "    </tr>\n",
       "  </tbody>\n",
       "</table>\n",
       "</div>"
      ],
      "text/plain": [
       "    math  science     cs  band  english  history  spanish  physed\n",
       "0  -7.05    -5.22  -2.75  3.96   -26.97    -19.6   -26.56    5.39\n",
       "1  12.95    11.78  12.25 -4.04    13.03     16.4     9.44   -4.61\n",
       "2   1.95    -0.22  -2.75  5.96    10.03      8.4    10.44    3.39\n",
       "3  -0.05     3.78   0.25  9.96    16.03     13.4    19.44   14.39\n",
       "4   1.95     8.78   5.25 -3.04    21.03     13.4    12.44   -7.61"
      ]
     },
     "execution_count": 3,
     "metadata": {},
     "output_type": "execute_result"
    }
   ],
   "source": [
    "# 3. Center the data\n",
    "grades_centered = grades - grades.mean()\n",
    "grades_centered.head()"
   ]
  },
  {
   "cell_type": "code",
   "execution_count": 4,
   "id": "1c8daa39-622c-4aeb-bf2c-20598b553db8",
   "metadata": {},
   "outputs": [
    {
     "data": {
      "text/html": [
       "<style>#sk-container-id-1 {color: black;}#sk-container-id-1 pre{padding: 0;}#sk-container-id-1 div.sk-toggleable {background-color: white;}#sk-container-id-1 label.sk-toggleable__label {cursor: pointer;display: block;width: 100%;margin-bottom: 0;padding: 0.3em;box-sizing: border-box;text-align: center;}#sk-container-id-1 label.sk-toggleable__label-arrow:before {content: \"▸\";float: left;margin-right: 0.25em;color: #696969;}#sk-container-id-1 label.sk-toggleable__label-arrow:hover:before {color: black;}#sk-container-id-1 div.sk-estimator:hover label.sk-toggleable__label-arrow:before {color: black;}#sk-container-id-1 div.sk-toggleable__content {max-height: 0;max-width: 0;overflow: hidden;text-align: left;background-color: #f0f8ff;}#sk-container-id-1 div.sk-toggleable__content pre {margin: 0.2em;color: black;border-radius: 0.25em;background-color: #f0f8ff;}#sk-container-id-1 input.sk-toggleable__control:checked~div.sk-toggleable__content {max-height: 200px;max-width: 100%;overflow: auto;}#sk-container-id-1 input.sk-toggleable__control:checked~label.sk-toggleable__label-arrow:before {content: \"▾\";}#sk-container-id-1 div.sk-estimator input.sk-toggleable__control:checked~label.sk-toggleable__label {background-color: #d4ebff;}#sk-container-id-1 div.sk-label input.sk-toggleable__control:checked~label.sk-toggleable__label {background-color: #d4ebff;}#sk-container-id-1 input.sk-hidden--visually {border: 0;clip: rect(1px 1px 1px 1px);clip: rect(1px, 1px, 1px, 1px);height: 1px;margin: -1px;overflow: hidden;padding: 0;position: absolute;width: 1px;}#sk-container-id-1 div.sk-estimator {font-family: monospace;background-color: #f0f8ff;border: 1px dotted black;border-radius: 0.25em;box-sizing: border-box;margin-bottom: 0.5em;}#sk-container-id-1 div.sk-estimator:hover {background-color: #d4ebff;}#sk-container-id-1 div.sk-parallel-item::after {content: \"\";width: 100%;border-bottom: 1px solid gray;flex-grow: 1;}#sk-container-id-1 div.sk-label:hover label.sk-toggleable__label {background-color: #d4ebff;}#sk-container-id-1 div.sk-serial::before {content: \"\";position: absolute;border-left: 1px solid gray;box-sizing: border-box;top: 0;bottom: 0;left: 50%;z-index: 0;}#sk-container-id-1 div.sk-serial {display: flex;flex-direction: column;align-items: center;background-color: white;padding-right: 0.2em;padding-left: 0.2em;position: relative;}#sk-container-id-1 div.sk-item {position: relative;z-index: 1;}#sk-container-id-1 div.sk-parallel {display: flex;align-items: stretch;justify-content: center;background-color: white;position: relative;}#sk-container-id-1 div.sk-item::before, #sk-container-id-1 div.sk-parallel-item::before {content: \"\";position: absolute;border-left: 1px solid gray;box-sizing: border-box;top: 0;bottom: 0;left: 50%;z-index: -1;}#sk-container-id-1 div.sk-parallel-item {display: flex;flex-direction: column;z-index: 1;position: relative;background-color: white;}#sk-container-id-1 div.sk-parallel-item:first-child::after {align-self: flex-end;width: 50%;}#sk-container-id-1 div.sk-parallel-item:last-child::after {align-self: flex-start;width: 50%;}#sk-container-id-1 div.sk-parallel-item:only-child::after {width: 0;}#sk-container-id-1 div.sk-dashed-wrapped {border: 1px dashed gray;margin: 0 0.4em 0.5em 0.4em;box-sizing: border-box;padding-bottom: 0.4em;background-color: white;}#sk-container-id-1 div.sk-label label {font-family: monospace;font-weight: bold;display: inline-block;line-height: 1.2em;}#sk-container-id-1 div.sk-label-container {text-align: center;}#sk-container-id-1 div.sk-container {/* jupyter's `normalize.less` sets `[hidden] { display: none; }` but bootstrap.min.css set `[hidden] { display: none !important; }` so we also need the `!important` here to be able to override the default hidden behavior on the sphinx rendered scikit-learn.org. See: https://github.com/scikit-learn/scikit-learn/issues/21755 */display: inline-block !important;position: relative;}#sk-container-id-1 div.sk-text-repr-fallback {display: none;}</style><div id=\"sk-container-id-1\" class=\"sk-top-container\"><div class=\"sk-text-repr-fallback\"><pre>PCA(n_components=2)</pre><b>In a Jupyter environment, please rerun this cell to show the HTML representation or trust the notebook. <br />On GitHub, the HTML representation is unable to render, please try loading this page with nbviewer.org.</b></div><div class=\"sk-container\" hidden><div class=\"sk-item\"><div class=\"sk-estimator sk-toggleable\"><input class=\"sk-toggleable__control sk-hidden--visually\" id=\"sk-estimator-id-1\" type=\"checkbox\" checked><label for=\"sk-estimator-id-1\" class=\"sk-toggleable__label sk-toggleable__label-arrow\">PCA</label><div class=\"sk-toggleable__content\"><pre>PCA(n_components=2)</pre></div></div></div></div></div>"
      ],
      "text/plain": [
       "PCA(n_components=2)"
      ]
     },
     "execution_count": 4,
     "metadata": {},
     "output_type": "execute_result"
    }
   ],
   "source": [
    "# 4. Fit a PCA model with 2 components\n",
    "from sklearn.decomposition import PCA\n",
    "\n",
    "pca = PCA(n_components=2)\n",
    "pca.fit(grades_centered)"
   ]
  },
  {
   "cell_type": "code",
   "execution_count": 5,
   "id": "f24ff184-d75c-4e82-84de-e0d940e54cab",
   "metadata": {},
   "outputs": [
    {
     "data": {
      "text/plain": [
       "array([0.81844937, 0.09778153])"
      ]
     },
     "execution_count": 5,
     "metadata": {},
     "output_type": "execute_result"
    }
   ],
   "source": [
    "# 5. View and interpret the explained variance ratios: these two components capture 90% of the variation in the data\n",
    "pca.explained_variance_ratio_"
   ]
  },
  {
   "cell_type": "markdown",
   "id": "48643538-7265-48d2-9076-0015d16c65cb",
   "metadata": {},
   "source": [
    "## 2. Interpreting PCA "
   ]
  },
  {
   "cell_type": "code",
   "execution_count": 6,
   "id": "9a2db95b-9c19-4103-b64d-049ae22ba5de",
   "metadata": {},
   "outputs": [],
   "source": [
    "# 1. View and interpret the components of the PCA model"
   ]
  },
  {
   "cell_type": "code",
   "execution_count": 7,
   "id": "6f893de4-e1e4-49b0-9088-412e6ca9c95c",
   "metadata": {},
   "outputs": [
    {
     "data": {
      "text/plain": [
       "array([[ 0.34433892,  0.34662586,  0.32733313, -0.00417335,  0.45552196,\n",
       "         0.46095972,  0.48354746,  0.01773586],\n",
       "       [ 0.45069884,  0.44923506,  0.47433583,  0.096715  , -0.33260806,\n",
       "        -0.31949261, -0.35110809,  0.15725648]])"
      ]
     },
     "execution_count": 7,
     "metadata": {},
     "output_type": "execute_result"
    }
   ],
   "source": [
    "# view the components\n",
    "pca.components_"
   ]
  },
  {
   "cell_type": "code",
   "execution_count": 8,
   "id": "65db78e7-64f3-4a10-855a-1997e544799c",
   "metadata": {},
   "outputs": [
    {
     "data": {
      "text/plain": [
       "Index(['math', 'science', 'cs', 'band', 'english', 'history', 'spanish',\n",
       "       'physed'],\n",
       "      dtype='object')"
      ]
     },
     "execution_count": 8,
     "metadata": {},
     "output_type": "execute_result"
    }
   ],
   "source": [
    "# view the columns\n",
    "grades.columns"
   ]
  },
  {
   "cell_type": "markdown",
   "id": "533e986e-62b0-42d0-9a53-ccb4cc5eba29",
   "metadata": {},
   "source": [
    "**Component interpretation:**\n",
    "* PC1: higher = better grades in general\n",
    "* PC2: higher = good at math / science / cs, lower = good at english / history / spanish"
   ]
  },
  {
   "cell_type": "code",
   "execution_count": 9,
   "id": "d17944dc-c0f6-47e0-b472-719f97f91f4f",
   "metadata": {},
   "outputs": [],
   "source": [
    "# 2. Plot the students on a scatter plot with the x-axis as PC 1 and the y-axis as PC 2"
   ]
  },
  {
   "cell_type": "code",
   "execution_count": 10,
   "id": "1974cb46-080c-403f-a008-7119271ffa82",
   "metadata": {},
   "outputs": [
    {
     "data": {
      "text/html": [
       "<div>\n",
       "<style scoped>\n",
       "    .dataframe tbody tr th:only-of-type {\n",
       "        vertical-align: middle;\n",
       "    }\n",
       "\n",
       "    .dataframe tbody tr th {\n",
       "        vertical-align: top;\n",
       "    }\n",
       "\n",
       "    .dataframe thead th {\n",
       "        text-align: right;\n",
       "    }\n",
       "</style>\n",
       "<table border=\"1\" class=\"dataframe\">\n",
       "  <thead>\n",
       "    <tr style=\"text-align: right;\">\n",
       "      <th></th>\n",
       "      <th>PC1</th>\n",
       "      <th>PC2</th>\n",
       "    </tr>\n",
       "  </thead>\n",
       "  <tbody>\n",
       "    <tr>\n",
       "      <th>0</th>\n",
       "      <td>-39.221331</td>\n",
       "      <td>18.961672</td>\n",
       "    </tr>\n",
       "    <tr>\n",
       "      <th>1</th>\n",
       "      <td>30.547249</td>\n",
       "      <td>2.935450</td>\n",
       "    </tr>\n",
       "    <tr>\n",
       "      <th>2</th>\n",
       "      <td>13.219471</td>\n",
       "      <td>-9.100237</td>\n",
       "    </tr>\n",
       "    <tr>\n",
       "      <th>3</th>\n",
       "      <td>24.467554</td>\n",
       "      <td>-11.418090</td>\n",
       "    </tr>\n",
       "    <tr>\n",
       "      <th>4</th>\n",
       "      <td>27.082869</td>\n",
       "      <td>-9.821059</td>\n",
       "    </tr>\n",
       "  </tbody>\n",
       "</table>\n",
       "</div>"
      ],
      "text/plain": [
       "         PC1        PC2\n",
       "0 -39.221331  18.961672\n",
       "1  30.547249   2.935450\n",
       "2  13.219471  -9.100237\n",
       "3  24.467554 -11.418090\n",
       "4  27.082869  -9.821059"
      ]
     },
     "execution_count": 10,
     "metadata": {},
     "output_type": "execute_result"
    }
   ],
   "source": [
    "# transform the data\n",
    "grades_transformed = pd.DataFrame(pca.transform(grades_centered), columns=['PC1', 'PC2'])\n",
    "grades_transformed.head()"
   ]
  },
  {
   "cell_type": "code",
   "execution_count": 11,
   "id": "8f36bbe4-ceab-45dd-b60c-a8bcbeb602e8",
   "metadata": {},
   "outputs": [
    {
     "data": {
      "image/png": "[encoded data removed]",
      "text/plain": [
       "<Figure size 640x480 with 1 Axes>"
      ]
     },
     "metadata": {},
     "output_type": "display_data"
    }
   ],
   "source": [
    "import matplotlib.pyplot as plt\n",
    "import seaborn as sns\n",
    "\n",
    "sns.scatterplot(x='PC1', y='PC2', data=grades_transformed)\n",
    "plt.xlabel('Better Grades -->')\n",
    "plt.ylabel('<-- Better in Humanities     Better in STEM -->');"
   ]
  },
  {
   "cell_type": "code",
   "execution_count": 12,
   "id": "2e395926-72ef-4aa3-b2db-5bbfe1579355",
   "metadata": {},
   "outputs": [],
   "source": [
    "# 3. Interpret the clusters of students that you see and make recommendations for the guidance counselor"
   ]
  },
  {
   "cell_type": "markdown",
   "id": "951608c4-e884-4db8-b464-e13feb35b081",
   "metadata": {},
   "source": [
    "**Recommendations:**\n",
    "* The students at the top right have high grades and are good in STEM - **recommend top technical universities for them**\n",
    "* The students at the top left are strong in STEM, but could use better grades overall - **encourage them to pursue STEM majors**\n",
    "* The students at the bottom left are strong in humanities, but could use better grades overall - **encourage them to pursue humanities majors**\n",
    "* For the remaining students in the middle - **work with them to help them figure out what type of careers they are interested in**"
   ]
  },
  {
   "cell_type": "markdown",
   "id": "53eb1068-9576-4a22-b0c0-518f19f35b5b",
   "metadata": {},
   "source": [
    "## 3. T-SNE"
   ]
  },
  {
   "cell_type": "code",
   "execution_count": 13,
   "id": "18ef3ee1-163e-415d-9d0d-710b6c821995",
   "metadata": {},
   "outputs": [],
   "source": [
    "# 1. Fit a t-SNE model with 2 components\n",
    "\n",
    "# import tsne from sklearn\n",
    "from sklearn.manifold import TSNE"
   ]
  },
  {
   "cell_type": "code",
   "execution_count": 14,
   "id": "80315f00-fab1-4654-9d2b-bc71a61969f3",
   "metadata": {},
   "outputs": [],
   "source": [
    "# create a tsne object\n",
    "tsne = TSNE(n_components=2, random_state=42)"
   ]
  },
  {
   "cell_type": "code",
   "execution_count": 15,
   "id": "53fc2354-cbc3-4e28-8da0-f82a8ea6387b",
   "metadata": {},
   "outputs": [],
   "source": [
    "# fit a model and transform the data into a lower dimensionality space\n",
    "data_tsne = tsne.fit_transform(grades)"
   ]
  },
  {
   "cell_type": "code",
   "execution_count": 16,
   "id": "0a1997ca-a2e2-4eb5-bbf6-0720149426b1",
   "metadata": {},
   "outputs": [
    {
     "data": {
      "image/png": "[encoded data removed]",
      "text/plain": [
       "<Figure size 640x480 with 1 Axes>"
      ]
     },
     "metadata": {},
     "output_type": "display_data"
    }
   ],
   "source": [
    "# 2. Plot the students on a scatter plot with the x-axis as component 1 and the y-axis as component 2\n",
    "df_tsne = pd.DataFrame(data_tsne,\n",
    "                       columns=['component 1','component 2'])\n",
    "\n",
    "sns.scatterplot(x='component 1',\n",
    "                y='component 2',\n",
    "                data=df_tsne);"
   ]
  },
  {
   "cell_type": "code",
   "execution_count": 17,
   "id": "e3cf6f88-6c8d-43eb-b0d1-9d1d9831c40f",
   "metadata": {},
   "outputs": [],
   "source": [
    "# 3. Interpret the data you see on the plot\n",
    "## there seems to be a small cluster of students at the bottom right\n",
    "## there seem to be three overall clusters"
   ]
  },
  {
   "cell_type": "markdown",
   "id": "98ca0a29-5d97-4294-8f72-8da834be40a5",
   "metadata": {},
   "source": [
    "## 4. T-SNE with Colors"
   ]
  },
  {
   "cell_type": "code",
   "execution_count": 18,
   "id": "de720214-8e11-4240-8122-3a42fa207b67",
   "metadata": {},
   "outputs": [],
   "source": [
    "# 1. Fit a KMeans model with 3 clusters\n",
    "\n",
    "# Import KMeans\n",
    "from sklearn.cluster import KMeans\n",
    "kmeans = KMeans(n_clusters=3, n_init='auto', random_state=42)\n",
    "\n",
    "# Fit the model to the data\n",
    "kmeans.fit(grades)\n",
    "\n",
    "# Get the cluster labels and centroids\n",
    "labels = kmeans.labels_\n",
    "centroids = kmeans.cluster_centers_"
   ]
  },
  {
   "cell_type": "code",
   "execution_count": 19,
   "id": "79a13ed2-a2a8-430c-ba7e-ad2fbf932e8f",
   "metadata": {},
   "outputs": [
    {
     "data": {
      "image/png": "[encoded data removed]",
      "text/plain": [
       "<Figure size 640x480 with 1 Axes>"
      ]
     },
     "metadata": {},
     "output_type": "display_data"
    }
   ],
   "source": [
    "# 2. Overlay the 3 clusters onto a T-SNE plot\n",
    "\n",
    "# Plot the T-SNE results with colors\n",
    "sns.scatterplot(x='component 1',\n",
    "                y='component 2',\n",
    "                data=df_tsne, hue=labels, palette='viridis');"
   ]
  },
  {
   "cell_type": "code",
   "execution_count": 20,
   "id": "b13aa2b0-a61f-4843-91fb-2c858377b959",
   "metadata": {},
   "outputs": [
    {
     "data": {
      "image/png": "[encoded data removed]",
      "text/plain": [
       "<Figure size 1000x200 with 2 Axes>"
      ]
     },
     "metadata": {},
     "output_type": "display_data"
    }
   ],
   "source": [
    "# 3. Interpret the cluster centers\n",
    "\n",
    "# Create a DataFrame for the heatmap\n",
    "centroids_df = pd.DataFrame(centroids, columns=grades.columns)\n",
    "\n",
    "# Create the heatmap\n",
    "plt.figure(figsize=(10, 2))\n",
    "sns.heatmap(centroids_df, annot=True, cmap=\"RdBu\", fmt=\".2f\", linewidths=.5)\n",
    "\n",
    "# Show the plot\n",
    "plt.show()"
   ]
  },
  {
   "cell_type": "markdown",
   "id": "3e9fe66f-ffbc-47d8-8b28-68d23342015e",
   "metadata": {},
   "source": [
    "**Cluster interpretations:**\n",
    "* Cluster 0 are the students who do better in humanities than STEM\n",
    "* Cluster 1 are the students who are struggling\n",
    "* Cluster 2 are the students who are excelling"
   ]
  },
  {
   "cell_type": "code",
   "execution_count": null,
   "id": "da0949df-b4a3-43db-8754-c23d77233769",
   "metadata": {},
   "outputs": [],
   "source": []
  }
 ],
 "metadata": {
  "kernelspec": {
   "display_name": "Python 3 (ipykernel)",
   "language": "python",
   "name": "python3"
  },
  "language_info": {
   "codemirror_mode": {
    "name": "ipython",
    "version": 3
   },
   "file_extension": ".py",
   "mimetype": "text/x-python",
   "name": "python",
   "nbconvert_exporter": "python",
   "pygments_lexer": "ipython3",
   "version": "3.11.5"
  }
 },
 "nbformat": 4,
 "nbformat_minor": 5
}
