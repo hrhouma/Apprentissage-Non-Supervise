{
 "cells": [
  {
   "cell_type": "markdown",
   "id": "47db5d85",
   "metadata": {},
   "source": [
    "# Clustering Project"
   ]
  },
  {
   "cell_type": "markdown",
   "id": "837846a2",
   "metadata": {},
   "source": [
    "## 1. Data Prep"
   ]
  },
  {
   "cell_type": "code",
   "execution_count": 1,
   "id": "e78e3514-f67c-4576-a35f-4e7eb3459b63",
   "metadata": {},
   "outputs": [],
   "source": [
    "# a. Read in the data file wholesale_clients.csv\n"
   ]
  },
  {
   "cell_type": "code",
   "execution_count": 2,
   "id": "3c43396f-5a47-4d9b-bfa6-53df16f32857",
   "metadata": {},
   "outputs": [],
   "source": [
    "# b. Remove the Channel (restaurant, hotel, etc.) and Region columns since they are not fields we want to model on\n"
   ]
  },
  {
   "cell_type": "code",
   "execution_count": 3,
   "id": "98835dad-c468-4d1b-accc-29aa3ddfe5c1",
   "metadata": {},
   "outputs": [],
   "source": [
    "# c. Note the number of rows and columns\n"
   ]
  },
  {
   "cell_type": "code",
   "execution_count": 4,
   "id": "e33b6fd3-3a6b-4231-828a-929de4c93667",
   "metadata": {},
   "outputs": [],
   "source": [
    "# d. Standardize the data\n"
   ]
  },
  {
   "cell_type": "code",
   "execution_count": 5,
   "id": "4f22cb86-4668-44a9-9625-043039ebc700",
   "metadata": {},
   "outputs": [],
   "source": [
    "# e. Double check that all the column means are 0 and standard deviations are 1\n"
   ]
  },
  {
   "cell_type": "markdown",
   "id": "e7d6253e",
   "metadata": {},
   "source": [
    "## 2. K-Means Clustering"
   ]
  },
  {
   "cell_type": "code",
   "execution_count": 6,
   "id": "d9f51ebf-5e44-459f-9606-5f283d4d7abc",
   "metadata": {},
   "outputs": [],
   "source": [
    "# a. Import KMeans and write a loop to fit models with 2 to 15 clusters\n"
   ]
  },
  {
   "cell_type": "code",
   "execution_count": 7,
   "id": "4437e747-a1ca-4edd-a822-370dadb70ba5",
   "metadata": {},
   "outputs": [],
   "source": [
    "# b. Create an inertia plot\n"
   ]
  },
  {
   "cell_type": "code",
   "execution_count": 8,
   "id": "b2e5a97d-3277-42dd-bc69-7087f514f150",
   "metadata": {},
   "outputs": [],
   "source": [
    "# c. Identify the elbow of the plot and fit a KMeans model just for that number of clusters\n"
   ]
  },
  {
   "cell_type": "code",
   "execution_count": 9,
   "id": "d7ab4d79-5bb8-4cbd-a867-a5d6d45f37ba",
   "metadata": {},
   "outputs": [],
   "source": [
    "# d. Find the number of clients in each cluster\n"
   ]
  },
  {
   "cell_type": "code",
   "execution_count": 10,
   "id": "4331f6ee-9d23-46b1-ad13-36e759e9dd38",
   "metadata": {},
   "outputs": [],
   "source": [
    "# e. Create a heat map of the cluster centers\n"
   ]
  },
  {
   "cell_type": "code",
   "execution_count": 11,
   "id": "926ff878-8f31-4e21-a995-f90ec0cf74b0",
   "metadata": {},
   "outputs": [],
   "source": [
    "# f. Name the clusters\n"
   ]
  },
  {
   "cell_type": "code",
   "execution_count": 12,
   "id": "9bfa13bf-9178-48eb-97b0-dfc51ea1e93d",
   "metadata": {},
   "outputs": [],
   "source": [
    "# g. Extra credit: create a silhouette scores plot instead of an inertia plot\n"
   ]
  },
  {
   "cell_type": "code",
   "execution_count": 13,
   "id": "231f9c02-2467-48b3-933e-8b8794dab730",
   "metadata": {},
   "outputs": [],
   "source": [
    "# h. Extra credit: fit two models with the number of clusters for the two highest silhouette scores and name the clusters\n"
   ]
  },
  {
   "cell_type": "markdown",
   "id": "7287f5f6",
   "metadata": {},
   "source": [
    "## 3. Hierarchical Clustering"
   ]
  },
  {
   "cell_type": "code",
   "execution_count": 14,
   "id": "a1f03769-d2af-4a14-bfde-0c29d085f143",
   "metadata": {},
   "outputs": [],
   "source": [
    "# a. Create a dendrogram using the scaled data\n"
   ]
  },
  {
   "cell_type": "code",
   "execution_count": 15,
   "id": "831132bb-ac78-4ab1-9620-fa901b3ee536",
   "metadata": {},
   "outputs": [],
   "source": [
    "# b. Visually identify the number of clusters and update the color threadshold, if necessary\n"
   ]
  },
  {
   "cell_type": "code",
   "execution_count": 16,
   "id": "8daf35d0-82b9-4c0c-abce-e75aa334af8a",
   "metadata": {},
   "outputs": [],
   "source": [
    "# c. Fit an agglomerative clustering model on the scaled data set with the \"best\" clusters and view the number of data points in each cluster\n"
   ]
  },
  {
   "cell_type": "code",
   "execution_count": 17,
   "id": "228c3e53-d8a6-4262-bd84-c0d443a8a22c",
   "metadata": {},
   "outputs": [],
   "source": [
    "# d. Create a cluster map of the model you just fit\n"
   ]
  },
  {
   "cell_type": "code",
   "execution_count": 18,
   "id": "73f9433a-d268-46cf-a743-9850ddbcf207",
   "metadata": {},
   "outputs": [],
   "source": [
    "# e. Extra credit: within the clustermap function, add z_score=0 (scales data by row), see what happens and interpret the clusters\n"
   ]
  },
  {
   "cell_type": "code",
   "execution_count": 19,
   "id": "5d53404c-298d-4a2a-a4b5-c6b0555b09bd",
   "metadata": {},
   "outputs": [],
   "source": [
    "# f. Extra credit: write a loop to view the silhouette score for 2 to 20 clusters\n"
   ]
  },
  {
   "cell_type": "code",
   "execution_count": 20,
   "id": "444e8839-ef19-45b4-a725-aae115b33746",
   "metadata": {},
   "outputs": [],
   "source": [
    "# g. Extra credit: fit a model with the number of clusters for the highest silhouette score\n"
   ]
  },
  {
   "cell_type": "markdown",
   "id": "d4345728",
   "metadata": {},
   "source": [
    "## 4. DBSCAN"
   ]
  },
  {
   "cell_type": "code",
   "execution_count": 21,
   "id": "ce5dc888-5400-4aad-9163-b54c96f28fe8",
   "metadata": {},
   "outputs": [],
   "source": [
    "# a. Copy over the tune_dbscan function from the demo code\n"
   ]
  },
  {
   "cell_type": "code",
   "execution_count": 22,
   "id": "3cda7332-5ed9-4ea1-bbff-5b91367fa9f7",
   "metadata": {},
   "outputs": [],
   "source": [
    "# b. Apply the dbscan function on the scaled data\n"
   ]
  },
  {
   "cell_type": "code",
   "execution_count": 23,
   "id": "f36dce36-d878-4beb-970d-22e72ea1acfc",
   "metadata": {},
   "outputs": [],
   "source": [
    "# c. Sort the data by highest silhouette score\n"
   ]
  },
  {
   "cell_type": "code",
   "execution_count": 24,
   "id": "1c472ea2-0dc2-4f2f-aea8-b1c8afd690b3",
   "metadata": {},
   "outputs": [],
   "source": [
    "# d. Notice that the top eps value is close to 2, so update the function to test eps values up to 5 (instead of 2)\n"
   ]
  },
  {
   "cell_type": "code",
   "execution_count": 25,
   "id": "0ce0ceb4-e1da-4505-b321-afad3f95697f",
   "metadata": {},
   "outputs": [],
   "source": [
    "# e. Try applying the function again and view the top silhouette scores\n"
   ]
  },
  {
   "cell_type": "code",
   "execution_count": 26,
   "id": "df8f6026-9f17-4063-a48d-07eabb685c19",
   "metadata": {},
   "outputs": [],
   "source": [
    "# f. Fit a DBSCAN model on the scaled data set with the best eps + min_samples values and view the number of data points in each cluster\n"
   ]
  },
  {
   "cell_type": "markdown",
   "id": "b6ea14e2",
   "metadata": {},
   "source": [
    "## 5. Compare Techniques"
   ]
  },
  {
   "cell_type": "markdown",
   "id": "b677217f-1487-465d-99ce-7333a179b032",
   "metadata": {},
   "source": [
    "For each of the following 5 models, fit the model on the scaled data, note down the number of data points in each cluster and record the silhouette score:\n",
    "1. K-Means with 3 clusters\n",
    "2. K-Means with 5 clusters\n",
    "3. Hiearchical Clustering with 2 clusters\n",
    "4. Hierarchical Clustering with 5 clusters\n",
    "5. DBSCAN with 2 clusters"
   ]
  },
  {
   "cell_type": "code",
   "execution_count": null,
   "id": "c300f096-8bfa-4a99-8626-42ee3b98d121",
   "metadata": {},
   "outputs": [],
   "source": []
  },
  {
   "cell_type": "code",
   "execution_count": null,
   "id": "b20430f2-7b14-452e-bb40-fd01622afed7",
   "metadata": {},
   "outputs": [],
   "source": []
  },
  {
   "cell_type": "code",
   "execution_count": null,
   "id": "a4183573-7341-4895-bdf2-c8f1e2914540",
   "metadata": {},
   "outputs": [],
   "source": []
  },
  {
   "cell_type": "code",
   "execution_count": null,
   "id": "426ca73b-f86b-4da0-8a93-ce3303ffc41f",
   "metadata": {},
   "outputs": [],
   "source": []
  },
  {
   "cell_type": "code",
   "execution_count": null,
   "id": "65df9cfc-0427-4418-93b8-3f2affa03492",
   "metadata": {},
   "outputs": [],
   "source": []
  },
  {
   "cell_type": "markdown",
   "id": "5a2c426b-1ed0-4f7a-8a4f-46472595332b",
   "metadata": {},
   "source": [
    "## 6. Recommend Client Segments"
   ]
  },
  {
   "cell_type": "code",
   "execution_count": 27,
   "id": "57b14bc7-ad7f-409f-86d7-7a46ab4de875",
   "metadata": {},
   "outputs": [],
   "source": [
    "# a. With the top model as the K-Means model with 3 clusters, review the results again\n"
   ]
  },
  {
   "cell_type": "code",
   "execution_count": 28,
   "id": "9cb15bda-f5fc-4434-9a9b-f75f0cab2588",
   "metadata": {},
   "outputs": [],
   "source": [
    "# b. Clearly state what you would recommend as client segments and how you would better support those clients\n"
   ]
  },
  {
   "cell_type": "markdown",
   "id": "9c18556a-f1f1-48be-a01a-125550feb7ed",
   "metadata": {},
   "source": [
    "## 7. Predict the Cluster of a New Client"
   ]
  },
  {
   "cell_type": "code",
   "execution_count": 29,
   "id": "a6730be6-0952-4f04-9925-e11add569789",
   "metadata": {},
   "outputs": [
    {
     "data": {
      "text/html": [
       "<div>\n",
       "<style scoped>\n",
       "    .dataframe tbody tr th:only-of-type {\n",
       "        vertical-align: middle;\n",
       "    }\n",
       "\n",
       "    .dataframe tbody tr th {\n",
       "        vertical-align: top;\n",
       "    }\n",
       "\n",
       "    .dataframe thead th {\n",
       "        text-align: right;\n",
       "    }\n",
       "</style>\n",
       "<table border=\"1\" class=\"dataframe\">\n",
       "  <thead>\n",
       "    <tr style=\"text-align: right;\">\n",
       "      <th></th>\n",
       "      <th>Fresh</th>\n",
       "      <th>Milk</th>\n",
       "      <th>Grocery</th>\n",
       "      <th>Frozen</th>\n",
       "      <th>Detergents_Paper</th>\n",
       "      <th>Delicassen</th>\n",
       "    </tr>\n",
       "  </thead>\n",
       "  <tbody>\n",
       "    <tr>\n",
       "      <th>0</th>\n",
       "      <td>15000</td>\n",
       "      <td>15000</td>\n",
       "      <td>30000</td>\n",
       "      <td>500</td>\n",
       "      <td>15000</td>\n",
       "      <td>2000</td>\n",
       "    </tr>\n",
       "  </tbody>\n",
       "</table>\n",
       "</div>"
      ],
      "text/plain": [
       "   Fresh   Milk  Grocery  Frozen  Detergents_Paper  Delicassen\n",
       "0  15000  15000    30000     500             15000        2000"
      ]
     },
     "execution_count": 29,
     "metadata": {},
     "output_type": "execute_result"
    }
   ],
   "source": [
    "# a. Given this new client, determine which cluster they fall into\n",
    "import pandas as pd\n",
    "import numpy as np\n",
    "\n",
    "new_client = pd.DataFrame([np.array([15000, 15000, 30000, 500, 15000, 2000])],\n",
    "                          columns=['Fresh', 'Milk', 'Grocery', 'Frozen', 'Detergents_Paper', 'Delicassen'])\n",
    "new_client"
   ]
  },
  {
   "cell_type": "code",
   "execution_count": 30,
   "id": "9c816678-4c90-42ee-8816-345bf5103696",
   "metadata": {},
   "outputs": [],
   "source": [
    "# b. Scale the new client data using the same scaler object from the Data Prep step\n"
   ]
  },
  {
   "cell_type": "code",
   "execution_count": 31,
   "id": "3e72818b-e46f-4a31-a49a-fd9a1211ac14",
   "metadata": {},
   "outputs": [],
   "source": [
    "# c. Make a prediction using the K-Means model with 3 clusters\n"
   ]
  },
  {
   "cell_type": "code",
   "execution_count": 32,
   "id": "dc8beecc-624a-41b7-9a54-7b9112eedeb8",
   "metadata": {},
   "outputs": [],
   "source": [
    "# d. Which cluster does the new client belong to?\n"
   ]
  },
  {
   "cell_type": "code",
   "execution_count": null,
   "id": "7312d949-809d-4063-a1bd-e3ed05555943",
   "metadata": {},
   "outputs": [],
   "source": []
  }
 ],
 "metadata": {
  "kernelspec": {
   "display_name": "Python 3 (ipykernel)",
   "language": "python",
   "name": "python3"
  },
  "language_info": {
   "codemirror_mode": {
    "name": "ipython",
    "version": 3
   },
   "file_extension": ".py",
   "mimetype": "text/x-python",
   "name": "python",
   "nbconvert_exporter": "python",
   "pygments_lexer": "ipython3",
   "version": "3.11.5"
  }
 },
 "nbformat": 4,
 "nbformat_minor": 5
}
