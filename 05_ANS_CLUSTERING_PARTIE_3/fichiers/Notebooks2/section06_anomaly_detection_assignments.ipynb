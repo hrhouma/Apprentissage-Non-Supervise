{
 "cells": [
  {
   "cell_type": "markdown",
   "id": "2e06331e",
   "metadata": {},
   "source": [
    "# Anomaly Detection Assignments"
   ]
  },
  {
   "cell_type": "markdown",
   "id": "8303079a-ad0a-4b50-af94-fb25155cb09f",
   "metadata": {},
   "source": [
    "## 1. Isolation Forests"
   ]
  },
  {
   "cell_type": "code",
   "execution_count": null,
   "id": "158b50ab-f146-455d-be00-ead16ea81da5",
   "metadata": {},
   "outputs": [],
   "source": [
    "# 1a. Open the tripadvisor_reviews.csv file\n"
   ]
  },
  {
   "cell_type": "code",
   "execution_count": null,
   "id": "50a8ba30-8d6b-4d9c-a91f-ae8b3d041a9d",
   "metadata": {},
   "outputs": [],
   "source": [
    "# 1b. Remove the user_id column\n"
   ]
  },
  {
   "cell_type": "code",
   "execution_count": null,
   "id": "f4aa3dca-8e0e-428a-a962-37eaebb7d539",
   "metadata": {},
   "outputs": [],
   "source": [
    "# 1c. View the min and max of each rating\n"
   ]
  },
  {
   "cell_type": "code",
   "execution_count": null,
   "id": "dd65eba0-c8f0-49a3-9dff-b375bb3e01b1",
   "metadata": {},
   "outputs": [],
   "source": [
    "# 2. Visualize the data using a seaborn pair plot\n"
   ]
  },
  {
   "cell_type": "code",
   "execution_count": null,
   "id": "04c7ca23-d457-4cbd-a228-7067d56d4bfa",
   "metadata": {},
   "outputs": [],
   "source": [
    "# 3. Fit an Isolation Forest model using a contamination of 1%\n"
   ]
  },
  {
   "cell_type": "code",
   "execution_count": null,
   "id": "92f03352-8810-4ca6-bbbe-318ca7ebfa50",
   "metadata": {},
   "outputs": [],
   "source": [
    "# 4. Visualize the anomalies on the seaborn pair plot\n"
   ]
  },
  {
   "cell_type": "code",
   "execution_count": null,
   "id": "9675365d-79eb-44b2-b80e-7d03fbb6c895",
   "metadata": {},
   "outputs": [],
   "source": [
    "# 5. Where do you notice anomalies in the pair plot?\n"
   ]
  },
  {
   "cell_type": "code",
   "execution_count": null,
   "id": "b543daea-846e-4ff4-8bef-fb1ebd59b76c",
   "metadata": {},
   "outputs": [],
   "source": [
    "# 6. Modify the contamination to 0.5% to capture fewer anomalies and visualize the differences\n"
   ]
  },
  {
   "cell_type": "markdown",
   "id": "83e325cb",
   "metadata": {},
   "source": [
    "## 2. DBSCAN"
   ]
  },
  {
   "cell_type": "code",
   "execution_count": null,
   "id": "a01b5d4f",
   "metadata": {},
   "outputs": [],
   "source": [
    "# 1. Paste the DBSCAN function from the anomaly detection demo notebook that loops through multiple eps and min_samples values to fit multiple DBSCAN models\n"
   ]
  },
  {
   "cell_type": "code",
   "execution_count": null,
   "id": "e9a3d870",
   "metadata": {},
   "outputs": [],
   "source": [
    "# 2. Apply the function on the tourist rating data set\n"
   ]
  },
  {
   "cell_type": "code",
   "execution_count": null,
   "id": "085a18f0-01e1-438b-85df-0cc60f535af7",
   "metadata": {},
   "outputs": [],
   "source": [
    "# 3. Find the highest silhouette score and note down the eps and min_samples values\n"
   ]
  },
  {
   "cell_type": "code",
   "execution_count": null,
   "id": "7327fdc3",
   "metadata": {},
   "outputs": [],
   "source": [
    "# 4. Fit a single DBSCAN model using those eps and min_sample values\n"
   ]
  },
  {
   "cell_type": "code",
   "execution_count": null,
   "id": "844db2b6-6470-445d-8419-a0dfc294dd78",
   "metadata": {},
   "outputs": [],
   "source": [
    "# 5. Note the anomalies (-1) and visualize them on a pair plot\n"
   ]
  },
  {
   "cell_type": "code",
   "execution_count": null,
   "id": "5c6e21d3-2712-42a9-b021-7d092aeecb9d",
   "metadata": {},
   "outputs": [],
   "source": []
  }
 ],
 "metadata": {
  "kernelspec": {
   "display_name": "Python 3 (ipykernel)",
   "language": "python",
   "name": "python3"
  },
  "language_info": {
   "codemirror_mode": {
    "name": "ipython",
    "version": 3
   },
   "file_extension": ".py",
   "mimetype": "text/x-python",
   "name": "python",
   "nbconvert_exporter": "python",
   "pygments_lexer": "ipython3",
   "version": "3.11.5"
  }
 },
 "nbformat": 4,
 "nbformat_minor": 5
}
