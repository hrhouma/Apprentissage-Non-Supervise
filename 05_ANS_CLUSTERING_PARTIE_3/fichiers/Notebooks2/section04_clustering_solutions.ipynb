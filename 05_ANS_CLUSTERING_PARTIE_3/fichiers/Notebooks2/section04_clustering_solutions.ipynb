{
 "cells": [
  {
   "cell_type": "markdown",
   "id": "8ee8137d",
   "metadata": {},
   "source": [
    "# Clustering Assignment Solutions"
   ]
  },
  {
   "cell_type": "markdown",
   "id": "6a8cae99",
   "metadata": {},
   "source": [
    "## 1. K-Means Clustering"
   ]
  },
  {
   "cell_type": "code",
   "execution_count": 1,
   "id": "dc371657",
   "metadata": {},
   "outputs": [
    {
     "data": {
      "text/html": [
       "<div>\n",
       "<style scoped>\n",
       "    .dataframe tbody tr th:only-of-type {\n",
       "        vertical-align: middle;\n",
       "    }\n",
       "\n",
       "    .dataframe tbody tr th {\n",
       "        vertical-align: top;\n",
       "    }\n",
       "\n",
       "    .dataframe thead th {\n",
       "        text-align: right;\n",
       "    }\n",
       "</style>\n",
       "<table border=\"1\" class=\"dataframe\">\n",
       "  <thead>\n",
       "    <tr style=\"text-align: right;\">\n",
       "      <th></th>\n",
       "      <th>Cereal Name</th>\n",
       "      <th>Manufacturer</th>\n",
       "      <th>Calories</th>\n",
       "      <th>Protein (g)</th>\n",
       "      <th>Fat</th>\n",
       "      <th>Sugars</th>\n",
       "      <th>Vitamins and Minerals</th>\n",
       "    </tr>\n",
       "  </thead>\n",
       "  <tbody>\n",
       "    <tr>\n",
       "      <th>0</th>\n",
       "      <td>100%_Bran</td>\n",
       "      <td>Nabisco</td>\n",
       "      <td>70</td>\n",
       "      <td>4</td>\n",
       "      <td>1</td>\n",
       "      <td>6</td>\n",
       "      <td>25</td>\n",
       "    </tr>\n",
       "    <tr>\n",
       "      <th>1</th>\n",
       "      <td>100%_Natural_Bran</td>\n",
       "      <td>Quaker Oats</td>\n",
       "      <td>120</td>\n",
       "      <td>3</td>\n",
       "      <td>5</td>\n",
       "      <td>8</td>\n",
       "      <td>0</td>\n",
       "    </tr>\n",
       "    <tr>\n",
       "      <th>2</th>\n",
       "      <td>All-Bran</td>\n",
       "      <td>Kelloggs</td>\n",
       "      <td>70</td>\n",
       "      <td>4</td>\n",
       "      <td>1</td>\n",
       "      <td>5</td>\n",
       "      <td>25</td>\n",
       "    </tr>\n",
       "    <tr>\n",
       "      <th>3</th>\n",
       "      <td>All-Bran_with_Extra_Fiber</td>\n",
       "      <td>Kelloggs</td>\n",
       "      <td>50</td>\n",
       "      <td>4</td>\n",
       "      <td>0</td>\n",
       "      <td>0</td>\n",
       "      <td>25</td>\n",
       "    </tr>\n",
       "    <tr>\n",
       "      <th>4</th>\n",
       "      <td>Almond_Delight</td>\n",
       "      <td>Ralston Purina</td>\n",
       "      <td>110</td>\n",
       "      <td>2</td>\n",
       "      <td>2</td>\n",
       "      <td>8</td>\n",
       "      <td>25</td>\n",
       "    </tr>\n",
       "  </tbody>\n",
       "</table>\n",
       "</div>"
      ],
      "text/plain": [
       "                 Cereal Name    Manufacturer  Calories  Protein (g)  Fat  \\\n",
       "0                  100%_Bran         Nabisco        70            4    1   \n",
       "1          100%_Natural_Bran     Quaker Oats       120            3    5   \n",
       "2                   All-Bran        Kelloggs        70            4    1   \n",
       "3  All-Bran_with_Extra_Fiber        Kelloggs        50            4    0   \n",
       "4             Almond_Delight  Ralston Purina       110            2    2   \n",
       "\n",
       "   Sugars  Vitamins and Minerals  \n",
       "0       6                     25  \n",
       "1       8                      0  \n",
       "2       5                     25  \n",
       "3       0                     25  \n",
       "4       8                     25  "
      ]
     },
     "execution_count": 1,
     "metadata": {},
     "output_type": "execute_result"
    }
   ],
   "source": [
    "# 1. Read in the cereal.csv file\n",
    "import pandas as pd\n",
    "\n",
    "df = pd.read_csv('../Data/cereal.csv')\n",
    "df.head()"
   ]
  },
  {
   "cell_type": "code",
   "execution_count": 2,
   "id": "6e1fe5d8",
   "metadata": {},
   "outputs": [
    {
     "data": {
      "text/html": [
       "<div>\n",
       "<style scoped>\n",
       "    .dataframe tbody tr th:only-of-type {\n",
       "        vertical-align: middle;\n",
       "    }\n",
       "\n",
       "    .dataframe tbody tr th {\n",
       "        vertical-align: top;\n",
       "    }\n",
       "\n",
       "    .dataframe thead th {\n",
       "        text-align: right;\n",
       "    }\n",
       "</style>\n",
       "<table border=\"1\" class=\"dataframe\">\n",
       "  <thead>\n",
       "    <tr style=\"text-align: right;\">\n",
       "      <th></th>\n",
       "      <th>Calories</th>\n",
       "      <th>Protein (g)</th>\n",
       "      <th>Fat</th>\n",
       "      <th>Sugars</th>\n",
       "      <th>Vitamins and Minerals</th>\n",
       "    </tr>\n",
       "  </thead>\n",
       "  <tbody>\n",
       "    <tr>\n",
       "      <th>0</th>\n",
       "      <td>70</td>\n",
       "      <td>4</td>\n",
       "      <td>1</td>\n",
       "      <td>6</td>\n",
       "      <td>25</td>\n",
       "    </tr>\n",
       "    <tr>\n",
       "      <th>1</th>\n",
       "      <td>120</td>\n",
       "      <td>3</td>\n",
       "      <td>5</td>\n",
       "      <td>8</td>\n",
       "      <td>0</td>\n",
       "    </tr>\n",
       "    <tr>\n",
       "      <th>2</th>\n",
       "      <td>70</td>\n",
       "      <td>4</td>\n",
       "      <td>1</td>\n",
       "      <td>5</td>\n",
       "      <td>25</td>\n",
       "    </tr>\n",
       "    <tr>\n",
       "      <th>3</th>\n",
       "      <td>50</td>\n",
       "      <td>4</td>\n",
       "      <td>0</td>\n",
       "      <td>0</td>\n",
       "      <td>25</td>\n",
       "    </tr>\n",
       "    <tr>\n",
       "      <th>4</th>\n",
       "      <td>110</td>\n",
       "      <td>2</td>\n",
       "      <td>2</td>\n",
       "      <td>8</td>\n",
       "      <td>25</td>\n",
       "    </tr>\n",
       "  </tbody>\n",
       "</table>\n",
       "</div>"
      ],
      "text/plain": [
       "   Calories  Protein (g)  Fat  Sugars  Vitamins and Minerals\n",
       "0        70            4    1       6                     25\n",
       "1       120            3    5       8                      0\n",
       "2        70            4    1       5                     25\n",
       "3        50            4    0       0                     25\n",
       "4       110            2    2       8                     25"
      ]
     },
     "execution_count": 2,
     "metadata": {},
     "output_type": "execute_result"
    }
   ],
   "source": [
    "# 2. Prep the data by dropping the name and manufacturer columns: aka only keep the numeric columns\n",
    "data = df[['Calories', 'Protein (g)', 'Fat', 'Sugars', 'Vitamins and Minerals']]\n",
    "data.head()"
   ]
  },
  {
   "cell_type": "code",
   "execution_count": 3,
   "id": "57950e11",
   "metadata": {},
   "outputs": [
    {
     "data": {
      "text/html": [
       "<style>#sk-container-id-1 {color: black;}#sk-container-id-1 pre{padding: 0;}#sk-container-id-1 div.sk-toggleable {background-color: white;}#sk-container-id-1 label.sk-toggleable__label {cursor: pointer;display: block;width: 100%;margin-bottom: 0;padding: 0.3em;box-sizing: border-box;text-align: center;}#sk-container-id-1 label.sk-toggleable__label-arrow:before {content: \"▸\";float: left;margin-right: 0.25em;color: #696969;}#sk-container-id-1 label.sk-toggleable__label-arrow:hover:before {color: black;}#sk-container-id-1 div.sk-estimator:hover label.sk-toggleable__label-arrow:before {color: black;}#sk-container-id-1 div.sk-toggleable__content {max-height: 0;max-width: 0;overflow: hidden;text-align: left;background-color: #f0f8ff;}#sk-container-id-1 div.sk-toggleable__content pre {margin: 0.2em;color: black;border-radius: 0.25em;background-color: #f0f8ff;}#sk-container-id-1 input.sk-toggleable__control:checked~div.sk-toggleable__content {max-height: 200px;max-width: 100%;overflow: auto;}#sk-container-id-1 input.sk-toggleable__control:checked~label.sk-toggleable__label-arrow:before {content: \"▾\";}#sk-container-id-1 div.sk-estimator input.sk-toggleable__control:checked~label.sk-toggleable__label {background-color: #d4ebff;}#sk-container-id-1 div.sk-label input.sk-toggleable__control:checked~label.sk-toggleable__label {background-color: #d4ebff;}#sk-container-id-1 input.sk-hidden--visually {border: 0;clip: rect(1px 1px 1px 1px);clip: rect(1px, 1px, 1px, 1px);height: 1px;margin: -1px;overflow: hidden;padding: 0;position: absolute;width: 1px;}#sk-container-id-1 div.sk-estimator {font-family: monospace;background-color: #f0f8ff;border: 1px dotted black;border-radius: 0.25em;box-sizing: border-box;margin-bottom: 0.5em;}#sk-container-id-1 div.sk-estimator:hover {background-color: #d4ebff;}#sk-container-id-1 div.sk-parallel-item::after {content: \"\";width: 100%;border-bottom: 1px solid gray;flex-grow: 1;}#sk-container-id-1 div.sk-label:hover label.sk-toggleable__label {background-color: #d4ebff;}#sk-container-id-1 div.sk-serial::before {content: \"\";position: absolute;border-left: 1px solid gray;box-sizing: border-box;top: 0;bottom: 0;left: 50%;z-index: 0;}#sk-container-id-1 div.sk-serial {display: flex;flex-direction: column;align-items: center;background-color: white;padding-right: 0.2em;padding-left: 0.2em;position: relative;}#sk-container-id-1 div.sk-item {position: relative;z-index: 1;}#sk-container-id-1 div.sk-parallel {display: flex;align-items: stretch;justify-content: center;background-color: white;position: relative;}#sk-container-id-1 div.sk-item::before, #sk-container-id-1 div.sk-parallel-item::before {content: \"\";position: absolute;border-left: 1px solid gray;box-sizing: border-box;top: 0;bottom: 0;left: 50%;z-index: -1;}#sk-container-id-1 div.sk-parallel-item {display: flex;flex-direction: column;z-index: 1;position: relative;background-color: white;}#sk-container-id-1 div.sk-parallel-item:first-child::after {align-self: flex-end;width: 50%;}#sk-container-id-1 div.sk-parallel-item:last-child::after {align-self: flex-start;width: 50%;}#sk-container-id-1 div.sk-parallel-item:only-child::after {width: 0;}#sk-container-id-1 div.sk-dashed-wrapped {border: 1px dashed gray;margin: 0 0.4em 0.5em 0.4em;box-sizing: border-box;padding-bottom: 0.4em;background-color: white;}#sk-container-id-1 div.sk-label label {font-family: monospace;font-weight: bold;display: inline-block;line-height: 1.2em;}#sk-container-id-1 div.sk-label-container {text-align: center;}#sk-container-id-1 div.sk-container {/* jupyter's `normalize.less` sets `[hidden] { display: none; }` but bootstrap.min.css set `[hidden] { display: none !important; }` so we also need the `!important` here to be able to override the default hidden behavior on the sphinx rendered scikit-learn.org. See: https://github.com/scikit-learn/scikit-learn/issues/21755 */display: inline-block !important;position: relative;}#sk-container-id-1 div.sk-text-repr-fallback {display: none;}</style><div id=\"sk-container-id-1\" class=\"sk-top-container\"><div class=\"sk-text-repr-fallback\"><pre>KMeans(n_clusters=2, n_init=&#x27;auto&#x27;, random_state=42)</pre><b>In a Jupyter environment, please rerun this cell to show the HTML representation or trust the notebook. <br />On GitHub, the HTML representation is unable to render, please try loading this page with nbviewer.org.</b></div><div class=\"sk-container\" hidden><div class=\"sk-item\"><div class=\"sk-estimator sk-toggleable\"><input class=\"sk-toggleable__control sk-hidden--visually\" id=\"sk-estimator-id-1\" type=\"checkbox\" checked><label for=\"sk-estimator-id-1\" class=\"sk-toggleable__label sk-toggleable__label-arrow\">KMeans</label><div class=\"sk-toggleable__content\"><pre>KMeans(n_clusters=2, n_init=&#x27;auto&#x27;, random_state=42)</pre></div></div></div></div></div>"
      ],
      "text/plain": [
       "KMeans(n_clusters=2, n_init='auto', random_state=42)"
      ]
     },
     "execution_count": 3,
     "metadata": {},
     "output_type": "execute_result"
    }
   ],
   "source": [
    "# 3. Fit a K-Means Clustering model with 2 clusters\n",
    "from sklearn.cluster import KMeans\n",
    "\n",
    "kmeans2 = KMeans(n_clusters=2, n_init='auto', random_state=42)\n",
    "kmeans2.fit(data)"
   ]
  },
  {
   "cell_type": "code",
   "execution_count": 4,
   "id": "705351c3-af19-42f2-8471-6396f31315e2",
   "metadata": {},
   "outputs": [
    {
     "data": {
      "image/png": "[encoded data removed]",
      "text/plain": [
       "<Figure size 640x480 with 2 Axes>"
      ]
     },
     "metadata": {},
     "output_type": "display_data"
    }
   ],
   "source": [
    "# 4. Interpret the cluster centers\n",
    "import seaborn as sns\n",
    "\n",
    "cluster_centers2 = pd.DataFrame(kmeans2.cluster_centers_, columns=data.columns)\n",
    "sns.heatmap(cluster_centers2, cmap='RdBu', annot=True);"
   ]
  },
  {
   "cell_type": "markdown",
   "id": "0deec8df",
   "metadata": {},
   "source": [
    "* Cluster 1: **Low in Vitamins and Minerals (Cereal for Kids)**\n",
    "* Cluster 2: **High in Calories, Vitamins and Minerals (Cereal for Adults)**"
   ]
  },
  {
   "cell_type": "markdown",
   "id": "94a0b015",
   "metadata": {},
   "source": [
    "## 2. Inertia Plot"
   ]
  },
  {
   "cell_type": "code",
   "execution_count": 5,
   "id": "12746d17",
   "metadata": {},
   "outputs": [],
   "source": [
    "# 1. Write a loop to fit K-Means Clustering models with 2 to 15 clusters\n",
    "\n",
    "# create an empty list to hold many inertia values\n",
    "inertia_values = []\n",
    "\n",
    "# create 2 - 15 clusters, and add the intertia scores to the list\n",
    "for k in range(2, 16):\n",
    "    kmeans = KMeans(n_clusters=k, n_init='auto', random_state=42)\n",
    "    kmeans.fit(data)\n",
    "    inertia_values.append(kmeans.inertia_)"
   ]
  },
  {
   "cell_type": "code",
   "execution_count": 6,
   "id": "2bbe0211",
   "metadata": {},
   "outputs": [
    {
     "data": {
      "image/png": "[encoded data removed]",
      "text/plain": [
       "<Figure size 640x480 with 1 Axes>"
      ]
     },
     "metadata": {},
     "output_type": "display_data"
    }
   ],
   "source": [
    "# 2. Create a plot with the number of clusters on the x-axis and the inertia on the y-axis\n",
    "\n",
    "# plot the inertia values\n",
    "import matplotlib.pyplot as plt\n",
    "\n",
    "# turn the list into a series for plotting\n",
    "inertia_series = pd.Series(inertia_values, index=range(2, 16))\n",
    "\n",
    "# plot the data\n",
    "inertia_series.plot(marker='o')\n",
    "plt.xlabel(\"Number of Clusters (k)\")\n",
    "plt.ylabel(\"Inertia\")\n",
    "plt.title(\"Number of Clusters vs. Inertia\");"
   ]
  },
  {
   "cell_type": "code",
   "execution_count": 7,
   "id": "c1cefa4a-5fb6-40e0-9e54-2e1d5c66b502",
   "metadata": {},
   "outputs": [],
   "source": [
    "# 3. Identify the elbow of the plot: biggest drop seems to be at 3 clusters"
   ]
  },
  {
   "cell_type": "code",
   "execution_count": 8,
   "id": "1879eef3",
   "metadata": {},
   "outputs": [
    {
     "data": {
      "text/html": [
       "<style>#sk-container-id-2 {color: black;}#sk-container-id-2 pre{padding: 0;}#sk-container-id-2 div.sk-toggleable {background-color: white;}#sk-container-id-2 label.sk-toggleable__label {cursor: pointer;display: block;width: 100%;margin-bottom: 0;padding: 0.3em;box-sizing: border-box;text-align: center;}#sk-container-id-2 label.sk-toggleable__label-arrow:before {content: \"▸\";float: left;margin-right: 0.25em;color: #696969;}#sk-container-id-2 label.sk-toggleable__label-arrow:hover:before {color: black;}#sk-container-id-2 div.sk-estimator:hover label.sk-toggleable__label-arrow:before {color: black;}#sk-container-id-2 div.sk-toggleable__content {max-height: 0;max-width: 0;overflow: hidden;text-align: left;background-color: #f0f8ff;}#sk-container-id-2 div.sk-toggleable__content pre {margin: 0.2em;color: black;border-radius: 0.25em;background-color: #f0f8ff;}#sk-container-id-2 input.sk-toggleable__control:checked~div.sk-toggleable__content {max-height: 200px;max-width: 100%;overflow: auto;}#sk-container-id-2 input.sk-toggleable__control:checked~label.sk-toggleable__label-arrow:before {content: \"▾\";}#sk-container-id-2 div.sk-estimator input.sk-toggleable__control:checked~label.sk-toggleable__label {background-color: #d4ebff;}#sk-container-id-2 div.sk-label input.sk-toggleable__control:checked~label.sk-toggleable__label {background-color: #d4ebff;}#sk-container-id-2 input.sk-hidden--visually {border: 0;clip: rect(1px 1px 1px 1px);clip: rect(1px, 1px, 1px, 1px);height: 1px;margin: -1px;overflow: hidden;padding: 0;position: absolute;width: 1px;}#sk-container-id-2 div.sk-estimator {font-family: monospace;background-color: #f0f8ff;border: 1px dotted black;border-radius: 0.25em;box-sizing: border-box;margin-bottom: 0.5em;}#sk-container-id-2 div.sk-estimator:hover {background-color: #d4ebff;}#sk-container-id-2 div.sk-parallel-item::after {content: \"\";width: 100%;border-bottom: 1px solid gray;flex-grow: 1;}#sk-container-id-2 div.sk-label:hover label.sk-toggleable__label {background-color: #d4ebff;}#sk-container-id-2 div.sk-serial::before {content: \"\";position: absolute;border-left: 1px solid gray;box-sizing: border-box;top: 0;bottom: 0;left: 50%;z-index: 0;}#sk-container-id-2 div.sk-serial {display: flex;flex-direction: column;align-items: center;background-color: white;padding-right: 0.2em;padding-left: 0.2em;position: relative;}#sk-container-id-2 div.sk-item {position: relative;z-index: 1;}#sk-container-id-2 div.sk-parallel {display: flex;align-items: stretch;justify-content: center;background-color: white;position: relative;}#sk-container-id-2 div.sk-item::before, #sk-container-id-2 div.sk-parallel-item::before {content: \"\";position: absolute;border-left: 1px solid gray;box-sizing: border-box;top: 0;bottom: 0;left: 50%;z-index: -1;}#sk-container-id-2 div.sk-parallel-item {display: flex;flex-direction: column;z-index: 1;position: relative;background-color: white;}#sk-container-id-2 div.sk-parallel-item:first-child::after {align-self: flex-end;width: 50%;}#sk-container-id-2 div.sk-parallel-item:last-child::after {align-self: flex-start;width: 50%;}#sk-container-id-2 div.sk-parallel-item:only-child::after {width: 0;}#sk-container-id-2 div.sk-dashed-wrapped {border: 1px dashed gray;margin: 0 0.4em 0.5em 0.4em;box-sizing: border-box;padding-bottom: 0.4em;background-color: white;}#sk-container-id-2 div.sk-label label {font-family: monospace;font-weight: bold;display: inline-block;line-height: 1.2em;}#sk-container-id-2 div.sk-label-container {text-align: center;}#sk-container-id-2 div.sk-container {/* jupyter's `normalize.less` sets `[hidden] { display: none; }` but bootstrap.min.css set `[hidden] { display: none !important; }` so we also need the `!important` here to be able to override the default hidden behavior on the sphinx rendered scikit-learn.org. See: https://github.com/scikit-learn/scikit-learn/issues/21755 */display: inline-block !important;position: relative;}#sk-container-id-2 div.sk-text-repr-fallback {display: none;}</style><div id=\"sk-container-id-2\" class=\"sk-top-container\"><div class=\"sk-text-repr-fallback\"><pre>KMeans(n_clusters=3, n_init=&#x27;auto&#x27;, random_state=42)</pre><b>In a Jupyter environment, please rerun this cell to show the HTML representation or trust the notebook. <br />On GitHub, the HTML representation is unable to render, please try loading this page with nbviewer.org.</b></div><div class=\"sk-container\" hidden><div class=\"sk-item\"><div class=\"sk-estimator sk-toggleable\"><input class=\"sk-toggleable__control sk-hidden--visually\" id=\"sk-estimator-id-2\" type=\"checkbox\" checked><label for=\"sk-estimator-id-2\" class=\"sk-toggleable__label sk-toggleable__label-arrow\">KMeans</label><div class=\"sk-toggleable__content\"><pre>KMeans(n_clusters=3, n_init=&#x27;auto&#x27;, random_state=42)</pre></div></div></div></div></div>"
      ],
      "text/plain": [
       "KMeans(n_clusters=3, n_init='auto', random_state=42)"
      ]
     },
     "execution_count": 8,
     "metadata": {},
     "output_type": "execute_result"
    }
   ],
   "source": [
    "# 4. Fit a K-Means Clustering model on the specific number of clusters at the elbow\n",
    "from sklearn.cluster import KMeans\n",
    "\n",
    "kmeans3 = KMeans(n_clusters=3, n_init='auto', random_state=42)\n",
    "kmeans3.fit(data)"
   ]
  },
  {
   "cell_type": "code",
   "execution_count": 9,
   "id": "55dd42f3",
   "metadata": {},
   "outputs": [
    {
     "data": {
      "image/png": "[encoded data removed]",
      "text/plain": [
       "<Figure size 640x480 with 2 Axes>"
      ]
     },
     "metadata": {},
     "output_type": "display_data"
    }
   ],
   "source": [
    "# 5. Interpret the cluster centers using a heat map\n",
    "import seaborn as sns\n",
    "\n",
    "cluster_centers3 = pd.DataFrame(kmeans3.cluster_centers_, columns=data.columns)\n",
    "sns.heatmap(cluster_centers3, cmap='RdBu', annot=True);"
   ]
  },
  {
   "cell_type": "markdown",
   "id": "394ef65e",
   "metadata": {},
   "source": [
    "* Cluster 0: **In the Middle (Typical Cereals)**\n",
    "* Cluster 1: **High in Calories & Vitamins and Minerals (Hearty Cereals)**\n",
    "* Cluster 2: **Average/Low in Calories & Vitamins and Minerals (Empty Cereals)**"
   ]
  },
  {
   "cell_type": "markdown",
   "id": "3d78227d",
   "metadata": {},
   "source": [
    "## 3. Tune the K-Means Model"
   ]
  },
  {
   "cell_type": "code",
   "execution_count": 10,
   "id": "a379eb16",
   "metadata": {
    "scrolled": true
   },
   "outputs": [
    {
     "data": {
      "text/html": [
       "<div>\n",
       "<style scoped>\n",
       "    .dataframe tbody tr th:only-of-type {\n",
       "        vertical-align: middle;\n",
       "    }\n",
       "\n",
       "    .dataframe tbody tr th {\n",
       "        vertical-align: top;\n",
       "    }\n",
       "\n",
       "    .dataframe thead th {\n",
       "        text-align: right;\n",
       "    }\n",
       "</style>\n",
       "<table border=\"1\" class=\"dataframe\">\n",
       "  <thead>\n",
       "    <tr style=\"text-align: right;\">\n",
       "      <th></th>\n",
       "      <th>Calories</th>\n",
       "      <th>Protein (g)</th>\n",
       "      <th>Fat</th>\n",
       "      <th>Sugars</th>\n",
       "      <th>Vitamins and Minerals</th>\n",
       "    </tr>\n",
       "  </thead>\n",
       "  <tbody>\n",
       "    <tr>\n",
       "      <th>0</th>\n",
       "      <td>70</td>\n",
       "      <td>4</td>\n",
       "      <td>1</td>\n",
       "      <td>6</td>\n",
       "      <td>25</td>\n",
       "    </tr>\n",
       "    <tr>\n",
       "      <th>1</th>\n",
       "      <td>120</td>\n",
       "      <td>3</td>\n",
       "      <td>5</td>\n",
       "      <td>8</td>\n",
       "      <td>0</td>\n",
       "    </tr>\n",
       "    <tr>\n",
       "      <th>2</th>\n",
       "      <td>70</td>\n",
       "      <td>4</td>\n",
       "      <td>1</td>\n",
       "      <td>5</td>\n",
       "      <td>25</td>\n",
       "    </tr>\n",
       "    <tr>\n",
       "      <th>3</th>\n",
       "      <td>50</td>\n",
       "      <td>4</td>\n",
       "      <td>0</td>\n",
       "      <td>0</td>\n",
       "      <td>25</td>\n",
       "    </tr>\n",
       "    <tr>\n",
       "      <th>4</th>\n",
       "      <td>110</td>\n",
       "      <td>2</td>\n",
       "      <td>2</td>\n",
       "      <td>8</td>\n",
       "      <td>25</td>\n",
       "    </tr>\n",
       "  </tbody>\n",
       "</table>\n",
       "</div>"
      ],
      "text/plain": [
       "   Calories  Protein (g)  Fat  Sugars  Vitamins and Minerals\n",
       "0        70            4    1       6                     25\n",
       "1       120            3    5       8                      0\n",
       "2        70            4    1       5                     25\n",
       "3        50            4    0       0                     25\n",
       "4       110            2    2       8                     25"
      ]
     },
     "execution_count": 10,
     "metadata": {},
     "output_type": "execute_result"
    }
   ],
   "source": [
    "# view the data again\n",
    "data.head()"
   ]
  },
  {
   "cell_type": "code",
   "execution_count": 11,
   "id": "8e141b53",
   "metadata": {},
   "outputs": [
    {
     "data": {
      "text/html": [
       "<div>\n",
       "<style scoped>\n",
       "    .dataframe tbody tr th:only-of-type {\n",
       "        vertical-align: middle;\n",
       "    }\n",
       "\n",
       "    .dataframe tbody tr th {\n",
       "        vertical-align: top;\n",
       "    }\n",
       "\n",
       "    .dataframe thead th {\n",
       "        text-align: right;\n",
       "    }\n",
       "</style>\n",
       "<table border=\"1\" class=\"dataframe\">\n",
       "  <thead>\n",
       "    <tr style=\"text-align: right;\">\n",
       "      <th></th>\n",
       "      <th>Calories</th>\n",
       "      <th>Protein (g)</th>\n",
       "      <th>Sugars</th>\n",
       "      <th>Vitamins and Minerals</th>\n",
       "    </tr>\n",
       "  </thead>\n",
       "  <tbody>\n",
       "    <tr>\n",
       "      <th>0</th>\n",
       "      <td>70</td>\n",
       "      <td>4</td>\n",
       "      <td>6</td>\n",
       "      <td>25</td>\n",
       "    </tr>\n",
       "    <tr>\n",
       "      <th>1</th>\n",
       "      <td>120</td>\n",
       "      <td>3</td>\n",
       "      <td>8</td>\n",
       "      <td>0</td>\n",
       "    </tr>\n",
       "    <tr>\n",
       "      <th>2</th>\n",
       "      <td>70</td>\n",
       "      <td>4</td>\n",
       "      <td>5</td>\n",
       "      <td>25</td>\n",
       "    </tr>\n",
       "    <tr>\n",
       "      <th>3</th>\n",
       "      <td>50</td>\n",
       "      <td>4</td>\n",
       "      <td>0</td>\n",
       "      <td>25</td>\n",
       "    </tr>\n",
       "    <tr>\n",
       "      <th>4</th>\n",
       "      <td>110</td>\n",
       "      <td>2</td>\n",
       "      <td>8</td>\n",
       "      <td>25</td>\n",
       "    </tr>\n",
       "  </tbody>\n",
       "</table>\n",
       "</div>"
      ],
      "text/plain": [
       "   Calories  Protein (g)  Sugars  Vitamins and Minerals\n",
       "0        70            4       6                     25\n",
       "1       120            3       8                      0\n",
       "2        70            4       5                     25\n",
       "3        50            4       0                     25\n",
       "4       110            2       8                     25"
      ]
     },
     "execution_count": 11,
     "metadata": {},
     "output_type": "execute_result"
    }
   ],
   "source": [
    "# 1. Remove the ”Fat” column\n",
    "data_subset = data[['Calories', 'Protein (g)', 'Sugars', 'Vitamins and Minerals']]\n",
    "data_subset.head()"
   ]
  },
  {
   "cell_type": "code",
   "execution_count": 12,
   "id": "6cb53735",
   "metadata": {},
   "outputs": [
    {
     "data": {
      "text/html": [
       "<div>\n",
       "<style scoped>\n",
       "    .dataframe tbody tr th:only-of-type {\n",
       "        vertical-align: middle;\n",
       "    }\n",
       "\n",
       "    .dataframe tbody tr th {\n",
       "        vertical-align: top;\n",
       "    }\n",
       "\n",
       "    .dataframe thead th {\n",
       "        text-align: right;\n",
       "    }\n",
       "</style>\n",
       "<table border=\"1\" class=\"dataframe\">\n",
       "  <thead>\n",
       "    <tr style=\"text-align: right;\">\n",
       "      <th></th>\n",
       "      <th>Calories</th>\n",
       "      <th>Protein (g)</th>\n",
       "      <th>Sugars</th>\n",
       "      <th>Vitamins and Minerals</th>\n",
       "    </tr>\n",
       "  </thead>\n",
       "  <tbody>\n",
       "    <tr>\n",
       "      <th>0</th>\n",
       "      <td>-1.940286</td>\n",
       "      <td>1.387392</td>\n",
       "      <td>-0.173586</td>\n",
       "      <td>-0.149270</td>\n",
       "    </tr>\n",
       "    <tr>\n",
       "      <th>1</th>\n",
       "      <td>0.789394</td>\n",
       "      <td>0.462464</td>\n",
       "      <td>0.277129</td>\n",
       "      <td>-1.253871</td>\n",
       "    </tr>\n",
       "    <tr>\n",
       "      <th>2</th>\n",
       "      <td>-1.940286</td>\n",
       "      <td>1.387392</td>\n",
       "      <td>-0.398944</td>\n",
       "      <td>-0.149270</td>\n",
       "    </tr>\n",
       "    <tr>\n",
       "      <th>3</th>\n",
       "      <td>-3.032158</td>\n",
       "      <td>1.387392</td>\n",
       "      <td>-1.525731</td>\n",
       "      <td>-0.149270</td>\n",
       "    </tr>\n",
       "    <tr>\n",
       "      <th>4</th>\n",
       "      <td>0.243458</td>\n",
       "      <td>-0.462464</td>\n",
       "      <td>0.277129</td>\n",
       "      <td>-0.149270</td>\n",
       "    </tr>\n",
       "  </tbody>\n",
       "</table>\n",
       "</div>"
      ],
      "text/plain": [
       "   Calories  Protein (g)    Sugars  Vitamins and Minerals\n",
       "0 -1.940286     1.387392 -0.173586              -0.149270\n",
       "1  0.789394     0.462464  0.277129              -1.253871\n",
       "2 -1.940286     1.387392 -0.398944              -0.149270\n",
       "3 -3.032158     1.387392 -1.525731              -0.149270\n",
       "4  0.243458    -0.462464  0.277129              -0.149270"
      ]
     },
     "execution_count": 12,
     "metadata": {},
     "output_type": "execute_result"
    }
   ],
   "source": [
    "# 2. Standardize the remaining columns\n",
    "from sklearn.preprocessing import StandardScaler\n",
    "\n",
    "scaler = StandardScaler()\n",
    "scaler_ft = scaler.fit_transform(data_subset)\n",
    "data_scaled = pd.DataFrame(scaler_ft, columns=data_subset.columns)\n",
    "data_scaled.head()"
   ]
  },
  {
   "cell_type": "code",
   "execution_count": 13,
   "id": "20a4021e",
   "metadata": {},
   "outputs": [],
   "source": [
    "# 3a. Write a loop to fit K-Means Clustering models with 2 to 15 clusters\n",
    "inertia_values_scaled = []\n",
    "\n",
    "for k in range(2, 16):\n",
    "    kmeans = KMeans(n_clusters=k, n_init='auto', random_state=42)\n",
    "    kmeans.fit(data_scaled)\n",
    "    inertia_values_scaled.append(kmeans.inertia_)"
   ]
  },
  {
   "cell_type": "code",
   "execution_count": 14,
   "id": "2609a892",
   "metadata": {},
   "outputs": [
    {
     "data": {
      "image/png": "[encoded data removed]",
      "text/plain": [
       "<Figure size 640x480 with 1 Axes>"
      ]
     },
     "metadata": {},
     "output_type": "display_data"
    }
   ],
   "source": [
    "# 3b. Create a plot with the number of clusters on the x-axis and the inertia on the y-axis\n",
    "\n",
    "# plot the inertia values\n",
    "import matplotlib.pyplot as plt\n",
    "\n",
    "# turn the list into a series for plotting\n",
    "inertia_series_scaled = pd.Series(inertia_values_scaled, index=range(2, 16))\n",
    "\n",
    "# plot the data\n",
    "inertia_series_scaled.plot(marker='o')\n",
    "plt.xlabel(\"Number of Clusters (k)\")\n",
    "plt.ylabel(\"Inertia\")\n",
    "plt.title(\"Number of Clusters vs. Inertia\");"
   ]
  },
  {
   "cell_type": "code",
   "execution_count": 15,
   "id": "a1702a77-fe10-4752-9784-5e7d4c89f21c",
   "metadata": {},
   "outputs": [],
   "source": [
    "# 3c. Identify the elbow of the plot: let's look at 6 clusters"
   ]
  },
  {
   "cell_type": "code",
   "execution_count": 16,
   "id": "5f8dd324",
   "metadata": {},
   "outputs": [
    {
     "data": {
      "text/html": [
       "<style>#sk-container-id-3 {color: black;}#sk-container-id-3 pre{padding: 0;}#sk-container-id-3 div.sk-toggleable {background-color: white;}#sk-container-id-3 label.sk-toggleable__label {cursor: pointer;display: block;width: 100%;margin-bottom: 0;padding: 0.3em;box-sizing: border-box;text-align: center;}#sk-container-id-3 label.sk-toggleable__label-arrow:before {content: \"▸\";float: left;margin-right: 0.25em;color: #696969;}#sk-container-id-3 label.sk-toggleable__label-arrow:hover:before {color: black;}#sk-container-id-3 div.sk-estimator:hover label.sk-toggleable__label-arrow:before {color: black;}#sk-container-id-3 div.sk-toggleable__content {max-height: 0;max-width: 0;overflow: hidden;text-align: left;background-color: #f0f8ff;}#sk-container-id-3 div.sk-toggleable__content pre {margin: 0.2em;color: black;border-radius: 0.25em;background-color: #f0f8ff;}#sk-container-id-3 input.sk-toggleable__control:checked~div.sk-toggleable__content {max-height: 200px;max-width: 100%;overflow: auto;}#sk-container-id-3 input.sk-toggleable__control:checked~label.sk-toggleable__label-arrow:before {content: \"▾\";}#sk-container-id-3 div.sk-estimator input.sk-toggleable__control:checked~label.sk-toggleable__label {background-color: #d4ebff;}#sk-container-id-3 div.sk-label input.sk-toggleable__control:checked~label.sk-toggleable__label {background-color: #d4ebff;}#sk-container-id-3 input.sk-hidden--visually {border: 0;clip: rect(1px 1px 1px 1px);clip: rect(1px, 1px, 1px, 1px);height: 1px;margin: -1px;overflow: hidden;padding: 0;position: absolute;width: 1px;}#sk-container-id-3 div.sk-estimator {font-family: monospace;background-color: #f0f8ff;border: 1px dotted black;border-radius: 0.25em;box-sizing: border-box;margin-bottom: 0.5em;}#sk-container-id-3 div.sk-estimator:hover {background-color: #d4ebff;}#sk-container-id-3 div.sk-parallel-item::after {content: \"\";width: 100%;border-bottom: 1px solid gray;flex-grow: 1;}#sk-container-id-3 div.sk-label:hover label.sk-toggleable__label {background-color: #d4ebff;}#sk-container-id-3 div.sk-serial::before {content: \"\";position: absolute;border-left: 1px solid gray;box-sizing: border-box;top: 0;bottom: 0;left: 50%;z-index: 0;}#sk-container-id-3 div.sk-serial {display: flex;flex-direction: column;align-items: center;background-color: white;padding-right: 0.2em;padding-left: 0.2em;position: relative;}#sk-container-id-3 div.sk-item {position: relative;z-index: 1;}#sk-container-id-3 div.sk-parallel {display: flex;align-items: stretch;justify-content: center;background-color: white;position: relative;}#sk-container-id-3 div.sk-item::before, #sk-container-id-3 div.sk-parallel-item::before {content: \"\";position: absolute;border-left: 1px solid gray;box-sizing: border-box;top: 0;bottom: 0;left: 50%;z-index: -1;}#sk-container-id-3 div.sk-parallel-item {display: flex;flex-direction: column;z-index: 1;position: relative;background-color: white;}#sk-container-id-3 div.sk-parallel-item:first-child::after {align-self: flex-end;width: 50%;}#sk-container-id-3 div.sk-parallel-item:last-child::after {align-self: flex-start;width: 50%;}#sk-container-id-3 div.sk-parallel-item:only-child::after {width: 0;}#sk-container-id-3 div.sk-dashed-wrapped {border: 1px dashed gray;margin: 0 0.4em 0.5em 0.4em;box-sizing: border-box;padding-bottom: 0.4em;background-color: white;}#sk-container-id-3 div.sk-label label {font-family: monospace;font-weight: bold;display: inline-block;line-height: 1.2em;}#sk-container-id-3 div.sk-label-container {text-align: center;}#sk-container-id-3 div.sk-container {/* jupyter's `normalize.less` sets `[hidden] { display: none; }` but bootstrap.min.css set `[hidden] { display: none !important; }` so we also need the `!important` here to be able to override the default hidden behavior on the sphinx rendered scikit-learn.org. See: https://github.com/scikit-learn/scikit-learn/issues/21755 */display: inline-block !important;position: relative;}#sk-container-id-3 div.sk-text-repr-fallback {display: none;}</style><div id=\"sk-container-id-3\" class=\"sk-top-container\"><div class=\"sk-text-repr-fallback\"><pre>KMeans(n_clusters=6, n_init=&#x27;auto&#x27;, random_state=42)</pre><b>In a Jupyter environment, please rerun this cell to show the HTML representation or trust the notebook. <br />On GitHub, the HTML representation is unable to render, please try loading this page with nbviewer.org.</b></div><div class=\"sk-container\" hidden><div class=\"sk-item\"><div class=\"sk-estimator sk-toggleable\"><input class=\"sk-toggleable__control sk-hidden--visually\" id=\"sk-estimator-id-3\" type=\"checkbox\" checked><label for=\"sk-estimator-id-3\" class=\"sk-toggleable__label sk-toggleable__label-arrow\">KMeans</label><div class=\"sk-toggleable__content\"><pre>KMeans(n_clusters=6, n_init=&#x27;auto&#x27;, random_state=42)</pre></div></div></div></div></div>"
      ],
      "text/plain": [
       "KMeans(n_clusters=6, n_init='auto', random_state=42)"
      ]
     },
     "execution_count": 16,
     "metadata": {},
     "output_type": "execute_result"
    }
   ],
   "source": [
    "# 3d. Fit a K-Means Clustering model on the specific number of clusters at the elbow\n",
    "kmeans6 = KMeans(n_clusters=6, n_init='auto', random_state=42)\n",
    "kmeans6.fit(data_scaled)"
   ]
  },
  {
   "cell_type": "code",
   "execution_count": 17,
   "id": "6bbe6142",
   "metadata": {},
   "outputs": [
    {
     "data": {
      "image/png": "[encoded data removed]",
      "text/plain": [
       "<Figure size 640x480 with 2 Axes>"
      ]
     },
     "metadata": {},
     "output_type": "display_data"
    }
   ],
   "source": [
    "# 3e. Interpret the cluster centers using a heat map\n",
    "cluster_centers6 = pd.DataFrame(kmeans6.cluster_centers_, columns=data_subset.columns)\n",
    "sns.heatmap(cluster_centers6, cmap='RdBu', annot=True);"
   ]
  },
  {
   "cell_type": "markdown",
   "id": "dc8c7c9c",
   "metadata": {},
   "source": [
    "* Cluster 0: **High Calories + Sguar**\n",
    "* Cluster 1: **Typical Cereals**\n",
    "* Cluster 2: **High Protein**\n",
    "* Cluster 3: **High Vitamins and Minerals**\n",
    "* Cluster 4: **High Sugar, Low Protein**\n",
    "* Cluster 5: **Low Calories + Sugar + Vitamins and Minerals**"
   ]
  },
  {
   "cell_type": "markdown",
   "id": "4e475e84",
   "metadata": {},
   "source": [
    "## 4. Select the Best K-Means Model"
   ]
  },
  {
   "cell_type": "code",
   "execution_count": 18,
   "id": "2e58544d-2cbb-427f-8c4c-bee2eac86bf7",
   "metadata": {},
   "outputs": [],
   "source": [
    "# 1. Label each row in your original data set with a cluster name from the unstandardized data model and a cluster name from standardized data model"
   ]
  },
  {
   "cell_type": "code",
   "execution_count": 19,
   "id": "a6b1d6a7",
   "metadata": {},
   "outputs": [
    {
     "data": {
      "text/plain": [
       "0      Empty Cereals\n",
       "1    Typical Cereals\n",
       "2      Empty Cereals\n",
       "3      Empty Cereals\n",
       "4    Typical Cereals\n",
       "Name: model1_clusters, dtype: object"
      ]
     },
     "execution_count": 19,
     "metadata": {},
     "output_type": "execute_result"
    }
   ],
   "source": [
    "# model 1: assign the cluster name to each row\n",
    "model1_clusters = pd.Series(kmeans3.labels_, name='model1_clusters')\n",
    "model1_names = model1_clusters.map({0: 'Typical Cereals',\n",
    "                                    1: 'Hearty Cereals',\n",
    "                                    2: 'Empty Cereals'})\n",
    "model1_names.head()"
   ]
  },
  {
   "cell_type": "code",
   "execution_count": 20,
   "id": "a6ec266f",
   "metadata": {},
   "outputs": [
    {
     "data": {
      "text/plain": [
       "0                                    High Protein\n",
       "1                           High Calories + Sugar\n",
       "2                                    High Protein\n",
       "3    Low Calories + Sugar + Vitamins and Minerals\n",
       "4                                 Typical Cereals\n",
       "Name: model2_clusters, dtype: object"
      ]
     },
     "execution_count": 20,
     "metadata": {},
     "output_type": "execute_result"
    }
   ],
   "source": [
    "# model 2: assign the cluster name to each row\n",
    "model2_clusters = pd.Series(kmeans6.labels_, name='model2_clusters')\n",
    "model2_names = model2_clusters.map({0: 'High Calories + Sugar',\n",
    "                                    1: 'Typical Cereals',\n",
    "                                    2: 'High Protein',\n",
    "                                    3: 'High Vitamins and Minerals',\n",
    "                                    4: 'High Sugar, Low Protein',\n",
    "                                    5: 'Low Calories + Sugar + Vitamins and Minerals'})\n",
    "model2_names.head()"
   ]
  },
  {
   "cell_type": "code",
   "execution_count": 21,
   "id": "b18abc65-b3c2-484c-becb-4bf3c769d652",
   "metadata": {},
   "outputs": [],
   "source": [
    "# 2. Look at the number of cereals that fall into each cluster"
   ]
  },
  {
   "cell_type": "code",
   "execution_count": 22,
   "id": "59c86d66",
   "metadata": {},
   "outputs": [
    {
     "data": {
      "text/plain": [
       "model1_clusters\n",
       "Typical Cereals    62\n",
       "Empty Cereals       6\n",
       "Hearty Cereals      6\n",
       "Name: count, dtype: int64"
      ]
     },
     "execution_count": 22,
     "metadata": {},
     "output_type": "execute_result"
    }
   ],
   "source": [
    "# view the number of students in each cluster\n",
    "model1_names.value_counts()"
   ]
  },
  {
   "cell_type": "code",
   "execution_count": 23,
   "id": "84242006",
   "metadata": {},
   "outputs": [
    {
     "data": {
      "text/plain": [
       "model2_clusters\n",
       "Typical Cereals                                 25\n",
       "High Sugar, Low Protein                         18\n",
       "High Calories + Sugar                           10\n",
       "High Protein                                     8\n",
       "Low Calories + Sugar + Vitamins and Minerals     7\n",
       "High Vitamins and Minerals                       6\n",
       "Name: count, dtype: int64"
      ]
     },
     "execution_count": 23,
     "metadata": {},
     "output_type": "execute_result"
    }
   ],
   "source": [
    "# view the number of students in each cluster\n",
    "model2_names.value_counts()"
   ]
  },
  {
   "cell_type": "code",
   "execution_count": 24,
   "id": "4e2d2b31-c911-4057-8271-6eee1b76da9c",
   "metadata": {},
   "outputs": [],
   "source": [
    "# 3. Decide on the best model for our client\n",
    "# Model 1 has most cereals in a single cluster vs Model 2 has a better distribution, so let's go with Model 2"
   ]
  },
  {
   "cell_type": "code",
   "execution_count": 25,
   "id": "6e513f13-bb83-499d-87fa-2c96993dd7d3",
   "metadata": {},
   "outputs": [],
   "source": [
    "# 4. Recommend a specific number of displays"
   ]
  },
  {
   "cell_type": "markdown",
   "id": "36b67ee6",
   "metadata": {},
   "source": [
    "**Original Goal**: Help our client, Maven Supermarket, set up cereal displays around their store based on various niches of cereals\n",
    "\n",
    "**Our Recommendation**: Create 3 displays for:\n",
    "* Typical cereal\n",
    "* Sugary cereal\n",
    "* Healthy cereal"
   ]
  },
  {
   "cell_type": "code",
   "execution_count": 26,
   "id": "54326709-65fa-4938-a562-8c8201df6e55",
   "metadata": {},
   "outputs": [],
   "source": [
    "# 5. Suggest a few cereals that should be shown in each display"
   ]
  },
  {
   "cell_type": "markdown",
   "id": "dda85827",
   "metadata": {},
   "source": [
    "#### 1. Typical cereals to display in the cereal aisle"
   ]
  },
  {
   "cell_type": "code",
   "execution_count": 27,
   "id": "dbc33786",
   "metadata": {},
   "outputs": [
    {
     "data": {
      "text/html": [
       "<div>\n",
       "<style scoped>\n",
       "    .dataframe tbody tr th:only-of-type {\n",
       "        vertical-align: middle;\n",
       "    }\n",
       "\n",
       "    .dataframe tbody tr th {\n",
       "        vertical-align: top;\n",
       "    }\n",
       "\n",
       "    .dataframe thead th {\n",
       "        text-align: right;\n",
       "    }\n",
       "</style>\n",
       "<table border=\"1\" class=\"dataframe\">\n",
       "  <thead>\n",
       "    <tr style=\"text-align: right;\">\n",
       "      <th></th>\n",
       "      <th>Cereal Name</th>\n",
       "      <th>Manufacturer</th>\n",
       "      <th>Calories</th>\n",
       "      <th>Protein (g)</th>\n",
       "      <th>Fat</th>\n",
       "      <th>Sugars</th>\n",
       "      <th>Vitamins and Minerals</th>\n",
       "      <th>model1_clusters</th>\n",
       "      <th>model2_clusters</th>\n",
       "    </tr>\n",
       "  </thead>\n",
       "  <tbody>\n",
       "    <tr>\n",
       "      <th>0</th>\n",
       "      <td>100%_Bran</td>\n",
       "      <td>Nabisco</td>\n",
       "      <td>70</td>\n",
       "      <td>4</td>\n",
       "      <td>1</td>\n",
       "      <td>6</td>\n",
       "      <td>25</td>\n",
       "      <td>Empty Cereals</td>\n",
       "      <td>High Protein</td>\n",
       "    </tr>\n",
       "    <tr>\n",
       "      <th>1</th>\n",
       "      <td>100%_Natural_Bran</td>\n",
       "      <td>Quaker Oats</td>\n",
       "      <td>120</td>\n",
       "      <td>3</td>\n",
       "      <td>5</td>\n",
       "      <td>8</td>\n",
       "      <td>0</td>\n",
       "      <td>Typical Cereals</td>\n",
       "      <td>High Calories + Sugar</td>\n",
       "    </tr>\n",
       "    <tr>\n",
       "      <th>2</th>\n",
       "      <td>All-Bran</td>\n",
       "      <td>Kelloggs</td>\n",
       "      <td>70</td>\n",
       "      <td>4</td>\n",
       "      <td>1</td>\n",
       "      <td>5</td>\n",
       "      <td>25</td>\n",
       "      <td>Empty Cereals</td>\n",
       "      <td>High Protein</td>\n",
       "    </tr>\n",
       "    <tr>\n",
       "      <th>3</th>\n",
       "      <td>All-Bran_with_Extra_Fiber</td>\n",
       "      <td>Kelloggs</td>\n",
       "      <td>50</td>\n",
       "      <td>4</td>\n",
       "      <td>0</td>\n",
       "      <td>0</td>\n",
       "      <td>25</td>\n",
       "      <td>Empty Cereals</td>\n",
       "      <td>Low Calories + Sugar + Vitamins and Minerals</td>\n",
       "    </tr>\n",
       "    <tr>\n",
       "      <th>4</th>\n",
       "      <td>Almond_Delight</td>\n",
       "      <td>Ralston Purina</td>\n",
       "      <td>110</td>\n",
       "      <td>2</td>\n",
       "      <td>2</td>\n",
       "      <td>8</td>\n",
       "      <td>25</td>\n",
       "      <td>Typical Cereals</td>\n",
       "      <td>Typical Cereals</td>\n",
       "    </tr>\n",
       "  </tbody>\n",
       "</table>\n",
       "</div>"
      ],
      "text/plain": [
       "                 Cereal Name    Manufacturer  Calories  Protein (g)  Fat  \\\n",
       "0                  100%_Bran         Nabisco        70            4    1   \n",
       "1          100%_Natural_Bran     Quaker Oats       120            3    5   \n",
       "2                   All-Bran        Kelloggs        70            4    1   \n",
       "3  All-Bran_with_Extra_Fiber        Kelloggs        50            4    0   \n",
       "4             Almond_Delight  Ralston Purina       110            2    2   \n",
       "\n",
       "   Sugars  Vitamins and Minerals  model1_clusters  \\\n",
       "0       6                     25    Empty Cereals   \n",
       "1       8                      0  Typical Cereals   \n",
       "2       5                     25    Empty Cereals   \n",
       "3       0                     25    Empty Cereals   \n",
       "4       8                     25  Typical Cereals   \n",
       "\n",
       "                                model2_clusters  \n",
       "0                                  High Protein  \n",
       "1                         High Calories + Sugar  \n",
       "2                                  High Protein  \n",
       "3  Low Calories + Sugar + Vitamins and Minerals  \n",
       "4                               Typical Cereals  "
      ]
     },
     "execution_count": 27,
     "metadata": {},
     "output_type": "execute_result"
    }
   ],
   "source": [
    "# combine the cluster names with the original data set\n",
    "cluster_names = pd.concat([df, model1_names, model2_names], axis=1)\n",
    "cluster_names.head()"
   ]
  },
  {
   "cell_type": "code",
   "execution_count": 28,
   "id": "a9814365",
   "metadata": {},
   "outputs": [
    {
     "data": {
      "text/html": [
       "<div>\n",
       "<style scoped>\n",
       "    .dataframe tbody tr th:only-of-type {\n",
       "        vertical-align: middle;\n",
       "    }\n",
       "\n",
       "    .dataframe tbody tr th {\n",
       "        vertical-align: top;\n",
       "    }\n",
       "\n",
       "    .dataframe thead th {\n",
       "        text-align: right;\n",
       "    }\n",
       "</style>\n",
       "<table border=\"1\" class=\"dataframe\">\n",
       "  <thead>\n",
       "    <tr style=\"text-align: right;\">\n",
       "      <th></th>\n",
       "      <th>Cereal Name</th>\n",
       "      <th>Manufacturer</th>\n",
       "      <th>Calories</th>\n",
       "      <th>Protein (g)</th>\n",
       "      <th>Fat</th>\n",
       "      <th>Sugars</th>\n",
       "      <th>Vitamins and Minerals</th>\n",
       "      <th>model1_clusters</th>\n",
       "      <th>model2_clusters</th>\n",
       "    </tr>\n",
       "  </thead>\n",
       "  <tbody>\n",
       "    <tr>\n",
       "      <th>4</th>\n",
       "      <td>Almond_Delight</td>\n",
       "      <td>Ralston Purina</td>\n",
       "      <td>110</td>\n",
       "      <td>2</td>\n",
       "      <td>2</td>\n",
       "      <td>8</td>\n",
       "      <td>25</td>\n",
       "      <td>Typical Cereals</td>\n",
       "      <td>Typical Cereals</td>\n",
       "    </tr>\n",
       "    <tr>\n",
       "      <th>8</th>\n",
       "      <td>Bran_Chex</td>\n",
       "      <td>Ralston Purina</td>\n",
       "      <td>90</td>\n",
       "      <td>2</td>\n",
       "      <td>1</td>\n",
       "      <td>6</td>\n",
       "      <td>25</td>\n",
       "      <td>Typical Cereals</td>\n",
       "      <td>Typical Cereals</td>\n",
       "    </tr>\n",
       "    <tr>\n",
       "      <th>9</th>\n",
       "      <td>Bran_Flakes</td>\n",
       "      <td>Post</td>\n",
       "      <td>90</td>\n",
       "      <td>3</td>\n",
       "      <td>0</td>\n",
       "      <td>5</td>\n",
       "      <td>25</td>\n",
       "      <td>Typical Cereals</td>\n",
       "      <td>Typical Cereals</td>\n",
       "    </tr>\n",
       "    <tr>\n",
       "      <th>13</th>\n",
       "      <td>Clusters</td>\n",
       "      <td>General Mills</td>\n",
       "      <td>110</td>\n",
       "      <td>3</td>\n",
       "      <td>2</td>\n",
       "      <td>7</td>\n",
       "      <td>25</td>\n",
       "      <td>Typical Cereals</td>\n",
       "      <td>Typical Cereals</td>\n",
       "    </tr>\n",
       "    <tr>\n",
       "      <th>15</th>\n",
       "      <td>Corn_Chex</td>\n",
       "      <td>Ralston Purina</td>\n",
       "      <td>110</td>\n",
       "      <td>2</td>\n",
       "      <td>0</td>\n",
       "      <td>3</td>\n",
       "      <td>25</td>\n",
       "      <td>Typical Cereals</td>\n",
       "      <td>Typical Cereals</td>\n",
       "    </tr>\n",
       "  </tbody>\n",
       "</table>\n",
       "</div>"
      ],
      "text/plain": [
       "       Cereal Name    Manufacturer  Calories  Protein (g)  Fat  Sugars  \\\n",
       "4   Almond_Delight  Ralston Purina       110            2    2       8   \n",
       "8        Bran_Chex  Ralston Purina        90            2    1       6   \n",
       "9      Bran_Flakes            Post        90            3    0       5   \n",
       "13        Clusters   General Mills       110            3    2       7   \n",
       "15       Corn_Chex  Ralston Purina       110            2    0       3   \n",
       "\n",
       "    Vitamins and Minerals  model1_clusters  model2_clusters  \n",
       "4                      25  Typical Cereals  Typical Cereals  \n",
       "8                      25  Typical Cereals  Typical Cereals  \n",
       "9                      25  Typical Cereals  Typical Cereals  \n",
       "13                     25  Typical Cereals  Typical Cereals  \n",
       "15                     25  Typical Cereals  Typical Cereals  "
      ]
     },
     "execution_count": 28,
     "metadata": {},
     "output_type": "execute_result"
    }
   ],
   "source": [
    "# view the typical cereals\n",
    "cereal_typical = cluster_names[cluster_names.model2_clusters == 'Typical Cereals']\n",
    "cereal_typical.head()"
   ]
  },
  {
   "cell_type": "code",
   "execution_count": 29,
   "id": "7bd95f38",
   "metadata": {},
   "outputs": [
    {
     "data": {
      "text/plain": [
       "Manufacturer\n",
       "Kelloggs                       23\n",
       "General Mills                  22\n",
       "Quaker Oats                     8\n",
       "Post                            8\n",
       "Nabisco                         6\n",
       "Ralston Purina                  6\n",
       "American Home Food Products     1\n",
       "Name: count, dtype: int64"
      ]
     },
     "execution_count": 29,
     "metadata": {},
     "output_type": "execute_result"
    }
   ],
   "source": [
    "# view the top manufacturers\n",
    "cluster_names.Manufacturer.value_counts()"
   ]
  },
  {
   "cell_type": "code",
   "execution_count": 30,
   "id": "8c73485a",
   "metadata": {},
   "outputs": [
    {
     "data": {
      "text/html": [
       "<div>\n",
       "<style scoped>\n",
       "    .dataframe tbody tr th:only-of-type {\n",
       "        vertical-align: middle;\n",
       "    }\n",
       "\n",
       "    .dataframe tbody tr th {\n",
       "        vertical-align: top;\n",
       "    }\n",
       "\n",
       "    .dataframe thead th {\n",
       "        text-align: right;\n",
       "    }\n",
       "</style>\n",
       "<table border=\"1\" class=\"dataframe\">\n",
       "  <thead>\n",
       "    <tr style=\"text-align: right;\">\n",
       "      <th></th>\n",
       "      <th>Cereal Name</th>\n",
       "      <th>Manufacturer</th>\n",
       "      <th>Calories</th>\n",
       "      <th>Protein (g)</th>\n",
       "      <th>Fat</th>\n",
       "      <th>Sugars</th>\n",
       "      <th>Vitamins and Minerals</th>\n",
       "      <th>model1_clusters</th>\n",
       "      <th>model2_clusters</th>\n",
       "    </tr>\n",
       "  </thead>\n",
       "  <tbody>\n",
       "    <tr>\n",
       "      <th>13</th>\n",
       "      <td>Clusters</td>\n",
       "      <td>General Mills</td>\n",
       "      <td>110</td>\n",
       "      <td>3</td>\n",
       "      <td>2</td>\n",
       "      <td>7</td>\n",
       "      <td>25</td>\n",
       "      <td>Typical Cereals</td>\n",
       "      <td>Typical Cereals</td>\n",
       "    </tr>\n",
       "    <tr>\n",
       "      <th>16</th>\n",
       "      <td>Corn_Flakes</td>\n",
       "      <td>Kelloggs</td>\n",
       "      <td>100</td>\n",
       "      <td>2</td>\n",
       "      <td>0</td>\n",
       "      <td>2</td>\n",
       "      <td>25</td>\n",
       "      <td>Typical Cereals</td>\n",
       "      <td>Typical Cereals</td>\n",
       "    </tr>\n",
       "    <tr>\n",
       "      <th>19</th>\n",
       "      <td>Cracklin'_Oat_Bran</td>\n",
       "      <td>Kelloggs</td>\n",
       "      <td>110</td>\n",
       "      <td>3</td>\n",
       "      <td>3</td>\n",
       "      <td>7</td>\n",
       "      <td>25</td>\n",
       "      <td>Typical Cereals</td>\n",
       "      <td>Typical Cereals</td>\n",
       "    </tr>\n",
       "    <tr>\n",
       "      <th>21</th>\n",
       "      <td>Crispix</td>\n",
       "      <td>Kelloggs</td>\n",
       "      <td>110</td>\n",
       "      <td>2</td>\n",
       "      <td>0</td>\n",
       "      <td>3</td>\n",
       "      <td>25</td>\n",
       "      <td>Typical Cereals</td>\n",
       "      <td>Typical Cereals</td>\n",
       "    </tr>\n",
       "    <tr>\n",
       "      <th>26</th>\n",
       "      <td>Frosted_Mini-Wheats</td>\n",
       "      <td>Kelloggs</td>\n",
       "      <td>100</td>\n",
       "      <td>3</td>\n",
       "      <td>0</td>\n",
       "      <td>7</td>\n",
       "      <td>25</td>\n",
       "      <td>Typical Cereals</td>\n",
       "      <td>Typical Cereals</td>\n",
       "    </tr>\n",
       "  </tbody>\n",
       "</table>\n",
       "</div>"
      ],
      "text/plain": [
       "            Cereal Name   Manufacturer  Calories  Protein (g)  Fat  Sugars  \\\n",
       "13             Clusters  General Mills       110            3    2       7   \n",
       "16          Corn_Flakes       Kelloggs       100            2    0       2   \n",
       "19   Cracklin'_Oat_Bran       Kelloggs       110            3    3       7   \n",
       "21              Crispix       Kelloggs       110            2    0       3   \n",
       "26  Frosted_Mini-Wheats       Kelloggs       100            3    0       7   \n",
       "\n",
       "    Vitamins and Minerals  model1_clusters  model2_clusters  \n",
       "13                     25  Typical Cereals  Typical Cereals  \n",
       "16                     25  Typical Cereals  Typical Cereals  \n",
       "19                     25  Typical Cereals  Typical Cereals  \n",
       "21                     25  Typical Cereals  Typical Cereals  \n",
       "26                     25  Typical Cereals  Typical Cereals  "
      ]
     },
     "execution_count": 30,
     "metadata": {},
     "output_type": "execute_result"
    }
   ],
   "source": [
    "# select one cereal from each major manufacturer -- maybe corn flakes and cheerios\n",
    "cereal_typical[cereal_typical.Manufacturer.isin(['Kelloggs', 'General Mills'])].head()"
   ]
  },
  {
   "cell_type": "markdown",
   "id": "c7c386b4",
   "metadata": {},
   "source": [
    "#### 2. Sugary cereals to display near the snacks & candy aisle"
   ]
  },
  {
   "cell_type": "code",
   "execution_count": 31,
   "id": "6ed8f2d8",
   "metadata": {},
   "outputs": [
    {
     "data": {
      "text/html": [
       "<div>\n",
       "<style scoped>\n",
       "    .dataframe tbody tr th:only-of-type {\n",
       "        vertical-align: middle;\n",
       "    }\n",
       "\n",
       "    .dataframe tbody tr th {\n",
       "        vertical-align: top;\n",
       "    }\n",
       "\n",
       "    .dataframe thead th {\n",
       "        text-align: right;\n",
       "    }\n",
       "</style>\n",
       "<table border=\"1\" class=\"dataframe\">\n",
       "  <thead>\n",
       "    <tr style=\"text-align: right;\">\n",
       "      <th></th>\n",
       "      <th>Cereal Name</th>\n",
       "      <th>Manufacturer</th>\n",
       "      <th>Calories</th>\n",
       "      <th>Protein (g)</th>\n",
       "      <th>Fat</th>\n",
       "      <th>Sugars</th>\n",
       "      <th>Vitamins and Minerals</th>\n",
       "      <th>model1_clusters</th>\n",
       "      <th>model2_clusters</th>\n",
       "    </tr>\n",
       "  </thead>\n",
       "  <tbody>\n",
       "    <tr>\n",
       "      <th>1</th>\n",
       "      <td>100%_Natural_Bran</td>\n",
       "      <td>Quaker Oats</td>\n",
       "      <td>120</td>\n",
       "      <td>3</td>\n",
       "      <td>5</td>\n",
       "      <td>8</td>\n",
       "      <td>0</td>\n",
       "      <td>Typical Cereals</td>\n",
       "      <td>High Calories + Sugar</td>\n",
       "    </tr>\n",
       "    <tr>\n",
       "      <th>5</th>\n",
       "      <td>Apple_Cinnamon_Cheerios</td>\n",
       "      <td>General Mills</td>\n",
       "      <td>110</td>\n",
       "      <td>2</td>\n",
       "      <td>2</td>\n",
       "      <td>10</td>\n",
       "      <td>25</td>\n",
       "      <td>Typical Cereals</td>\n",
       "      <td>High Sugar, Low Protein</td>\n",
       "    </tr>\n",
       "    <tr>\n",
       "      <th>6</th>\n",
       "      <td>Apple_Jacks</td>\n",
       "      <td>Kelloggs</td>\n",
       "      <td>110</td>\n",
       "      <td>2</td>\n",
       "      <td>0</td>\n",
       "      <td>14</td>\n",
       "      <td>25</td>\n",
       "      <td>Typical Cereals</td>\n",
       "      <td>High Sugar, Low Protein</td>\n",
       "    </tr>\n",
       "    <tr>\n",
       "      <th>7</th>\n",
       "      <td>Basic_4</td>\n",
       "      <td>General Mills</td>\n",
       "      <td>130</td>\n",
       "      <td>3</td>\n",
       "      <td>2</td>\n",
       "      <td>8</td>\n",
       "      <td>25</td>\n",
       "      <td>Typical Cereals</td>\n",
       "      <td>High Calories + Sugar</td>\n",
       "    </tr>\n",
       "    <tr>\n",
       "      <th>10</th>\n",
       "      <td>Cap'n'Crunch</td>\n",
       "      <td>Quaker Oats</td>\n",
       "      <td>120</td>\n",
       "      <td>1</td>\n",
       "      <td>2</td>\n",
       "      <td>12</td>\n",
       "      <td>25</td>\n",
       "      <td>Typical Cereals</td>\n",
       "      <td>High Sugar, Low Protein</td>\n",
       "    </tr>\n",
       "  </tbody>\n",
       "</table>\n",
       "</div>"
      ],
      "text/plain": [
       "                Cereal Name   Manufacturer  Calories  Protein (g)  Fat  \\\n",
       "1         100%_Natural_Bran    Quaker Oats       120            3    5   \n",
       "5   Apple_Cinnamon_Cheerios  General Mills       110            2    2   \n",
       "6               Apple_Jacks       Kelloggs       110            2    0   \n",
       "7                   Basic_4  General Mills       130            3    2   \n",
       "10             Cap'n'Crunch    Quaker Oats       120            1    2   \n",
       "\n",
       "    Sugars  Vitamins and Minerals  model1_clusters          model2_clusters  \n",
       "1        8                      0  Typical Cereals    High Calories + Sugar  \n",
       "5       10                     25  Typical Cereals  High Sugar, Low Protein  \n",
       "6       14                     25  Typical Cereals  High Sugar, Low Protein  \n",
       "7        8                     25  Typical Cereals    High Calories + Sugar  \n",
       "10      12                     25  Typical Cereals  High Sugar, Low Protein  "
      ]
     },
     "execution_count": 31,
     "metadata": {},
     "output_type": "execute_result"
    }
   ],
   "source": [
    "# view the sugary cereals\n",
    "cereal_sugary = cluster_names[cluster_names.model2_clusters.isin(['High Calories + Sugar',\n",
    "                                                                  'High Sugar, Low Protein'])]\n",
    "cereal_sugary.head()"
   ]
  },
  {
   "cell_type": "code",
   "execution_count": 32,
   "id": "45fb8bce",
   "metadata": {},
   "outputs": [
    {
     "data": {
      "text/html": [
       "<div>\n",
       "<style scoped>\n",
       "    .dataframe tbody tr th:only-of-type {\n",
       "        vertical-align: middle;\n",
       "    }\n",
       "\n",
       "    .dataframe tbody tr th {\n",
       "        vertical-align: top;\n",
       "    }\n",
       "\n",
       "    .dataframe thead th {\n",
       "        text-align: right;\n",
       "    }\n",
       "</style>\n",
       "<table border=\"1\" class=\"dataframe\">\n",
       "  <thead>\n",
       "    <tr style=\"text-align: right;\">\n",
       "      <th></th>\n",
       "      <th>Cereal Name</th>\n",
       "      <th>Manufacturer</th>\n",
       "      <th>Calories</th>\n",
       "      <th>Protein (g)</th>\n",
       "      <th>Fat</th>\n",
       "      <th>Sugars</th>\n",
       "      <th>Vitamins and Minerals</th>\n",
       "      <th>model1_clusters</th>\n",
       "      <th>model2_clusters</th>\n",
       "    </tr>\n",
       "  </thead>\n",
       "  <tbody>\n",
       "    <tr>\n",
       "      <th>29</th>\n",
       "      <td>Golden_Crisp</td>\n",
       "      <td>Post</td>\n",
       "      <td>100</td>\n",
       "      <td>2</td>\n",
       "      <td>0</td>\n",
       "      <td>15</td>\n",
       "      <td>25</td>\n",
       "      <td>Typical Cereals</td>\n",
       "      <td>High Sugar, Low Protein</td>\n",
       "    </tr>\n",
       "    <tr>\n",
       "      <th>63</th>\n",
       "      <td>Smacks</td>\n",
       "      <td>Kelloggs</td>\n",
       "      <td>110</td>\n",
       "      <td>2</td>\n",
       "      <td>1</td>\n",
       "      <td>15</td>\n",
       "      <td>25</td>\n",
       "      <td>Typical Cereals</td>\n",
       "      <td>High Sugar, Low Protein</td>\n",
       "    </tr>\n",
       "    <tr>\n",
       "      <th>6</th>\n",
       "      <td>Apple_Jacks</td>\n",
       "      <td>Kelloggs</td>\n",
       "      <td>110</td>\n",
       "      <td>2</td>\n",
       "      <td>0</td>\n",
       "      <td>14</td>\n",
       "      <td>25</td>\n",
       "      <td>Typical Cereals</td>\n",
       "      <td>High Sugar, Low Protein</td>\n",
       "    </tr>\n",
       "    <tr>\n",
       "      <th>49</th>\n",
       "      <td>Post_Nat._Raisin_Bran</td>\n",
       "      <td>Post</td>\n",
       "      <td>120</td>\n",
       "      <td>3</td>\n",
       "      <td>1</td>\n",
       "      <td>14</td>\n",
       "      <td>25</td>\n",
       "      <td>Typical Cereals</td>\n",
       "      <td>High Calories + Sugar</td>\n",
       "    </tr>\n",
       "    <tr>\n",
       "      <th>14</th>\n",
       "      <td>Cocoa_Puffs</td>\n",
       "      <td>General Mills</td>\n",
       "      <td>110</td>\n",
       "      <td>1</td>\n",
       "      <td>1</td>\n",
       "      <td>13</td>\n",
       "      <td>25</td>\n",
       "      <td>Typical Cereals</td>\n",
       "      <td>High Sugar, Low Protein</td>\n",
       "    </tr>\n",
       "  </tbody>\n",
       "</table>\n",
       "</div>"
      ],
      "text/plain": [
       "              Cereal Name   Manufacturer  Calories  Protein (g)  Fat  Sugars  \\\n",
       "29           Golden_Crisp           Post       100            2    0      15   \n",
       "63                 Smacks       Kelloggs       110            2    1      15   \n",
       "6             Apple_Jacks       Kelloggs       110            2    0      14   \n",
       "49  Post_Nat._Raisin_Bran           Post       120            3    1      14   \n",
       "14            Cocoa_Puffs  General Mills       110            1    1      13   \n",
       "\n",
       "    Vitamins and Minerals  model1_clusters          model2_clusters  \n",
       "29                     25  Typical Cereals  High Sugar, Low Protein  \n",
       "63                     25  Typical Cereals  High Sugar, Low Protein  \n",
       "6                      25  Typical Cereals  High Sugar, Low Protein  \n",
       "49                     25  Typical Cereals    High Calories + Sugar  \n",
       "14                     25  Typical Cereals  High Sugar, Low Protein  "
      ]
     },
     "execution_count": 32,
     "metadata": {},
     "output_type": "execute_result"
    }
   ],
   "source": [
    "# sort by most sugar -- maybe golden crisp and smacks\n",
    "cereal_sugary.sort_values('Sugars', ascending=False).head()"
   ]
  },
  {
   "cell_type": "markdown",
   "id": "a830b250",
   "metadata": {},
   "source": [
    "#### 3. Healthy cereals to display near the healthy foods aisle"
   ]
  },
  {
   "cell_type": "code",
   "execution_count": 33,
   "id": "cf1b4f24",
   "metadata": {},
   "outputs": [
    {
     "data": {
      "text/html": [
       "<div>\n",
       "<style scoped>\n",
       "    .dataframe tbody tr th:only-of-type {\n",
       "        vertical-align: middle;\n",
       "    }\n",
       "\n",
       "    .dataframe tbody tr th {\n",
       "        vertical-align: top;\n",
       "    }\n",
       "\n",
       "    .dataframe thead th {\n",
       "        text-align: right;\n",
       "    }\n",
       "</style>\n",
       "<table border=\"1\" class=\"dataframe\">\n",
       "  <thead>\n",
       "    <tr style=\"text-align: right;\">\n",
       "      <th></th>\n",
       "      <th>Cereal Name</th>\n",
       "      <th>Manufacturer</th>\n",
       "      <th>Calories</th>\n",
       "      <th>Protein (g)</th>\n",
       "      <th>Fat</th>\n",
       "      <th>Sugars</th>\n",
       "      <th>Vitamins and Minerals</th>\n",
       "      <th>model1_clusters</th>\n",
       "      <th>model2_clusters</th>\n",
       "    </tr>\n",
       "  </thead>\n",
       "  <tbody>\n",
       "    <tr>\n",
       "      <th>0</th>\n",
       "      <td>100%_Bran</td>\n",
       "      <td>Nabisco</td>\n",
       "      <td>70</td>\n",
       "      <td>4</td>\n",
       "      <td>1</td>\n",
       "      <td>6</td>\n",
       "      <td>25</td>\n",
       "      <td>Empty Cereals</td>\n",
       "      <td>High Protein</td>\n",
       "    </tr>\n",
       "    <tr>\n",
       "      <th>2</th>\n",
       "      <td>All-Bran</td>\n",
       "      <td>Kelloggs</td>\n",
       "      <td>70</td>\n",
       "      <td>4</td>\n",
       "      <td>1</td>\n",
       "      <td>5</td>\n",
       "      <td>25</td>\n",
       "      <td>Empty Cereals</td>\n",
       "      <td>High Protein</td>\n",
       "    </tr>\n",
       "    <tr>\n",
       "      <th>3</th>\n",
       "      <td>All-Bran_with_Extra_Fiber</td>\n",
       "      <td>Kelloggs</td>\n",
       "      <td>50</td>\n",
       "      <td>4</td>\n",
       "      <td>0</td>\n",
       "      <td>0</td>\n",
       "      <td>25</td>\n",
       "      <td>Empty Cereals</td>\n",
       "      <td>Low Calories + Sugar + Vitamins and Minerals</td>\n",
       "    </tr>\n",
       "    <tr>\n",
       "      <th>11</th>\n",
       "      <td>Cheerios</td>\n",
       "      <td>General Mills</td>\n",
       "      <td>110</td>\n",
       "      <td>6</td>\n",
       "      <td>2</td>\n",
       "      <td>1</td>\n",
       "      <td>25</td>\n",
       "      <td>Typical Cereals</td>\n",
       "      <td>High Protein</td>\n",
       "    </tr>\n",
       "    <tr>\n",
       "      <th>20</th>\n",
       "      <td>Cream_of_Wheat_(Quick)</td>\n",
       "      <td>Nabisco</td>\n",
       "      <td>100</td>\n",
       "      <td>3</td>\n",
       "      <td>0</td>\n",
       "      <td>0</td>\n",
       "      <td>0</td>\n",
       "      <td>Typical Cereals</td>\n",
       "      <td>Low Calories + Sugar + Vitamins and Minerals</td>\n",
       "    </tr>\n",
       "  </tbody>\n",
       "</table>\n",
       "</div>"
      ],
      "text/plain": [
       "                  Cereal Name   Manufacturer  Calories  Protein (g)  Fat  \\\n",
       "0                   100%_Bran        Nabisco        70            4    1   \n",
       "2                    All-Bran       Kelloggs        70            4    1   \n",
       "3   All-Bran_with_Extra_Fiber       Kelloggs        50            4    0   \n",
       "11                   Cheerios  General Mills       110            6    2   \n",
       "20     Cream_of_Wheat_(Quick)        Nabisco       100            3    0   \n",
       "\n",
       "    Sugars  Vitamins and Minerals  model1_clusters  \\\n",
       "0        6                     25    Empty Cereals   \n",
       "2        5                     25    Empty Cereals   \n",
       "3        0                     25    Empty Cereals   \n",
       "11       1                     25  Typical Cereals   \n",
       "20       0                      0  Typical Cereals   \n",
       "\n",
       "                                 model2_clusters  \n",
       "0                                   High Protein  \n",
       "2                                   High Protein  \n",
       "3   Low Calories + Sugar + Vitamins and Minerals  \n",
       "11                                  High Protein  \n",
       "20  Low Calories + Sugar + Vitamins and Minerals  "
      ]
     },
     "execution_count": 33,
     "metadata": {},
     "output_type": "execute_result"
    }
   ],
   "source": [
    "# view the healthy cereals\n",
    "cereal_healthy = cluster_names[cluster_names.model2_clusters.isin(['High Protein',\n",
    "                                                                   'High Vitamins and Minerals',\n",
    "                                                                   'Low Calories + Sugar + Vitamins and Minerals'])]\n",
    "cereal_healthy.head()"
   ]
  },
  {
   "cell_type": "code",
   "execution_count": 34,
   "id": "c18022ea",
   "metadata": {},
   "outputs": [
    {
     "data": {
      "text/html": [
       "<div>\n",
       "<style scoped>\n",
       "    .dataframe tbody tr th:only-of-type {\n",
       "        vertical-align: middle;\n",
       "    }\n",
       "\n",
       "    .dataframe tbody tr th {\n",
       "        vertical-align: top;\n",
       "    }\n",
       "\n",
       "    .dataframe thead th {\n",
       "        text-align: right;\n",
       "    }\n",
       "</style>\n",
       "<table border=\"1\" class=\"dataframe\">\n",
       "  <thead>\n",
       "    <tr style=\"text-align: right;\">\n",
       "      <th></th>\n",
       "      <th>Cereal Name</th>\n",
       "      <th>Manufacturer</th>\n",
       "      <th>Calories</th>\n",
       "      <th>Protein (g)</th>\n",
       "      <th>Fat</th>\n",
       "      <th>Sugars</th>\n",
       "      <th>Vitamins and Minerals</th>\n",
       "      <th>model1_clusters</th>\n",
       "      <th>model2_clusters</th>\n",
       "    </tr>\n",
       "  </thead>\n",
       "  <tbody>\n",
       "    <tr>\n",
       "      <th>11</th>\n",
       "      <td>Cheerios</td>\n",
       "      <td>General Mills</td>\n",
       "      <td>110</td>\n",
       "      <td>6</td>\n",
       "      <td>2</td>\n",
       "      <td>1</td>\n",
       "      <td>25</td>\n",
       "      <td>Typical Cereals</td>\n",
       "      <td>High Protein</td>\n",
       "    </tr>\n",
       "    <tr>\n",
       "      <th>64</th>\n",
       "      <td>Special_K</td>\n",
       "      <td>Kelloggs</td>\n",
       "      <td>110</td>\n",
       "      <td>6</td>\n",
       "      <td>0</td>\n",
       "      <td>3</td>\n",
       "      <td>25</td>\n",
       "      <td>Typical Cereals</td>\n",
       "      <td>High Protein</td>\n",
       "    </tr>\n",
       "    <tr>\n",
       "      <th>54</th>\n",
       "      <td>Quaker_Oatmeal</td>\n",
       "      <td>Quaker Oats</td>\n",
       "      <td>100</td>\n",
       "      <td>5</td>\n",
       "      <td>2</td>\n",
       "      <td>-1</td>\n",
       "      <td>0</td>\n",
       "      <td>Typical Cereals</td>\n",
       "      <td>High Protein</td>\n",
       "    </tr>\n",
       "    <tr>\n",
       "      <th>0</th>\n",
       "      <td>100%_Bran</td>\n",
       "      <td>Nabisco</td>\n",
       "      <td>70</td>\n",
       "      <td>4</td>\n",
       "      <td>1</td>\n",
       "      <td>6</td>\n",
       "      <td>25</td>\n",
       "      <td>Empty Cereals</td>\n",
       "      <td>High Protein</td>\n",
       "    </tr>\n",
       "    <tr>\n",
       "      <th>53</th>\n",
       "      <td>Quaker_Oat_Squares</td>\n",
       "      <td>Quaker Oats</td>\n",
       "      <td>100</td>\n",
       "      <td>4</td>\n",
       "      <td>1</td>\n",
       "      <td>6</td>\n",
       "      <td>25</td>\n",
       "      <td>Typical Cereals</td>\n",
       "      <td>High Protein</td>\n",
       "    </tr>\n",
       "  </tbody>\n",
       "</table>\n",
       "</div>"
      ],
      "text/plain": [
       "           Cereal Name   Manufacturer  Calories  Protein (g)  Fat  Sugars  \\\n",
       "11            Cheerios  General Mills       110            6    2       1   \n",
       "64           Special_K       Kelloggs       110            6    0       3   \n",
       "54      Quaker_Oatmeal    Quaker Oats       100            5    2      -1   \n",
       "0            100%_Bran        Nabisco        70            4    1       6   \n",
       "53  Quaker_Oat_Squares    Quaker Oats       100            4    1       6   \n",
       "\n",
       "    Vitamins and Minerals  model1_clusters model2_clusters  \n",
       "11                     25  Typical Cereals    High Protein  \n",
       "64                     25  Typical Cereals    High Protein  \n",
       "54                      0  Typical Cereals    High Protein  \n",
       "0                      25    Empty Cereals    High Protein  \n",
       "53                     25  Typical Cereals    High Protein  "
      ]
     },
     "execution_count": 34,
     "metadata": {},
     "output_type": "execute_result"
    }
   ],
   "source": [
    "# sort by most protein -- maybe cheerios and special k\n",
    "cereal_healthy.sort_values('Protein (g)', ascending=False).head()"
   ]
  },
  {
   "cell_type": "markdown",
   "id": "62474185",
   "metadata": {},
   "source": [
    "## 5. Hierarchical Clustering"
   ]
  },
  {
   "cell_type": "code",
   "execution_count": 35,
   "id": "8020034c",
   "metadata": {},
   "outputs": [
    {
     "data": {
      "text/html": [
       "<div>\n",
       "<style scoped>\n",
       "    .dataframe tbody tr th:only-of-type {\n",
       "        vertical-align: middle;\n",
       "    }\n",
       "\n",
       "    .dataframe tbody tr th {\n",
       "        vertical-align: top;\n",
       "    }\n",
       "\n",
       "    .dataframe thead th {\n",
       "        text-align: right;\n",
       "    }\n",
       "</style>\n",
       "<table border=\"1\" class=\"dataframe\">\n",
       "  <thead>\n",
       "    <tr style=\"text-align: right;\">\n",
       "      <th></th>\n",
       "      <th>Calories</th>\n",
       "      <th>Protein (g)</th>\n",
       "      <th>Fat</th>\n",
       "      <th>Sugars</th>\n",
       "      <th>Vitamins and Minerals</th>\n",
       "    </tr>\n",
       "  </thead>\n",
       "  <tbody>\n",
       "    <tr>\n",
       "      <th>0</th>\n",
       "      <td>70</td>\n",
       "      <td>4</td>\n",
       "      <td>1</td>\n",
       "      <td>6</td>\n",
       "      <td>25</td>\n",
       "    </tr>\n",
       "    <tr>\n",
       "      <th>1</th>\n",
       "      <td>120</td>\n",
       "      <td>3</td>\n",
       "      <td>5</td>\n",
       "      <td>8</td>\n",
       "      <td>0</td>\n",
       "    </tr>\n",
       "    <tr>\n",
       "      <th>2</th>\n",
       "      <td>70</td>\n",
       "      <td>4</td>\n",
       "      <td>1</td>\n",
       "      <td>5</td>\n",
       "      <td>25</td>\n",
       "    </tr>\n",
       "    <tr>\n",
       "      <th>3</th>\n",
       "      <td>50</td>\n",
       "      <td>4</td>\n",
       "      <td>0</td>\n",
       "      <td>0</td>\n",
       "      <td>25</td>\n",
       "    </tr>\n",
       "    <tr>\n",
       "      <th>4</th>\n",
       "      <td>110</td>\n",
       "      <td>2</td>\n",
       "      <td>2</td>\n",
       "      <td>8</td>\n",
       "      <td>25</td>\n",
       "    </tr>\n",
       "  </tbody>\n",
       "</table>\n",
       "</div>"
      ],
      "text/plain": [
       "   Calories  Protein (g)  Fat  Sugars  Vitamins and Minerals\n",
       "0        70            4    1       6                     25\n",
       "1       120            3    5       8                      0\n",
       "2        70            4    1       5                     25\n",
       "3        50            4    0       0                     25\n",
       "4       110            2    2       8                     25"
      ]
     },
     "execution_count": 35,
     "metadata": {},
     "output_type": "execute_result"
    }
   ],
   "source": [
    "# view the original data\n",
    "data.head()"
   ]
  },
  {
   "cell_type": "code",
   "execution_count": 36,
   "id": "d9596ec8-50fa-4053-953d-15429df5525d",
   "metadata": {},
   "outputs": [
    {
     "data": {
      "text/html": [
       "<div>\n",
       "<style scoped>\n",
       "    .dataframe tbody tr th:only-of-type {\n",
       "        vertical-align: middle;\n",
       "    }\n",
       "\n",
       "    .dataframe tbody tr th {\n",
       "        vertical-align: top;\n",
       "    }\n",
       "\n",
       "    .dataframe thead th {\n",
       "        text-align: right;\n",
       "    }\n",
       "</style>\n",
       "<table border=\"1\" class=\"dataframe\">\n",
       "  <thead>\n",
       "    <tr style=\"text-align: right;\">\n",
       "      <th></th>\n",
       "      <th>Calories</th>\n",
       "      <th>Protein (g)</th>\n",
       "      <th>Sugars</th>\n",
       "      <th>Vitamins and Minerals</th>\n",
       "    </tr>\n",
       "  </thead>\n",
       "  <tbody>\n",
       "    <tr>\n",
       "      <th>0</th>\n",
       "      <td>-1.940286</td>\n",
       "      <td>1.387392</td>\n",
       "      <td>-0.173586</td>\n",
       "      <td>-0.149270</td>\n",
       "    </tr>\n",
       "    <tr>\n",
       "      <th>1</th>\n",
       "      <td>0.789394</td>\n",
       "      <td>0.462464</td>\n",
       "      <td>0.277129</td>\n",
       "      <td>-1.253871</td>\n",
       "    </tr>\n",
       "    <tr>\n",
       "      <th>2</th>\n",
       "      <td>-1.940286</td>\n",
       "      <td>1.387392</td>\n",
       "      <td>-0.398944</td>\n",
       "      <td>-0.149270</td>\n",
       "    </tr>\n",
       "    <tr>\n",
       "      <th>3</th>\n",
       "      <td>-3.032158</td>\n",
       "      <td>1.387392</td>\n",
       "      <td>-1.525731</td>\n",
       "      <td>-0.149270</td>\n",
       "    </tr>\n",
       "    <tr>\n",
       "      <th>4</th>\n",
       "      <td>0.243458</td>\n",
       "      <td>-0.462464</td>\n",
       "      <td>0.277129</td>\n",
       "      <td>-0.149270</td>\n",
       "    </tr>\n",
       "  </tbody>\n",
       "</table>\n",
       "</div>"
      ],
      "text/plain": [
       "   Calories  Protein (g)    Sugars  Vitamins and Minerals\n",
       "0 -1.940286     1.387392 -0.173586              -0.149270\n",
       "1  0.789394     0.462464  0.277129              -1.253871\n",
       "2 -1.940286     1.387392 -0.398944              -0.149270\n",
       "3 -3.032158     1.387392 -1.525731              -0.149270\n",
       "4  0.243458    -0.462464  0.277129              -0.149270"
      ]
     },
     "execution_count": 36,
     "metadata": {},
     "output_type": "execute_result"
    }
   ],
   "source": [
    "# view the standardized data without fat\n",
    "data_scaled.head()"
   ]
  },
  {
   "cell_type": "code",
   "execution_count": 37,
   "id": "033ac9ba",
   "metadata": {},
   "outputs": [
    {
     "data": {
      "image/png": "[encoded data removed]",
      "text/plain": [
       "<Figure size 640x480 with 1 Axes>"
      ]
     },
     "metadata": {},
     "output_type": "display_data"
    }
   ],
   "source": [
    "# 1. Create a dendrogram using the 5 numeric fields of the cereal data set\n",
    "from scipy.cluster.hierarchy import linkage, dendrogram\n",
    "import matplotlib.pyplot as plt\n",
    "\n",
    "linkage_matrix = linkage(data, method='ward')\n",
    "dendrogram_info = dendrogram(linkage_matrix, color_threshold=100)\n",
    "\n",
    "plt.title(\"Hierarchical Clustering Dendrogram\")\n",
    "plt.xlabel(\"Data Points\")\n",
    "plt.ylabel(\"Euclidean Distance\");"
   ]
  },
  {
   "cell_type": "code",
   "execution_count": 38,
   "id": "c4d8afc5-16fa-4939-b83f-a0199bb2515c",
   "metadata": {},
   "outputs": [],
   "source": [
    "# 2. Visually identify the ”best” number of clusters and adjust the color_threshold: there seem to be three or four clusters"
   ]
  },
  {
   "cell_type": "code",
   "execution_count": 39,
   "id": "5814e329-6b3a-44a2-810d-c9f5654af1d9",
   "metadata": {},
   "outputs": [
    {
     "data": {
      "image/png": "[encoded data removed]",
      "text/plain": [
       "<Figure size 640x480 with 1 Axes>"
      ]
     },
     "metadata": {},
     "output_type": "display_data"
    }
   ],
   "source": [
    "# 3. Create a dendrogram using the 4 numeric, standardized fields (excluding “Fat”) of the cereal data set\n",
    "linkage_matrix_scaled = linkage(data_scaled, method='ward')\n",
    "dendrogram_info_scaled = dendrogram(linkage_matrix_scaled, color_threshold=7.5)\n",
    "\n",
    "plt.title(\"Hierarchical Clustering Dendrogram\")\n",
    "plt.xlabel(\"Data Points\")\n",
    "plt.ylabel(\"Euclidean Distance\");"
   ]
  },
  {
   "cell_type": "code",
   "execution_count": 40,
   "id": "92d4b674-b22e-498d-b7b8-dfed5a3c1eff",
   "metadata": {},
   "outputs": [],
   "source": [
    "# 4. Visually identify the ”best” number of clusters and adjust the color_threshold: there seem to be four clusters"
   ]
  },
  {
   "cell_type": "code",
   "execution_count": 41,
   "id": "df80b0fd-a0e3-4cf0-a62c-c830cac13283",
   "metadata": {},
   "outputs": [
    {
     "data": {
      "text/plain": [
       "array([0, 1, 0, 0, 3, 3, 1, 1, 3, 3, 1, 0, 1, 3, 1, 3, 3, 1, 1, 3, 3, 3,\n",
       "       3, 3, 1, 1, 3, 1, 1, 1, 1, 3, 3, 3, 1, 3, 1, 2, 2, 3, 3, 1, 3, 1,\n",
       "       3, 3, 1, 3, 1, 1, 2, 0, 0, 3, 0, 1, 3, 3, 3, 3, 3, 3, 3, 1, 0, 3,\n",
       "       2, 2, 2, 3, 1, 3, 3, 3])"
      ]
     },
     "execution_count": 41,
     "metadata": {},
     "output_type": "execute_result"
    }
   ],
   "source": [
    "# 5. Fit an agglomerative clustering model on the scaled data set with four clusters and view the labels\n",
    "from sklearn.cluster import AgglomerativeClustering\n",
    "\n",
    "agg = AgglomerativeClustering(4)\n",
    "agg.fit(data_scaled)\n",
    "\n",
    "agg.labels_"
   ]
  },
  {
   "cell_type": "code",
   "execution_count": 42,
   "id": "5425f7c7-80f5-46f7-ab28-806144c999e8",
   "metadata": {},
   "outputs": [
    {
     "data": {
      "image/png": "[encoded data removed]",
      "text/plain": [
       "<Figure size 800x600 with 4 Axes>"
      ]
     },
     "metadata": {},
     "output_type": "display_data"
    }
   ],
   "source": [
    "# 6. Create a cluster map of the “best” results and interpret the clusters\n",
    "sns.clustermap(data_scaled, method='ward', cmap='RdBu', figsize=(8,6), xticklabels=data_scaled.columns)\n",
    "plt.show()"
   ]
  },
  {
   "cell_type": "markdown",
   "id": "360f4592-bc61-48a7-a69d-52972db43e3d",
   "metadata": {},
   "source": [
    "* Cluster orange: **General Cereals**\n",
    "* Cluster green: **High Protein**\n",
    "* Cluster red: **High Vitamins and Minerals**\n",
    "* Cluster purple: **High Sugar**"
   ]
  },
  {
   "cell_type": "markdown",
   "id": "fe6716fb",
   "metadata": {},
   "source": [
    "## 6. DBSCAN"
   ]
  },
  {
   "cell_type": "code",
   "execution_count": 43,
   "id": "c20ac81b",
   "metadata": {},
   "outputs": [],
   "source": [
    "# 1. Copy over the function that loops through multiple eps and min_samples values to fit multiple DBSCAN models\n",
    "import numpy as np\n",
    "from sklearn.cluster import DBSCAN\n",
    "from sklearn.metrics import silhouette_score\n",
    "\n",
    "def tune_dbscan(data):\n",
    "\n",
    "    results = []\n",
    "\n",
    "    # define a range of eps and min_samples values to loop through\n",
    "    eps_values = np.arange(.1, 2, .1)\n",
    "    min_samples_values = np.arange(2, 10, 1)\n",
    "\n",
    "    # loop through the combinations of eps and min_samples\n",
    "    for eps in eps_values:\n",
    "        for min_samples in min_samples_values:\n",
    "            dbscan = DBSCAN(eps=eps, min_samples=min_samples)\n",
    "            dbscan.fit(data)\n",
    "            labels = dbscan.labels_\n",
    "\n",
    "            # count the number of clusters (excluding noise points labeled as -1)\n",
    "            n_clusters = len(set(labels)) - (1 if -1 in labels else 0)\n",
    "\n",
    "            # count the number of noise points (labeled as -1)\n",
    "            n_noise = list(labels).count(-1)\n",
    "\n",
    "            # calculate the silhouette score (excluding noise points)\n",
    "            if n_clusters > 1:  # silhouette score requires at least 2 clusters\n",
    "                silhouette = silhouette_score(data, labels, metric='euclidean', sample_size=None)\n",
    "            else:\n",
    "                silhouette = None\n",
    "\n",
    "            results.append([eps, min_samples, n_clusters, n_noise, silhouette])\n",
    "\n",
    "    # put the results in a dataframe\n",
    "    dbscan_results = pd.DataFrame(results, columns=[\"Eps\", \"Min Samples\", \"Number of Clusters\",\n",
    "                                                    \"Number of Noise Points\", \"Silhouette Score\"])\n",
    "    return dbscan_results"
   ]
  },
  {
   "cell_type": "code",
   "execution_count": 44,
   "id": "59e0e791-36f0-4917-a803-18b2ea4035eb",
   "metadata": {},
   "outputs": [],
   "source": [
    "# 2. Apply the function on both the original and standardized data sets"
   ]
  },
  {
   "cell_type": "code",
   "execution_count": 45,
   "id": "35c0d3f3",
   "metadata": {},
   "outputs": [
    {
     "data": {
      "text/html": [
       "<div>\n",
       "<style scoped>\n",
       "    .dataframe tbody tr th:only-of-type {\n",
       "        vertical-align: middle;\n",
       "    }\n",
       "\n",
       "    .dataframe tbody tr th {\n",
       "        vertical-align: top;\n",
       "    }\n",
       "\n",
       "    .dataframe thead th {\n",
       "        text-align: right;\n",
       "    }\n",
       "</style>\n",
       "<table border=\"1\" class=\"dataframe\">\n",
       "  <thead>\n",
       "    <tr style=\"text-align: right;\">\n",
       "      <th></th>\n",
       "      <th>Eps</th>\n",
       "      <th>Min Samples</th>\n",
       "      <th>Number of Clusters</th>\n",
       "      <th>Number of Noise Points</th>\n",
       "      <th>Silhouette Score</th>\n",
       "    </tr>\n",
       "  </thead>\n",
       "  <tbody>\n",
       "    <tr>\n",
       "      <th>0</th>\n",
       "      <td>0.1</td>\n",
       "      <td>2</td>\n",
       "      <td>7</td>\n",
       "      <td>59</td>\n",
       "      <td>-0.302829</td>\n",
       "    </tr>\n",
       "    <tr>\n",
       "      <th>1</th>\n",
       "      <td>0.1</td>\n",
       "      <td>3</td>\n",
       "      <td>1</td>\n",
       "      <td>71</td>\n",
       "      <td>NaN</td>\n",
       "    </tr>\n",
       "    <tr>\n",
       "      <th>2</th>\n",
       "      <td>0.1</td>\n",
       "      <td>4</td>\n",
       "      <td>0</td>\n",
       "      <td>74</td>\n",
       "      <td>NaN</td>\n",
       "    </tr>\n",
       "    <tr>\n",
       "      <th>3</th>\n",
       "      <td>0.1</td>\n",
       "      <td>5</td>\n",
       "      <td>0</td>\n",
       "      <td>74</td>\n",
       "      <td>NaN</td>\n",
       "    </tr>\n",
       "    <tr>\n",
       "      <th>4</th>\n",
       "      <td>0.1</td>\n",
       "      <td>6</td>\n",
       "      <td>0</td>\n",
       "      <td>74</td>\n",
       "      <td>NaN</td>\n",
       "    </tr>\n",
       "  </tbody>\n",
       "</table>\n",
       "</div>"
      ],
      "text/plain": [
       "   Eps  Min Samples  Number of Clusters  Number of Noise Points  \\\n",
       "0  0.1            2                   7                      59   \n",
       "1  0.1            3                   1                      71   \n",
       "2  0.1            4                   0                      74   \n",
       "3  0.1            5                   0                      74   \n",
       "4  0.1            6                   0                      74   \n",
       "\n",
       "   Silhouette Score  \n",
       "0         -0.302829  \n",
       "1               NaN  \n",
       "2               NaN  \n",
       "3               NaN  \n",
       "4               NaN  "
      ]
     },
     "execution_count": 45,
     "metadata": {},
     "output_type": "execute_result"
    }
   ],
   "source": [
    "# tune dbscan on the data\n",
    "dbscan_results_1 = tune_dbscan(data)\n",
    "dbscan_results_1.head()"
   ]
  },
  {
   "cell_type": "code",
   "execution_count": 46,
   "id": "0ff62176",
   "metadata": {},
   "outputs": [
    {
     "data": {
      "text/html": [
       "<div>\n",
       "<style scoped>\n",
       "    .dataframe tbody tr th:only-of-type {\n",
       "        vertical-align: middle;\n",
       "    }\n",
       "\n",
       "    .dataframe tbody tr th {\n",
       "        vertical-align: top;\n",
       "    }\n",
       "\n",
       "    .dataframe thead th {\n",
       "        text-align: right;\n",
       "    }\n",
       "</style>\n",
       "<table border=\"1\" class=\"dataframe\">\n",
       "  <thead>\n",
       "    <tr style=\"text-align: right;\">\n",
       "      <th></th>\n",
       "      <th>Eps</th>\n",
       "      <th>Min Samples</th>\n",
       "      <th>Number of Clusters</th>\n",
       "      <th>Number of Noise Points</th>\n",
       "      <th>Silhouette Score</th>\n",
       "    </tr>\n",
       "  </thead>\n",
       "  <tbody>\n",
       "    <tr>\n",
       "      <th>0</th>\n",
       "      <td>0.1</td>\n",
       "      <td>2</td>\n",
       "      <td>12</td>\n",
       "      <td>46</td>\n",
       "      <td>-0.013101</td>\n",
       "    </tr>\n",
       "    <tr>\n",
       "      <th>1</th>\n",
       "      <td>0.1</td>\n",
       "      <td>3</td>\n",
       "      <td>2</td>\n",
       "      <td>66</td>\n",
       "      <td>-0.213158</td>\n",
       "    </tr>\n",
       "    <tr>\n",
       "      <th>2</th>\n",
       "      <td>0.1</td>\n",
       "      <td>4</td>\n",
       "      <td>1</td>\n",
       "      <td>69</td>\n",
       "      <td>NaN</td>\n",
       "    </tr>\n",
       "    <tr>\n",
       "      <th>3</th>\n",
       "      <td>0.1</td>\n",
       "      <td>5</td>\n",
       "      <td>1</td>\n",
       "      <td>69</td>\n",
       "      <td>NaN</td>\n",
       "    </tr>\n",
       "    <tr>\n",
       "      <th>4</th>\n",
       "      <td>0.1</td>\n",
       "      <td>6</td>\n",
       "      <td>0</td>\n",
       "      <td>74</td>\n",
       "      <td>NaN</td>\n",
       "    </tr>\n",
       "  </tbody>\n",
       "</table>\n",
       "</div>"
      ],
      "text/plain": [
       "   Eps  Min Samples  Number of Clusters  Number of Noise Points  \\\n",
       "0  0.1            2                  12                      46   \n",
       "1  0.1            3                   2                      66   \n",
       "2  0.1            4                   1                      69   \n",
       "3  0.1            5                   1                      69   \n",
       "4  0.1            6                   0                      74   \n",
       "\n",
       "   Silhouette Score  \n",
       "0         -0.013101  \n",
       "1         -0.213158  \n",
       "2               NaN  \n",
       "3               NaN  \n",
       "4               NaN  "
      ]
     },
     "execution_count": 46,
     "metadata": {},
     "output_type": "execute_result"
    }
   ],
   "source": [
    "# tune dbscan on the scaled data\n",
    "dbscan_results_2 = tune_dbscan(data_scaled)\n",
    "dbscan_results_2.head()"
   ]
  },
  {
   "cell_type": "code",
   "execution_count": 47,
   "id": "08ab2904-92a7-49ef-a237-6c716711b900",
   "metadata": {},
   "outputs": [],
   "source": [
    "# 3. Find the highest silhouette score and note down the eps and min_samples values"
   ]
  },
  {
   "cell_type": "code",
   "execution_count": 48,
   "id": "77ace903",
   "metadata": {},
   "outputs": [
    {
     "data": {
      "text/html": [
       "<div>\n",
       "<style scoped>\n",
       "    .dataframe tbody tr th:only-of-type {\n",
       "        vertical-align: middle;\n",
       "    }\n",
       "\n",
       "    .dataframe tbody tr th {\n",
       "        vertical-align: top;\n",
       "    }\n",
       "\n",
       "    .dataframe thead th {\n",
       "        text-align: right;\n",
       "    }\n",
       "</style>\n",
       "<table border=\"1\" class=\"dataframe\">\n",
       "  <thead>\n",
       "    <tr style=\"text-align: right;\">\n",
       "      <th></th>\n",
       "      <th>Eps</th>\n",
       "      <th>Min Samples</th>\n",
       "      <th>Number of Clusters</th>\n",
       "      <th>Number of Noise Points</th>\n",
       "      <th>Silhouette Score</th>\n",
       "    </tr>\n",
       "  </thead>\n",
       "  <tbody>\n",
       "    <tr>\n",
       "      <th>136</th>\n",
       "      <td>1.8</td>\n",
       "      <td>2</td>\n",
       "      <td>12</td>\n",
       "      <td>23</td>\n",
       "      <td>0.230822</td>\n",
       "    </tr>\n",
       "    <tr>\n",
       "      <th>120</th>\n",
       "      <td>1.6</td>\n",
       "      <td>2</td>\n",
       "      <td>13</td>\n",
       "      <td>25</td>\n",
       "      <td>0.154347</td>\n",
       "    </tr>\n",
       "    <tr>\n",
       "      <th>145</th>\n",
       "      <td>1.9</td>\n",
       "      <td>3</td>\n",
       "      <td>6</td>\n",
       "      <td>35</td>\n",
       "      <td>0.085334</td>\n",
       "    </tr>\n",
       "    <tr>\n",
       "      <th>138</th>\n",
       "      <td>1.8</td>\n",
       "      <td>4</td>\n",
       "      <td>6</td>\n",
       "      <td>36</td>\n",
       "      <td>0.074636</td>\n",
       "    </tr>\n",
       "    <tr>\n",
       "      <th>96</th>\n",
       "      <td>1.3</td>\n",
       "      <td>2</td>\n",
       "      <td>13</td>\n",
       "      <td>34</td>\n",
       "      <td>0.051047</td>\n",
       "    </tr>\n",
       "  </tbody>\n",
       "</table>\n",
       "</div>"
      ],
      "text/plain": [
       "     Eps  Min Samples  Number of Clusters  Number of Noise Points  \\\n",
       "136  1.8            2                  12                      23   \n",
       "120  1.6            2                  13                      25   \n",
       "145  1.9            3                   6                      35   \n",
       "138  1.8            4                   6                      36   \n",
       "96   1.3            2                  13                      34   \n",
       "\n",
       "     Silhouette Score  \n",
       "136          0.230822  \n",
       "120          0.154347  \n",
       "145          0.085334  \n",
       "138          0.074636  \n",
       "96           0.051047  "
      ]
     },
     "execution_count": 48,
     "metadata": {},
     "output_type": "execute_result"
    }
   ],
   "source": [
    "# top results for data\n",
    "(dbscan_results_1.sort_values('Silhouette Score', ascending=False)\n",
    "               .groupby('Silhouette Score')\n",
    "               .head(1)).head()"
   ]
  },
  {
   "cell_type": "code",
   "execution_count": 49,
   "id": "9aee87cc",
   "metadata": {},
   "outputs": [
    {
     "data": {
      "text/html": [
       "<div>\n",
       "<style scoped>\n",
       "    .dataframe tbody tr th:only-of-type {\n",
       "        vertical-align: middle;\n",
       "    }\n",
       "\n",
       "    .dataframe tbody tr th {\n",
       "        vertical-align: top;\n",
       "    }\n",
       "\n",
       "    .dataframe thead th {\n",
       "        text-align: right;\n",
       "    }\n",
       "</style>\n",
       "<table border=\"1\" class=\"dataframe\">\n",
       "  <thead>\n",
       "    <tr style=\"text-align: right;\">\n",
       "      <th></th>\n",
       "      <th>Eps</th>\n",
       "      <th>Min Samples</th>\n",
       "      <th>Number of Clusters</th>\n",
       "      <th>Number of Noise Points</th>\n",
       "      <th>Silhouette Score</th>\n",
       "    </tr>\n",
       "  </thead>\n",
       "  <tbody>\n",
       "    <tr>\n",
       "      <th>146</th>\n",
       "      <td>1.9</td>\n",
       "      <td>4</td>\n",
       "      <td>2</td>\n",
       "      <td>2</td>\n",
       "      <td>0.435090</td>\n",
       "    </tr>\n",
       "    <tr>\n",
       "      <th>138</th>\n",
       "      <td>1.8</td>\n",
       "      <td>4</td>\n",
       "      <td>2</td>\n",
       "      <td>3</td>\n",
       "      <td>0.422208</td>\n",
       "    </tr>\n",
       "    <tr>\n",
       "      <th>130</th>\n",
       "      <td>1.7</td>\n",
       "      <td>4</td>\n",
       "      <td>2</td>\n",
       "      <td>6</td>\n",
       "      <td>0.414533</td>\n",
       "    </tr>\n",
       "    <tr>\n",
       "      <th>129</th>\n",
       "      <td>1.7</td>\n",
       "      <td>3</td>\n",
       "      <td>2</td>\n",
       "      <td>3</td>\n",
       "      <td>0.413635</td>\n",
       "    </tr>\n",
       "    <tr>\n",
       "      <th>113</th>\n",
       "      <td>1.5</td>\n",
       "      <td>3</td>\n",
       "      <td>2</td>\n",
       "      <td>9</td>\n",
       "      <td>0.413283</td>\n",
       "    </tr>\n",
       "  </tbody>\n",
       "</table>\n",
       "</div>"
      ],
      "text/plain": [
       "     Eps  Min Samples  Number of Clusters  Number of Noise Points  \\\n",
       "146  1.9            4                   2                       2   \n",
       "138  1.8            4                   2                       3   \n",
       "130  1.7            4                   2                       6   \n",
       "129  1.7            3                   2                       3   \n",
       "113  1.5            3                   2                       9   \n",
       "\n",
       "     Silhouette Score  \n",
       "146          0.435090  \n",
       "138          0.422208  \n",
       "130          0.414533  \n",
       "129          0.413635  \n",
       "113          0.413283  "
      ]
     },
     "execution_count": 49,
     "metadata": {},
     "output_type": "execute_result"
    }
   ],
   "source": [
    "# top results for data_v2\n",
    "(dbscan_results_2.sort_values('Silhouette Score', ascending=False)\n",
    "               .groupby('Silhouette Score')\n",
    "               .head(1)).head()"
   ]
  },
  {
   "cell_type": "markdown",
   "id": "376309a7",
   "metadata": {},
   "source": [
    "The highest silhouette score is for eps = 1.9 and min_samples = 4 on the scaled data."
   ]
  },
  {
   "cell_type": "code",
   "execution_count": 50,
   "id": "9313f663",
   "metadata": {},
   "outputs": [
    {
     "data": {
      "text/html": [
       "<style>#sk-container-id-4 {color: black;}#sk-container-id-4 pre{padding: 0;}#sk-container-id-4 div.sk-toggleable {background-color: white;}#sk-container-id-4 label.sk-toggleable__label {cursor: pointer;display: block;width: 100%;margin-bottom: 0;padding: 0.3em;box-sizing: border-box;text-align: center;}#sk-container-id-4 label.sk-toggleable__label-arrow:before {content: \"▸\";float: left;margin-right: 0.25em;color: #696969;}#sk-container-id-4 label.sk-toggleable__label-arrow:hover:before {color: black;}#sk-container-id-4 div.sk-estimator:hover label.sk-toggleable__label-arrow:before {color: black;}#sk-container-id-4 div.sk-toggleable__content {max-height: 0;max-width: 0;overflow: hidden;text-align: left;background-color: #f0f8ff;}#sk-container-id-4 div.sk-toggleable__content pre {margin: 0.2em;color: black;border-radius: 0.25em;background-color: #f0f8ff;}#sk-container-id-4 input.sk-toggleable__control:checked~div.sk-toggleable__content {max-height: 200px;max-width: 100%;overflow: auto;}#sk-container-id-4 input.sk-toggleable__control:checked~label.sk-toggleable__label-arrow:before {content: \"▾\";}#sk-container-id-4 div.sk-estimator input.sk-toggleable__control:checked~label.sk-toggleable__label {background-color: #d4ebff;}#sk-container-id-4 div.sk-label input.sk-toggleable__control:checked~label.sk-toggleable__label {background-color: #d4ebff;}#sk-container-id-4 input.sk-hidden--visually {border: 0;clip: rect(1px 1px 1px 1px);clip: rect(1px, 1px, 1px, 1px);height: 1px;margin: -1px;overflow: hidden;padding: 0;position: absolute;width: 1px;}#sk-container-id-4 div.sk-estimator {font-family: monospace;background-color: #f0f8ff;border: 1px dotted black;border-radius: 0.25em;box-sizing: border-box;margin-bottom: 0.5em;}#sk-container-id-4 div.sk-estimator:hover {background-color: #d4ebff;}#sk-container-id-4 div.sk-parallel-item::after {content: \"\";width: 100%;border-bottom: 1px solid gray;flex-grow: 1;}#sk-container-id-4 div.sk-label:hover label.sk-toggleable__label {background-color: #d4ebff;}#sk-container-id-4 div.sk-serial::before {content: \"\";position: absolute;border-left: 1px solid gray;box-sizing: border-box;top: 0;bottom: 0;left: 50%;z-index: 0;}#sk-container-id-4 div.sk-serial {display: flex;flex-direction: column;align-items: center;background-color: white;padding-right: 0.2em;padding-left: 0.2em;position: relative;}#sk-container-id-4 div.sk-item {position: relative;z-index: 1;}#sk-container-id-4 div.sk-parallel {display: flex;align-items: stretch;justify-content: center;background-color: white;position: relative;}#sk-container-id-4 div.sk-item::before, #sk-container-id-4 div.sk-parallel-item::before {content: \"\";position: absolute;border-left: 1px solid gray;box-sizing: border-box;top: 0;bottom: 0;left: 50%;z-index: -1;}#sk-container-id-4 div.sk-parallel-item {display: flex;flex-direction: column;z-index: 1;position: relative;background-color: white;}#sk-container-id-4 div.sk-parallel-item:first-child::after {align-self: flex-end;width: 50%;}#sk-container-id-4 div.sk-parallel-item:last-child::after {align-self: flex-start;width: 50%;}#sk-container-id-4 div.sk-parallel-item:only-child::after {width: 0;}#sk-container-id-4 div.sk-dashed-wrapped {border: 1px dashed gray;margin: 0 0.4em 0.5em 0.4em;box-sizing: border-box;padding-bottom: 0.4em;background-color: white;}#sk-container-id-4 div.sk-label label {font-family: monospace;font-weight: bold;display: inline-block;line-height: 1.2em;}#sk-container-id-4 div.sk-label-container {text-align: center;}#sk-container-id-4 div.sk-container {/* jupyter's `normalize.less` sets `[hidden] { display: none; }` but bootstrap.min.css set `[hidden] { display: none !important; }` so we also need the `!important` here to be able to override the default hidden behavior on the sphinx rendered scikit-learn.org. See: https://github.com/scikit-learn/scikit-learn/issues/21755 */display: inline-block !important;position: relative;}#sk-container-id-4 div.sk-text-repr-fallback {display: none;}</style><div id=\"sk-container-id-4\" class=\"sk-top-container\"><div class=\"sk-text-repr-fallback\"><pre>DBSCAN(eps=1.9, min_samples=4)</pre><b>In a Jupyter environment, please rerun this cell to show the HTML representation or trust the notebook. <br />On GitHub, the HTML representation is unable to render, please try loading this page with nbviewer.org.</b></div><div class=\"sk-container\" hidden><div class=\"sk-item\"><div class=\"sk-estimator sk-toggleable\"><input class=\"sk-toggleable__control sk-hidden--visually\" id=\"sk-estimator-id-4\" type=\"checkbox\" checked><label for=\"sk-estimator-id-4\" class=\"sk-toggleable__label sk-toggleable__label-arrow\">DBSCAN</label><div class=\"sk-toggleable__content\"><pre>DBSCAN(eps=1.9, min_samples=4)</pre></div></div></div></div></div>"
      ],
      "text/plain": [
       "DBSCAN(eps=1.9, min_samples=4)"
      ]
     },
     "execution_count": 50,
     "metadata": {},
     "output_type": "execute_result"
    }
   ],
   "source": [
    "# 4. Fit a final DBSCAN model with those eps and min_samples values and view the labels\n",
    "dbscan_final = DBSCAN(eps=1.9, min_samples=4)\n",
    "dbscan_final.fit(data_scaled)"
   ]
  },
  {
   "cell_type": "code",
   "execution_count": 51,
   "id": "e6fa901c-5b26-4ec7-b242-3316f02c4d9b",
   "metadata": {},
   "outputs": [
    {
     "data": {
      "text/plain": [
       "array([ 0,  0,  0,  0,  0,  0,  0,  0,  0,  0,  0,  0,  0,  0,  0,  0,  0,\n",
       "        0,  0,  0,  0,  0,  0,  0,  0,  0,  0,  0,  0,  0,  0,  0,  0,  0,\n",
       "        0,  0,  0,  1, -1,  0,  0,  0,  0,  0,  0,  0,  0,  0,  0,  0,  1,\n",
       "        0,  0,  0,  0,  0,  0,  0,  0,  0,  0,  0,  0,  0,  0,  0,  1, -1,\n",
       "        1,  0,  0,  0,  0,  0])"
      ]
     },
     "execution_count": 51,
     "metadata": {},
     "output_type": "execute_result"
    }
   ],
   "source": [
    "# view the cluster labels\n",
    "dbscan_final.labels_"
   ]
  },
  {
   "cell_type": "code",
   "execution_count": 52,
   "id": "5c913a81-a3db-4f5f-8b5b-d6479468b93e",
   "metadata": {},
   "outputs": [
    {
     "data": {
      "text/plain": [
       "Counter({0: 68, 1: 4, -1: 2})"
      ]
     },
     "execution_count": 52,
     "metadata": {},
     "output_type": "execute_result"
    }
   ],
   "source": [
    "# view the value counts\n",
    "from collections import Counter\n",
    "\n",
    "Counter(dbscan_final.labels_)"
   ]
  },
  {
   "cell_type": "code",
   "execution_count": null,
   "id": "e4a5fa09-4aa4-43c5-830d-f9bb993b42fd",
   "metadata": {},
   "outputs": [],
   "source": []
  }
 ],
 "metadata": {
  "kernelspec": {
   "display_name": "Python 3 (ipykernel)",
   "language": "python",
   "name": "python3"
  },
  "language_info": {
   "codemirror_mode": {
    "name": "ipython",
    "version": 3
   },
   "file_extension": ".py",
   "mimetype": "text/x-python",
   "name": "python",
   "nbconvert_exporter": "python",
   "pygments_lexer": "ipython3",
   "version": "3.11.5"
  }
 },
 "nbformat": 4,
 "nbformat_minor": 5
}
