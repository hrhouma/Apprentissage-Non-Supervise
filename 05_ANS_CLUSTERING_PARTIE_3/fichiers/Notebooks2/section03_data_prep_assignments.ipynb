{
 "cells": [
  {
   "cell_type": "markdown",
   "id": "f0ce0654",
   "metadata": {},
   "source": [
    "# Data Prep Assignments"
   ]
  },
  {
   "cell_type": "markdown",
   "id": "9fc2f076",
   "metadata": {},
   "source": [
    "## Assignment 1: Set the Correct Row Granularity"
   ]
  },
  {
   "cell_type": "code",
   "execution_count": null,
   "id": "13d2d844",
   "metadata": {},
   "outputs": [],
   "source": [
    "# 1. Read the Excel spreadsheet into a Pandas DataFrame\n"
   ]
  },
  {
   "cell_type": "code",
   "execution_count": null,
   "id": "f647d091",
   "metadata": {},
   "outputs": [],
   "source": [
    "# 2. Check the number of rows and columns\n"
   ]
  },
  {
   "cell_type": "code",
   "execution_count": null,
   "id": "067b72fa-fe7c-40ce-8fdc-ccc5924a1ddc",
   "metadata": {},
   "outputs": [],
   "source": [
    "# 3. Determine the row granularity needed\n"
   ]
  },
  {
   "cell_type": "code",
   "execution_count": null,
   "id": "bdd9a320-94f5-439c-a247-71cb734a930e",
   "metadata": {},
   "outputs": [],
   "source": [
    "# 4. Apply the correct DataFrame transformation\n"
   ]
  },
  {
   "cell_type": "code",
   "execution_count": null,
   "id": "ffed6ca3-9014-4634-9928-84ff1797c664",
   "metadata": {},
   "outputs": [],
   "source": [
    "# 5. Save the transformation as a new DataFrame\n"
   ]
  },
  {
   "cell_type": "code",
   "execution_count": null,
   "id": "8f1b7d1e",
   "metadata": {},
   "outputs": [],
   "source": [
    "# 6. Check the number of rows and columns\n"
   ]
  },
  {
   "cell_type": "markdown",
   "id": "429cfa0d",
   "metadata": {},
   "source": [
    "## Assignment 2: Prepare Columns for Modeling"
   ]
  },
  {
   "cell_type": "code",
   "execution_count": null,
   "id": "bcd904c9",
   "metadata": {},
   "outputs": [],
   "source": [
    "# 1. Find the missing values\n"
   ]
  },
  {
   "cell_type": "code",
   "execution_count": null,
   "id": "6788e4f3",
   "metadata": {},
   "outputs": [],
   "source": [
    "# 2. Fill in the missing values with zeros\n"
   ]
  },
  {
   "cell_type": "code",
   "execution_count": null,
   "id": "238d9f9e",
   "metadata": {},
   "outputs": [],
   "source": [
    "# 3. Create a new column called video_game_lover for people who played more than 7 hours of video games\n"
   ]
  },
  {
   "cell_type": "markdown",
   "id": "2c43382e",
   "metadata": {},
   "source": [
    "## Assignment 3: Feature Engineering"
   ]
  },
  {
   "cell_type": "code",
   "execution_count": null,
   "id": "c5627183",
   "metadata": {},
   "outputs": [],
   "source": [
    "# 1. Create a column called total_entertainment that sums up all the types of entertainment for each student\n"
   ]
  },
  {
   "cell_type": "code",
   "execution_count": null,
   "id": "dbe1d2b9",
   "metadata": {},
   "outputs": [],
   "source": [
    "# 2. Create a column called pct_screen that calculates the percent of entertainment that’s on screens (everything except for books) for each student\n"
   ]
  },
  {
   "cell_type": "markdown",
   "id": "6ee2888b",
   "metadata": {},
   "source": [
    "## Assignment 4: Feature Selection"
   ]
  },
  {
   "cell_type": "code",
   "execution_count": null,
   "id": "f78cff97",
   "metadata": {},
   "outputs": [],
   "source": [
    "# 1. Save the student name column of the DataFrame as its own Series for reference\n"
   ]
  },
  {
   "cell_type": "code",
   "execution_count": null,
   "id": "15016573",
   "metadata": {},
   "outputs": [],
   "source": [
    "# 2. Save the three new columns of the DataFrame as its own DataFrame for modeling – video_game_lover, total_entertainment and pct_screen\n"
   ]
  },
  {
   "cell_type": "markdown",
   "id": "8618af0a",
   "metadata": {},
   "source": [
    "## Assignment 5: Feature Scaling"
   ]
  },
  {
   "cell_type": "code",
   "execution_count": null,
   "id": "6e5e09fc",
   "metadata": {},
   "outputs": [],
   "source": [
    "# 1. Scale the features in the modeling DataFrame so they all have a mean of 0 and a standard deviation of 1\n"
   ]
  },
  {
   "cell_type": "code",
   "execution_count": null,
   "id": "ed245786",
   "metadata": {},
   "outputs": [],
   "source": [
    "# 2. Save the output as a final DataFrame that’s ready for modeling\n"
   ]
  },
  {
   "cell_type": "code",
   "execution_count": null,
   "id": "b719cecd",
   "metadata": {},
   "outputs": [],
   "source": [
    "# 3. Optional: pickle the dataframe for modeling\n"
   ]
  },
  {
   "cell_type": "code",
   "execution_count": null,
   "id": "701c2c1c-155a-422b-b2d4-0e9f4923b7ee",
   "metadata": {},
   "outputs": [],
   "source": []
  }
 ],
 "metadata": {
  "kernelspec": {
   "display_name": "Python 3 (ipykernel)",
   "language": "python",
   "name": "python3"
  },
  "language_info": {
   "codemirror_mode": {
    "name": "ipython",
    "version": 3
   },
   "file_extension": ".py",
   "mimetype": "text/x-python",
   "name": "python",
   "nbconvert_exporter": "python",
   "pygments_lexer": "ipython3",
   "version": "3.11.5"
  }
 },
 "nbformat": 4,
 "nbformat_minor": 5
}
