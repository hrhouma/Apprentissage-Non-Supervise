{
 "cells": [
  {
   "cell_type": "markdown",
   "id": "838f8216-ec65-4685-b3fb-393a99bffee8",
   "metadata": {},
   "source": [
    "# Dimensionality Reduction Assignments"
   ]
  },
  {
   "cell_type": "markdown",
   "id": "c0b9b428-1821-45e9-9c29-3841b4365584",
   "metadata": {},
   "source": [
    "## 1. Applying PCA"
   ]
  },
  {
   "cell_type": "code",
   "execution_count": null,
   "id": "81e956c2-afa8-4891-91ec-5d90d5e32836",
   "metadata": {},
   "outputs": [],
   "source": [
    "# 1. Read in the student grades data set\n"
   ]
  },
  {
   "cell_type": "code",
   "execution_count": null,
   "id": "4586f3b6-2c12-4166-b25f-34ed5212e616",
   "metadata": {},
   "outputs": [],
   "source": [
    "# 2. Drop the first column with student_id\n"
   ]
  },
  {
   "cell_type": "code",
   "execution_count": null,
   "id": "e0ce403f-92ae-4635-9b8e-e157dc340bb6",
   "metadata": {},
   "outputs": [],
   "source": [
    "# 3. Center the data\n"
   ]
  },
  {
   "cell_type": "code",
   "execution_count": null,
   "id": "1c8daa39-622c-4aeb-bf2c-20598b553db8",
   "metadata": {},
   "outputs": [],
   "source": [
    "# 4. Fit a PCA model with 2 components\n"
   ]
  },
  {
   "cell_type": "code",
   "execution_count": null,
   "id": "f24ff184-d75c-4e82-84de-e0d940e54cab",
   "metadata": {},
   "outputs": [],
   "source": [
    "# 5. View and interpret the explained variance ratios\n"
   ]
  },
  {
   "cell_type": "markdown",
   "id": "48643538-7265-48d2-9076-0015d16c65cb",
   "metadata": {},
   "source": [
    "## 2. Interpreting PCA "
   ]
  },
  {
   "cell_type": "code",
   "execution_count": null,
   "id": "9a2db95b-9c19-4103-b64d-049ae22ba5de",
   "metadata": {},
   "outputs": [],
   "source": [
    "# 1. View and interpret the components of the PCA model\n"
   ]
  },
  {
   "cell_type": "code",
   "execution_count": null,
   "id": "d17944dc-c0f6-47e0-b472-719f97f91f4f",
   "metadata": {},
   "outputs": [],
   "source": [
    "# 2. Plot the students on a scatter plot with the x-axis as PC 1 and the y-axis as PC 2\n"
   ]
  },
  {
   "cell_type": "code",
   "execution_count": null,
   "id": "2e395926-72ef-4aa3-b2db-5bbfe1579355",
   "metadata": {},
   "outputs": [],
   "source": [
    "# 3. Interpret the clusters of students that you see and make recommendations for the guidance counselor\n"
   ]
  },
  {
   "cell_type": "markdown",
   "id": "53eb1068-9576-4a22-b0c0-518f19f35b5b",
   "metadata": {},
   "source": [
    "## 3. T-SNE"
   ]
  },
  {
   "cell_type": "code",
   "execution_count": null,
   "id": "18ef3ee1-163e-415d-9d0d-710b6c821995",
   "metadata": {},
   "outputs": [],
   "source": [
    "# 1. Fit a t-SNE model with 2 components\n"
   ]
  },
  {
   "cell_type": "code",
   "execution_count": null,
   "id": "0a1997ca-a2e2-4eb5-bbf6-0720149426b1",
   "metadata": {},
   "outputs": [],
   "source": [
    "# 2. Plot the students on a scatter plot with the x-axis as component 1 and the y-axis as component 2\n"
   ]
  },
  {
   "cell_type": "code",
   "execution_count": null,
   "id": "e3cf6f88-6c8d-43eb-b0d1-9d1d9831c40f",
   "metadata": {},
   "outputs": [],
   "source": [
    "# 3. Interpret the data you see on the plot\n"
   ]
  },
  {
   "cell_type": "markdown",
   "id": "98ca0a29-5d97-4294-8f72-8da834be40a5",
   "metadata": {},
   "source": [
    "## 4. T-SNE with Colors"
   ]
  },
  {
   "cell_type": "code",
   "execution_count": null,
   "id": "de720214-8e11-4240-8122-3a42fa207b67",
   "metadata": {},
   "outputs": [],
   "source": [
    "# 1. Fit a KMeans model with 3 clusters\n"
   ]
  },
  {
   "cell_type": "code",
   "execution_count": null,
   "id": "79a13ed2-a2a8-430c-ba7e-ad2fbf932e8f",
   "metadata": {},
   "outputs": [],
   "source": [
    "# 2. Overlay the 3 clusters onto a T-SNE plot\n"
   ]
  },
  {
   "cell_type": "code",
   "execution_count": null,
   "id": "b13aa2b0-a61f-4843-91fb-2c858377b959",
   "metadata": {},
   "outputs": [],
   "source": [
    "# 3. Interpret the cluster centers\n"
   ]
  },
  {
   "cell_type": "code",
   "execution_count": null,
   "id": "da0949df-b4a3-43db-8754-c23d77233769",
   "metadata": {},
   "outputs": [],
   "source": []
  }
 ],
 "metadata": {
  "kernelspec": {
   "display_name": "Python 3 (ipykernel)",
   "language": "python",
   "name": "python3"
  },
  "language_info": {
   "codemirror_mode": {
    "name": "ipython",
    "version": 3
   },
   "file_extension": ".py",
   "mimetype": "text/x-python",
   "name": "python",
   "nbconvert_exporter": "python",
   "pygments_lexer": "ipython3",
   "version": "3.11.5"
  }
 },
 "nbformat": 4,
 "nbformat_minor": 5
}
