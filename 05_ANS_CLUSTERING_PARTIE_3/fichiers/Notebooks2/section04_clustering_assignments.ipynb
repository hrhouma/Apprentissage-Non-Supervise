{
 "cells": [
  {
   "cell_type": "markdown",
   "id": "8ee8137d",
   "metadata": {},
   "source": [
    "# Clustering Assignments"
   ]
  },
  {
   "cell_type": "markdown",
   "id": "6a8cae99",
   "metadata": {},
   "source": [
    "## 1. K-Means Clustering"
   ]
  },
  {
   "cell_type": "code",
   "execution_count": null,
   "id": "dc371657",
   "metadata": {},
   "outputs": [],
   "source": [
    "# 1. Read in the cereal.csv file\n"
   ]
  },
  {
   "cell_type": "code",
   "execution_count": null,
   "id": "6e1fe5d8",
   "metadata": {},
   "outputs": [],
   "source": [
    "# 2. Prep the data by dropping the name and manufacturer columns: aka only keep the numeric columns\n"
   ]
  },
  {
   "cell_type": "code",
   "execution_count": null,
   "id": "57950e11",
   "metadata": {},
   "outputs": [],
   "source": [
    "# 3. Fit a K-Means Clustering model with 2 clusters\n"
   ]
  },
  {
   "cell_type": "code",
   "execution_count": null,
   "id": "705351c3-af19-42f2-8471-6396f31315e2",
   "metadata": {},
   "outputs": [],
   "source": [
    "# 4. Interpret the cluster centers\n"
   ]
  },
  {
   "cell_type": "markdown",
   "id": "94a0b015",
   "metadata": {},
   "source": [
    "## 2. Inertia Plot"
   ]
  },
  {
   "cell_type": "code",
   "execution_count": null,
   "id": "12746d17",
   "metadata": {},
   "outputs": [],
   "source": [
    "# 1. Write a loop to fit K-Means Clustering models with 2 to 15 clusters\n"
   ]
  },
  {
   "cell_type": "code",
   "execution_count": null,
   "id": "2bbe0211",
   "metadata": {},
   "outputs": [],
   "source": [
    "# 2. Create a plot with the number of clusters on the x-axis and the inertia on the y-axis\n"
   ]
  },
  {
   "cell_type": "code",
   "execution_count": null,
   "id": "c1cefa4a-5fb6-40e0-9e54-2e1d5c66b502",
   "metadata": {},
   "outputs": [],
   "source": [
    "# 3. Identify the elbow of the plot\n"
   ]
  },
  {
   "cell_type": "code",
   "execution_count": null,
   "id": "1879eef3",
   "metadata": {},
   "outputs": [],
   "source": [
    "# 4. Fit a K-Means Clustering model on the specific number of clusters at the elbow\n"
   ]
  },
  {
   "cell_type": "code",
   "execution_count": null,
   "id": "55dd42f3",
   "metadata": {},
   "outputs": [],
   "source": [
    "# 5. Interpret the cluster centers using a heat map\n"
   ]
  },
  {
   "cell_type": "markdown",
   "id": "3d78227d",
   "metadata": {},
   "source": [
    "## 3. Tune the K-Means Model"
   ]
  },
  {
   "cell_type": "code",
   "execution_count": null,
   "id": "8e141b53",
   "metadata": {},
   "outputs": [],
   "source": [
    "# 1. Remove the ”Fat” column\n"
   ]
  },
  {
   "cell_type": "code",
   "execution_count": null,
   "id": "6cb53735",
   "metadata": {},
   "outputs": [],
   "source": [
    "# 2. Standardize the remaining columns\n"
   ]
  },
  {
   "cell_type": "code",
   "execution_count": null,
   "id": "20a4021e",
   "metadata": {},
   "outputs": [],
   "source": [
    "# 3a. Write a loop to fit K-Means Clustering models with 2 to 15 clusters\n"
   ]
  },
  {
   "cell_type": "code",
   "execution_count": null,
   "id": "2609a892",
   "metadata": {},
   "outputs": [],
   "source": [
    "# 3b. Create a plot with the number of clusters on the x-axis and the inertia on the y-axis\n"
   ]
  },
  {
   "cell_type": "code",
   "execution_count": null,
   "id": "a1702a77-fe10-4752-9784-5e7d4c89f21c",
   "metadata": {},
   "outputs": [],
   "source": [
    "# 3c. Identify the elbow of the plot\n"
   ]
  },
  {
   "cell_type": "code",
   "execution_count": null,
   "id": "5f8dd324",
   "metadata": {},
   "outputs": [],
   "source": [
    "# 3d. Fit a K-Means Clustering model on the specific number of clusters at the elbow\n"
   ]
  },
  {
   "cell_type": "code",
   "execution_count": null,
   "id": "6bbe6142",
   "metadata": {},
   "outputs": [],
   "source": [
    "# 3e. Interpret the cluster centers using a heat map\n"
   ]
  },
  {
   "cell_type": "markdown",
   "id": "4e475e84",
   "metadata": {},
   "source": [
    "## 4. Select the Best K-Means Model"
   ]
  },
  {
   "cell_type": "code",
   "execution_count": null,
   "id": "2e58544d-2cbb-427f-8c4c-bee2eac86bf7",
   "metadata": {},
   "outputs": [],
   "source": [
    "# 1. Label each row in your original data set with a cluster name from the unstandardized data model and a cluster name from standardized data model\n"
   ]
  },
  {
   "cell_type": "code",
   "execution_count": null,
   "id": "b18abc65-b3c2-484c-becb-4bf3c769d652",
   "metadata": {},
   "outputs": [],
   "source": [
    "# 2. Look at the number of cereals that fall into each cluster\n"
   ]
  },
  {
   "cell_type": "code",
   "execution_count": null,
   "id": "4e2d2b31-c911-4057-8271-6eee1b76da9c",
   "metadata": {},
   "outputs": [],
   "source": [
    "# 3. Decide on the best model for our client\n"
   ]
  },
  {
   "cell_type": "code",
   "execution_count": null,
   "id": "6e513f13-bb83-499d-87fa-2c96993dd7d3",
   "metadata": {},
   "outputs": [],
   "source": [
    "# 4. Recommend a specific number of displays\n"
   ]
  },
  {
   "cell_type": "code",
   "execution_count": null,
   "id": "54326709-65fa-4938-a562-8c8201df6e55",
   "metadata": {},
   "outputs": [],
   "source": [
    "# 5. Suggest a few cereals that should be shown in each display\n"
   ]
  },
  {
   "cell_type": "markdown",
   "id": "62474185",
   "metadata": {},
   "source": [
    "## 5. Hierarchical Clustering"
   ]
  },
  {
   "cell_type": "code",
   "execution_count": null,
   "id": "033ac9ba",
   "metadata": {},
   "outputs": [],
   "source": [
    "# 1. Create a dendrogram using the 5 numeric fields of the cereal data set\n"
   ]
  },
  {
   "cell_type": "code",
   "execution_count": null,
   "id": "c4d8afc5-16fa-4939-b83f-a0199bb2515c",
   "metadata": {},
   "outputs": [],
   "source": [
    "# 2. Visually identify the ”best” number of clusters and adjust the color_threshold\n"
   ]
  },
  {
   "cell_type": "code",
   "execution_count": null,
   "id": "5814e329-6b3a-44a2-810d-c9f5654af1d9",
   "metadata": {},
   "outputs": [],
   "source": [
    "# 3. Create a dendrogram using the 4 numeric, standardized fields (excluding “Fat”) of the cereal data set\n"
   ]
  },
  {
   "cell_type": "code",
   "execution_count": null,
   "id": "92d4b674-b22e-498d-b7b8-dfed5a3c1eff",
   "metadata": {},
   "outputs": [],
   "source": [
    "# 4. Visually identify the ”best” number of clusters and adjust the color_threshold\n"
   ]
  },
  {
   "cell_type": "code",
   "execution_count": null,
   "id": "df80b0fd-a0e3-4cf0-a62c-c830cac13283",
   "metadata": {},
   "outputs": [],
   "source": [
    "# 5. Fit an agglomerative clustering model on the scaled data set with four clusters and view the labels\n"
   ]
  },
  {
   "cell_type": "code",
   "execution_count": null,
   "id": "5425f7c7-80f5-46f7-ab28-806144c999e8",
   "metadata": {},
   "outputs": [],
   "source": [
    "# 6. Create a cluster map of the “best” results and interpret the clusters\n"
   ]
  },
  {
   "cell_type": "markdown",
   "id": "fe6716fb",
   "metadata": {},
   "source": [
    "## 6. DBSCAN"
   ]
  },
  {
   "cell_type": "code",
   "execution_count": null,
   "id": "c20ac81b",
   "metadata": {},
   "outputs": [],
   "source": [
    "# 1. Copy over the function that loops through multiple eps and min_samples values to fit multiple DBSCAN models\n"
   ]
  },
  {
   "cell_type": "code",
   "execution_count": null,
   "id": "59e0e791-36f0-4917-a803-18b2ea4035eb",
   "metadata": {},
   "outputs": [],
   "source": [
    "# 2. Apply the function on both the original and standardized data sets\n"
   ]
  },
  {
   "cell_type": "code",
   "execution_count": null,
   "id": "08ab2904-92a7-49ef-a237-6c716711b900",
   "metadata": {},
   "outputs": [],
   "source": [
    "# 3. Find the highest silhouette score and note down the eps and min_samples values\n"
   ]
  },
  {
   "cell_type": "code",
   "execution_count": null,
   "id": "9313f663",
   "metadata": {},
   "outputs": [],
   "source": [
    "# 4. Fit a final DBSCAN model with those eps and min_samples values and view the labels\n"
   ]
  },
  {
   "cell_type": "code",
   "execution_count": null,
   "id": "e4a5fa09-4aa4-43c5-830d-f9bb993b42fd",
   "metadata": {},
   "outputs": [],
   "source": []
  }
 ],
 "metadata": {
  "kernelspec": {
   "display_name": "Python 3 (ipykernel)",
   "language": "python",
   "name": "python3"
  },
  "language_info": {
   "codemirror_mode": {
    "name": "ipython",
    "version": 3
   },
   "file_extension": ".py",
   "mimetype": "text/x-python",
   "name": "python",
   "nbconvert_exporter": "python",
   "pygments_lexer": "ipython3",
   "version": "3.11.5"
  }
 },
 "nbformat": 4,
 "nbformat_minor": 5
}
