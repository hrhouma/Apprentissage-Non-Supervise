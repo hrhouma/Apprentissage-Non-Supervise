{
 "cells": [
  {
   "cell_type": "markdown",
   "id": "3353204d-b4f8-4231-9696-7a284ec8f534",
   "metadata": {},
   "source": [
    "# Recommenders Assignments"
   ]
  },
  {
   "cell_type": "markdown",
   "id": "462bfbb1-11b8-4250-a12b-ce28d601245b",
   "metadata": {},
   "source": [
    "## 1. Content-Based Filtering: Cosine Similarity"
   ]
  },
  {
   "cell_type": "code",
   "execution_count": 1,
   "id": "9f70d455-0ac7-4348-a476-bb9f69ce3d76",
   "metadata": {},
   "outputs": [],
   "source": [
    "# 1. Read in the data from the first tab of the Movie Ratings spreadsheet, which contains genre labels\n"
   ]
  },
  {
   "cell_type": "code",
   "execution_count": 2,
   "id": "4e6d7107-bf00-4d18-88f8-7f0019f2ba83",
   "metadata": {},
   "outputs": [],
   "source": [
    "# 2. Remove the non-genre columns of the movie genre data\n"
   ]
  },
  {
   "cell_type": "code",
   "execution_count": 3,
   "id": "76880c27-e836-400b-8bd2-f4c7da0cb5b1",
   "metadata": {},
   "outputs": [],
   "source": [
    "# 3. Calculate the cosine similarity of Toy Story (1995) and Get Shorty (1995)\n"
   ]
  },
  {
   "cell_type": "code",
   "execution_count": 4,
   "id": "d38013a0-bd6c-4c5c-84bf-3bef209d0187",
   "metadata": {},
   "outputs": [],
   "source": [
    "# 4. Calculate the cosine similarity of Toy Story (1995) compared with all the movies\n"
   ]
  },
  {
   "cell_type": "code",
   "execution_count": 5,
   "id": "589cf1d6-bf63-4067-b242-df3ca21b6cc5",
   "metadata": {},
   "outputs": [],
   "source": [
    "# 5. Return the top 5 movies with the highest cosine similarity\n"
   ]
  },
  {
   "cell_type": "markdown",
   "id": "bb223c11-df1b-4d26-ab9f-c4cb3439ef77",
   "metadata": {},
   "source": [
    "## 2. User-Item Matrix"
   ]
  },
  {
   "cell_type": "code",
   "execution_count": 6,
   "id": "a28854e4-d6db-492f-badf-414ce1dbfddf",
   "metadata": {},
   "outputs": [],
   "source": [
    "# 1. Read in the movies, users and ratings tabs of the spreadsheet into three DataFrames\n"
   ]
  },
  {
   "cell_type": "code",
   "execution_count": 7,
   "id": "8ebe4dd3-79e4-4b66-a087-3033750df293",
   "metadata": {},
   "outputs": [],
   "source": [
    "# 2. Use .pivot to restructure the ratings data into a user-item matrix\n"
   ]
  },
  {
   "cell_type": "markdown",
   "id": "086910e0-655d-4a31-a78c-80815e83099a",
   "metadata": {},
   "source": [
    "## 3. TruncatedSVD"
   ]
  },
  {
   "cell_type": "code",
   "execution_count": 8,
   "id": "550ac5ea-ca8d-492e-af6c-6be51a572323",
   "metadata": {},
   "outputs": [],
   "source": [
    "# 1. Apply TruncatedSVD to the user-item matrix from the last assignment\n"
   ]
  },
  {
   "cell_type": "code",
   "execution_count": 9,
   "id": "c3e23dfc-7fe1-4c5a-900b-ea7fa4192657",
   "metadata": {},
   "outputs": [],
   "source": [
    "# 2. View the user-item matrix and the shape of the user-item matrix\n"
   ]
  },
  {
   "cell_type": "code",
   "execution_count": 10,
   "id": "caa286d0-1d7f-4dc6-bee3-55ac0fb8f179",
   "metadata": {},
   "outputs": [],
   "source": [
    "# 3. View the U matrix and the shape of the U matrix\n"
   ]
  },
  {
   "cell_type": "code",
   "execution_count": 11,
   "id": "285af4ab-9c5c-4d88-8241-d4fb7358e928",
   "metadata": {},
   "outputs": [],
   "source": [
    "# 4. View the VT matrix and the shape of the VT matrix\n"
   ]
  },
  {
   "cell_type": "markdown",
   "id": "ed28190c-db43-4bbd-861b-fe532d3eaa2e",
   "metadata": {},
   "source": [
    "## 4. Choosing the Number of Components"
   ]
  },
  {
   "cell_type": "code",
   "execution_count": 12,
   "id": "395b558d-646f-4658-8464-8a7cc0b42a4f",
   "metadata": {},
   "outputs": [],
   "source": [
    "# 1. Fit a TruncatedSVD model with 500 components\n"
   ]
  },
  {
   "cell_type": "code",
   "execution_count": 13,
   "id": "c68fabd4-e397-4a7d-a0dd-ef7d0106c804",
   "metadata": {},
   "outputs": [],
   "source": [
    "# 2. Plot the cumulative explained variance ratios\n"
   ]
  },
  {
   "cell_type": "code",
   "execution_count": 14,
   "id": "e6cb0193-bd1f-4958-8a1a-6cc3ed7c0b40",
   "metadata": {},
   "outputs": [],
   "source": [
    "# 3. Suggest a “good” number of components that best captures the info in the data set\n"
   ]
  },
  {
   "cell_type": "code",
   "execution_count": 15,
   "id": "786b4ea7-e376-4a34-89a6-c0773d785147",
   "metadata": {},
   "outputs": [],
   "source": [
    "# 4. Fit another TruncatedSVD model with the “good” number of components\n"
   ]
  },
  {
   "cell_type": "markdown",
   "id": "5189edab-583b-40ee-891d-4174195c6b73",
   "metadata": {},
   "source": [
    "## 5. Making Collaborative Filtering Recommendations"
   ]
  },
  {
   "cell_type": "code",
   "execution_count": 16,
   "id": "779ba181-0143-44e9-a2d3-2f81b8f826b9",
   "metadata": {},
   "outputs": [
    {
     "data": {
      "text/html": [
       "<div>\n",
       "<style scoped>\n",
       "    .dataframe tbody tr th:only-of-type {\n",
       "        vertical-align: middle;\n",
       "    }\n",
       "\n",
       "    .dataframe tbody tr th {\n",
       "        vertical-align: top;\n",
       "    }\n",
       "\n",
       "    .dataframe thead th {\n",
       "        text-align: right;\n",
       "    }\n",
       "</style>\n",
       "<table border=\"1\" class=\"dataframe\">\n",
       "  <thead>\n",
       "    <tr style=\"text-align: right;\">\n",
       "      <th>Movie_Title</th>\n",
       "      <th>Toy Story (1995)</th>\n",
       "      <th>GoldenEye (1995)</th>\n",
       "      <th>Four Rooms (1995)</th>\n",
       "      <th>Get Shorty (1995)</th>\n",
       "      <th>Copycat (1995)</th>\n",
       "      <th>Shanghai Triad (Yao a yao yao dao waipo qiao) (1995)</th>\n",
       "      <th>Twelve Monkeys (1995)</th>\n",
       "      <th>Babe (1995)</th>\n",
       "      <th>Dead Man Walking (1995)</th>\n",
       "      <th>Richard III (1995)</th>\n",
       "      <th>...</th>\n",
       "      <th>Mirage (1995)</th>\n",
       "      <th>Mamma Roma (1962)</th>\n",
       "      <th>Sunchaser, The (1996)</th>\n",
       "      <th>War at Home, The (1996)</th>\n",
       "      <th>Sweet Nothing (1995)</th>\n",
       "      <th>Mat' i syn (1997)</th>\n",
       "      <th>B. Monkey (1998)</th>\n",
       "      <th>Sliding Doors (1998)</th>\n",
       "      <th>You So Crazy (1994)</th>\n",
       "      <th>Scream of Stone (Schrei aus Stein) (1991)</th>\n",
       "    </tr>\n",
       "  </thead>\n",
       "  <tbody>\n",
       "    <tr>\n",
       "      <th>0</th>\n",
       "      <td>NaN</td>\n",
       "      <td>NaN</td>\n",
       "      <td>NaN</td>\n",
       "      <td>NaN</td>\n",
       "      <td>NaN</td>\n",
       "      <td>NaN</td>\n",
       "      <td>NaN</td>\n",
       "      <td>NaN</td>\n",
       "      <td>NaN</td>\n",
       "      <td>NaN</td>\n",
       "      <td>...</td>\n",
       "      <td>NaN</td>\n",
       "      <td>NaN</td>\n",
       "      <td>NaN</td>\n",
       "      <td>NaN</td>\n",
       "      <td>NaN</td>\n",
       "      <td>NaN</td>\n",
       "      <td>NaN</td>\n",
       "      <td>NaN</td>\n",
       "      <td>NaN</td>\n",
       "      <td>NaN</td>\n",
       "    </tr>\n",
       "  </tbody>\n",
       "</table>\n",
       "<p>1 rows × 1682 columns</p>\n",
       "</div>"
      ],
      "text/plain": [
       "Movie_Title  Toy Story (1995)  GoldenEye (1995)  Four Rooms (1995)  \\\n",
       "0                         NaN               NaN                NaN   \n",
       "\n",
       "Movie_Title  Get Shorty (1995)  Copycat (1995)  \\\n",
       "0                          NaN             NaN   \n",
       "\n",
       "Movie_Title  Shanghai Triad (Yao a yao yao dao waipo qiao) (1995)  \\\n",
       "0                                                          NaN      \n",
       "\n",
       "Movie_Title  Twelve Monkeys (1995)  Babe (1995)  Dead Man Walking (1995)  \\\n",
       "0                              NaN          NaN                      NaN   \n",
       "\n",
       "Movie_Title  Richard III (1995)  ...  Mirage (1995)  Mamma Roma (1962)  \\\n",
       "0                           NaN  ...            NaN                NaN   \n",
       "\n",
       "Movie_Title  Sunchaser, The (1996)  War at Home, The (1996)  \\\n",
       "0                              NaN                      NaN   \n",
       "\n",
       "Movie_Title  Sweet Nothing (1995)  Mat' i syn (1997)  B. Monkey (1998)  \\\n",
       "0                             NaN                NaN               NaN   \n",
       "\n",
       "Movie_Title  Sliding Doors (1998)  You So Crazy (1994)  \\\n",
       "0                             NaN                  NaN   \n",
       "\n",
       "Movie_Title  Scream of Stone (Schrei aus Stein) (1991)  \n",
       "0                                                  NaN  \n",
       "\n",
       "[1 rows x 1682 columns]"
      ]
     },
     "execution_count": 16,
     "metadata": {},
     "output_type": "execute_result"
    }
   ],
   "source": [
    "# 1. View the new user vector\n",
    "import pandas as pd\n",
    "import numpy as np\n",
    "\n",
    "# read in the movies tab of the spreadsheet\n",
    "movies = pd.read_excel('../Data/Movie_Ratings.xlsx')\n",
    "\n",
    "# read in the ratings tab\n",
    "ratings = pd.read_excel('../Data/Movie_Ratings.xlsx', sheet_name=2)\n",
    "\n",
    "# use .pivot to restructure the ratings data into a user-item matrix\n",
    "X = (ratings.pivot(index='User_ID', columns='Movie_ID', values='Rating').fillna(3))\n",
    "\n",
    "# create a vector of NaN values\n",
    "vector_length = X.shape[1]\n",
    "new_user = np.full(vector_length, np.NaN)\n",
    "\n",
    "# populate with 5 ratings\n",
    "ratings = [5, 3, 5, 5, 4]\n",
    "positions_to_populate = [11, 14, 28, 63, 66]\n",
    "new_user[positions_to_populate] = ratings\n",
    "\n",
    "# view as a DataFrame\n",
    "new_user_df = pd.DataFrame([new_user], columns=movies.Movie_Title)\n",
    "new_user_df"
   ]
  },
  {
   "cell_type": "code",
   "execution_count": 17,
   "id": "efab2488-515c-4796-923d-ca2b51dc3dc8",
   "metadata": {},
   "outputs": [
    {
     "data": {
      "text/html": [
       "<div>\n",
       "<style scoped>\n",
       "    .dataframe tbody tr th:only-of-type {\n",
       "        vertical-align: middle;\n",
       "    }\n",
       "\n",
       "    .dataframe tbody tr th {\n",
       "        vertical-align: top;\n",
       "    }\n",
       "\n",
       "    .dataframe thead th {\n",
       "        text-align: right;\n",
       "    }\n",
       "</style>\n",
       "<table border=\"1\" class=\"dataframe\">\n",
       "  <thead>\n",
       "    <tr style=\"text-align: right;\">\n",
       "      <th></th>\n",
       "      <th>0</th>\n",
       "    </tr>\n",
       "    <tr>\n",
       "      <th>Movie_Title</th>\n",
       "      <th></th>\n",
       "    </tr>\n",
       "  </thead>\n",
       "  <tbody>\n",
       "    <tr>\n",
       "      <th>Usual Suspects, The (1995)</th>\n",
       "      <td>5.0</td>\n",
       "    </tr>\n",
       "    <tr>\n",
       "      <th>Mr. Holland's Opus (1995)</th>\n",
       "      <td>3.0</td>\n",
       "    </tr>\n",
       "    <tr>\n",
       "      <th>Batman Forever (1995)</th>\n",
       "      <td>5.0</td>\n",
       "    </tr>\n",
       "    <tr>\n",
       "      <th>Shawshank Redemption, The (1994)</th>\n",
       "      <td>5.0</td>\n",
       "    </tr>\n",
       "    <tr>\n",
       "      <th>Ace Ventura: Pet Detective (1994)</th>\n",
       "      <td>4.0</td>\n",
       "    </tr>\n",
       "  </tbody>\n",
       "</table>\n",
       "</div>"
      ],
      "text/plain": [
       "                                     0\n",
       "Movie_Title                           \n",
       "Usual Suspects, The (1995)         5.0\n",
       "Mr. Holland's Opus (1995)          3.0\n",
       "Batman Forever (1995)              5.0\n",
       "Shawshank Redemption, The (1994)   5.0\n",
       "Ace Ventura: Pet Detective (1994)  4.0"
      ]
     },
     "execution_count": 17,
     "metadata": {},
     "output_type": "execute_result"
    }
   ],
   "source": [
    "# view only the movies that the new user rated\n",
    "new_user_df.T.dropna()"
   ]
  },
  {
   "cell_type": "code",
   "execution_count": 18,
   "id": "97ef53f5-b000-42c4-811d-4ea9a029bca6",
   "metadata": {},
   "outputs": [],
   "source": [
    "# 2. Transform the user into the latent space using .transform()\n"
   ]
  },
  {
   "cell_type": "code",
   "execution_count": 19,
   "id": "8919cdc4-87c8-48af-a3cc-0a68ada61dd9",
   "metadata": {},
   "outputs": [],
   "source": [
    "# 3. Reconstruct the user-item matrix for the user using np.dot()\n"
   ]
  },
  {
   "cell_type": "code",
   "execution_count": 20,
   "id": "f6245fad-25d0-4466-bbe3-9e80d431c24b",
   "metadata": {},
   "outputs": [],
   "source": [
    "# 4. Make 10 movie recommendations for the user\n"
   ]
  },
  {
   "cell_type": "code",
   "execution_count": 21,
   "id": "e8a5ecb1-5087-47e9-a653-74054bfd022d",
   "metadata": {},
   "outputs": [],
   "source": [
    "# 5. Review the movies and determine if they make sense\n"
   ]
  },
  {
   "cell_type": "code",
   "execution_count": 22,
   "id": "c9bfe50e-9cce-42af-9eda-75cebbd8abcd",
   "metadata": {},
   "outputs": [],
   "source": [
    "# 6. Optional: Try playing around with the number of components to see the difference in movie recommendations\n"
   ]
  },
  {
   "cell_type": "code",
   "execution_count": null,
   "id": "2fceb3f1-cc6a-4819-a0f8-92727fdcf00c",
   "metadata": {},
   "outputs": [],
   "source": []
  }
 ],
 "metadata": {
  "kernelspec": {
   "display_name": "Python 3 (ipykernel)",
   "language": "python",
   "name": "python3"
  },
  "language_info": {
   "codemirror_mode": {
    "name": "ipython",
    "version": 3
   },
   "file_extension": ".py",
   "mimetype": "text/x-python",
   "name": "python",
   "nbconvert_exporter": "python",
   "pygments_lexer": "ipython3",
   "version": "3.11.5"
  }
 },
 "nbformat": 4,
 "nbformat_minor": 5
}
