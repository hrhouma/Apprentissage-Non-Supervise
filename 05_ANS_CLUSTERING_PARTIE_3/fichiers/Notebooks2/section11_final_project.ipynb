{
 "cells": [
  {
   "cell_type": "markdown",
   "id": "47db5d85",
   "metadata": {},
   "source": [
    "# Unsupervised Learning Final Project"
   ]
  },
  {
   "cell_type": "markdown",
   "id": "e8ecf036",
   "metadata": {},
   "source": [
    "This is the final project for the **Data Science in Python: Unsupervised Learning** course. This notebook is split into seven sections:\n",
    "1. Data Prep & EDA\n",
    "2. K-Means Clustering\n",
    "3. PCA for Visualization\n",
    "4. K-Means Clustering (Round 2)\n",
    "5. PCA for Visualization (Round 2)\n",
    "6. EDA on Clusters\n",
    "7. Make Recommendations"
   ]
  },
  {
   "cell_type": "markdown",
   "id": "2dfc0600-7b0c-4fa6-accf-81b60cb97511",
   "metadata": {},
   "source": [
    "## 0. Goal & Scope"
   ]
  },
  {
   "cell_type": "markdown",
   "id": "a7dc38f7-7280-454a-a3fe-64b7af9dd22e",
   "metadata": {},
   "source": [
    "**GOAL**: You are trying to better understand the company’s different segments of employees and how to increase employee retention within each segment.\n",
    "\n",
    "**SCOPE**: Your task is to use a clustering technique to segment the employees, a dimensionality reduction technique to visualize the segments, and finally explore the clusters to make recommendations to increase retention."
   ]
  },
  {
   "cell_type": "markdown",
   "id": "21a90cb2",
   "metadata": {},
   "source": [
    "## 1. Data Prep & EDA"
   ]
  },
  {
   "cell_type": "markdown",
   "id": "99d4982d-be49-4219-af79-86f6c0233da7",
   "metadata": {},
   "source": [
    "### a. Data Prep: Check the data types"
   ]
  },
  {
   "cell_type": "markdown",
   "id": "b64bc1d1-0bff-43b2-b7ea-5e1dc023707b",
   "metadata": {},
   "source": [
    "The data can be found in the `employee_data.csv` file."
   ]
  },
  {
   "cell_type": "code",
   "execution_count": null,
   "id": "c6addb02",
   "metadata": {},
   "outputs": [],
   "source": [
    "# read in the employee data\n"
   ]
  },
  {
   "cell_type": "code",
   "execution_count": null,
   "id": "661501a8",
   "metadata": {},
   "outputs": [],
   "source": [
    "# note the number of rows and columns\n"
   ]
  },
  {
   "cell_type": "code",
   "execution_count": null,
   "id": "d20c8d7b",
   "metadata": {},
   "outputs": [],
   "source": [
    "# view the data types of all the columns\n"
   ]
  },
  {
   "cell_type": "code",
   "execution_count": null,
   "id": "537b98b1",
   "metadata": {},
   "outputs": [],
   "source": [
    "# look at the numeric columns\n"
   ]
  },
  {
   "cell_type": "code",
   "execution_count": null,
   "id": "333b7e6e",
   "metadata": {},
   "outputs": [],
   "source": [
    "# look at the non-numeric columns\n"
   ]
  },
  {
   "cell_type": "markdown",
   "id": "64ca5c0e-c91b-4aae-9088-653b78f3a028",
   "metadata": {},
   "source": [
    "### b. Data Prep: Convert the data types"
   ]
  },
  {
   "cell_type": "markdown",
   "id": "92d831b3-ca64-48ff-9c77-87fa006287b1",
   "metadata": {},
   "source": [
    "Use `np.where` and `pd.get_dummies` to create a DataFrame for modeling where all fields are numeric."
   ]
  },
  {
   "cell_type": "code",
   "execution_count": null,
   "id": "daa57903",
   "metadata": {},
   "outputs": [],
   "source": [
    "# create a copy of the dataframe\n"
   ]
  },
  {
   "cell_type": "code",
   "execution_count": null,
   "id": "494f3f3b-d15c-458f-9f88-751c048a3243",
   "metadata": {},
   "outputs": [],
   "source": [
    "# look at the gender values\n"
   ]
  },
  {
   "cell_type": "code",
   "execution_count": null,
   "id": "396b1d63-c9da-4d4d-a819-00a4d3ba013f",
   "metadata": {},
   "outputs": [],
   "source": [
    "# change gender into a numeric field using np.where\n"
   ]
  },
  {
   "cell_type": "code",
   "execution_count": null,
   "id": "680d05df-e5c0-4573-a7d6-e3c9cb8f73e2",
   "metadata": {},
   "outputs": [],
   "source": [
    "# look at the attrition values\n"
   ]
  },
  {
   "cell_type": "code",
   "execution_count": null,
   "id": "07e4a3f3",
   "metadata": {},
   "outputs": [],
   "source": [
    "# change attrition to a numeric field using np.where\n"
   ]
  },
  {
   "cell_type": "code",
   "execution_count": null,
   "id": "9d813492-d0be-4ddc-90eb-76d0a0c398d5",
   "metadata": {},
   "outputs": [],
   "source": [
    "# look at the department values\n"
   ]
  },
  {
   "cell_type": "code",
   "execution_count": null,
   "id": "12245bcc",
   "metadata": {},
   "outputs": [],
   "source": [
    "# change department to a numeric field via dummy variables\n"
   ]
  },
  {
   "cell_type": "code",
   "execution_count": null,
   "id": "82d3399f",
   "metadata": {},
   "outputs": [],
   "source": [
    "# attach the columns back on to the dataframe\n"
   ]
  },
  {
   "cell_type": "code",
   "execution_count": null,
   "id": "66dfab37",
   "metadata": {},
   "outputs": [],
   "source": [
    "# view the cleaned dataframe\n"
   ]
  },
  {
   "cell_type": "code",
   "execution_count": null,
   "id": "6d11f5ef",
   "metadata": {},
   "outputs": [],
   "source": [
    "# note the number of rows and columns\n"
   ]
  },
  {
   "cell_type": "markdown",
   "id": "4e59da63-cb99-4fb0-a694-83f288b0f9be",
   "metadata": {},
   "source": [
    "### c. EDA"
   ]
  },
  {
   "cell_type": "markdown",
   "id": "e158b93f",
   "metadata": {},
   "source": [
    "Our goal is to find the different types of employees at the company and take a look at their attrition (whether they end up leaving or not)."
   ]
  },
  {
   "cell_type": "code",
   "execution_count": null,
   "id": "8592cfb0",
   "metadata": {},
   "outputs": [],
   "source": [
    "# what is the overall attrition for all employees in the data aka what percent of employees leave the company?\n"
   ]
  },
  {
   "cell_type": "code",
   "execution_count": null,
   "id": "6d1a084a-4631-4378-92d5-e736b3451fb9",
   "metadata": {},
   "outputs": [],
   "source": [
    "# create a summary table to show the mean of each column for employees who stay vs leave - what are your takeaways?\n"
   ]
  },
  {
   "cell_type": "markdown",
   "id": "0d55ac77-0c57-4dc4-9e2a-e323ee0c63be",
   "metadata": {},
   "source": [
    "### d. Data Prep: Remove the Attrition and ID Columns"
   ]
  },
  {
   "cell_type": "markdown",
   "id": "6609a853-cc2e-4556-ab22-906f9ae9d36c",
   "metadata": {},
   "source": [
    "Exclude the attrition column (to be overlayed onto our clusters later on) and the ID column."
   ]
  },
  {
   "cell_type": "code",
   "execution_count": null,
   "id": "5a68bd99",
   "metadata": {},
   "outputs": [],
   "source": [
    "# create a new dataframe without the attrition column for us to model on\n"
   ]
  },
  {
   "cell_type": "code",
   "execution_count": null,
   "id": "f88850af",
   "metadata": {},
   "outputs": [],
   "source": [
    "# drop the employee column as well before modeling\n"
   ]
  },
  {
   "cell_type": "code",
   "execution_count": null,
   "id": "bece6ee0-afb3-4f55-84aa-19e83cfb80d1",
   "metadata": {},
   "outputs": [],
   "source": [
    "# note the number of rows and columns in the dataframe\n"
   ]
  },
  {
   "cell_type": "code",
   "execution_count": null,
   "id": "128b9cdb-6df4-437b-8d1d-d6c4310691bf",
   "metadata": {},
   "outputs": [],
   "source": [
    "# create a pair plot comparing all the columns of the dataframe - what observations do you notice?\n"
   ]
  },
  {
   "cell_type": "markdown",
   "id": "69348f5b",
   "metadata": {},
   "source": [
    "## 2. K-Means Clustering"
   ]
  },
  {
   "cell_type": "markdown",
   "id": "c0221f7a-ca20-43b2-a1f4-43dd213299a6",
   "metadata": {},
   "source": [
    "Let's segment the employees using K-Means clustering."
   ]
  },
  {
   "cell_type": "markdown",
   "id": "082729f8-a857-4517-8466-e712ee721f86",
   "metadata": {},
   "source": [
    "### a. Standardize the data"
   ]
  },
  {
   "cell_type": "code",
   "execution_count": null,
   "id": "537f2a97-2432-43ae-bfd2-de22b3ba5e6c",
   "metadata": {},
   "outputs": [],
   "source": [
    "# scale the data using standardization\n"
   ]
  },
  {
   "cell_type": "code",
   "execution_count": null,
   "id": "57c418dd-a2e8-4fb0-b9db-30b304191d6f",
   "metadata": {},
   "outputs": [],
   "source": [
    "# double check that all the column means are 0 and standard deviations are 1\n"
   ]
  },
  {
   "cell_type": "markdown",
   "id": "aef40ffc-032a-472e-8a8f-f2cd9492c83e",
   "metadata": {},
   "source": [
    "### b. Write a loop to fit models with 2 to 15 clusters and record the inertia and silhouette scores"
   ]
  },
  {
   "cell_type": "code",
   "execution_count": null,
   "id": "1f4c60ff-e98b-4648-9966-8a9b0c01497a",
   "metadata": {},
   "outputs": [],
   "source": [
    "# import kmeans and write a loop to fit models with 2 to 15 clusters\n"
   ]
  },
  {
   "cell_type": "code",
   "execution_count": null,
   "id": "d0edb73b-4f8f-4268-bdac-6044320bda2a",
   "metadata": {},
   "outputs": [],
   "source": [
    "# plot the inertia values\n"
   ]
  },
  {
   "cell_type": "code",
   "execution_count": null,
   "id": "16b786aa-7099-4e1d-8e22-be6468bf5d09",
   "metadata": {},
   "outputs": [],
   "source": [
    "# plot the silhouette scores\n"
   ]
  },
  {
   "cell_type": "markdown",
   "id": "10e7cea8-de2a-43ef-b35d-41da07900c27",
   "metadata": {},
   "source": [
    "### c. Identify a k value that looks like an elbow on the inertia plot and has a high silhouette score"
   ]
  },
  {
   "cell_type": "code",
   "execution_count": null,
   "id": "447af5be-a29b-42a4-9ca2-67e9b36d5cd4",
   "metadata": {},
   "outputs": [],
   "source": [
    "# fit a kmeans model for the k value that you identified\n"
   ]
  },
  {
   "cell_type": "code",
   "execution_count": null,
   "id": "7743b1b5-3283-4748-bb48-a33cc6d63855",
   "metadata": {},
   "outputs": [],
   "source": [
    "# find the number of employees in each cluster\n"
   ]
  },
  {
   "cell_type": "code",
   "execution_count": null,
   "id": "8b10e7f1-c41b-4e1f-8667-dfb96aa422e6",
   "metadata": {},
   "outputs": [],
   "source": [
    "# create a heat map of the cluster centers\n"
   ]
  },
  {
   "cell_type": "code",
   "execution_count": null,
   "id": "6a05163d-450a-4b9a-8a35-604556c00f88",
   "metadata": {},
   "outputs": [],
   "source": [
    "# interpret the clusters\n"
   ]
  },
  {
   "cell_type": "markdown",
   "id": "eb3d0556-41f0-4033-b7b0-4d13e93592bf",
   "metadata": {},
   "source": [
    "## 3. PCA"
   ]
  },
  {
   "cell_type": "markdown",
   "id": "6d882c75-3762-4c48-805e-7eabd5f56239",
   "metadata": {},
   "source": [
    "Let's visualize the data using PCA."
   ]
  },
  {
   "cell_type": "markdown",
   "id": "17710eaa-5460-4c88-be3d-4f1f468943f8",
   "metadata": {},
   "source": [
    "### a. Fit a PCA Model with 2 components for visualization"
   ]
  },
  {
   "cell_type": "code",
   "execution_count": null,
   "id": "0d603481-2e9e-4690-b12d-c052399d17f8",
   "metadata": {},
   "outputs": [],
   "source": [
    "# fit a PCA model with 2 components\n"
   ]
  },
  {
   "cell_type": "code",
   "execution_count": null,
   "id": "953d97f9-6777-4298-83bf-1e0a78ece8e7",
   "metadata": {},
   "outputs": [],
   "source": [
    "# view the explained variance ratio\n"
   ]
  },
  {
   "cell_type": "code",
   "execution_count": null,
   "id": "1abe2a57-e96e-4fc9-8808-9d5dfed72302",
   "metadata": {},
   "outputs": [],
   "source": [
    "# view the components\n"
   ]
  },
  {
   "cell_type": "code",
   "execution_count": null,
   "id": "64071d0c-364c-4e72-a70b-01ba1c500f87",
   "metadata": {},
   "outputs": [],
   "source": [
    "# view the columns\n"
   ]
  },
  {
   "cell_type": "code",
   "execution_count": null,
   "id": "a72ff4b4-8cb7-41ed-8f68-813a0eeac828",
   "metadata": {},
   "outputs": [],
   "source": [
    "# interpret the components\n"
   ]
  },
  {
   "cell_type": "markdown",
   "id": "2806a2b8-eb9f-48b0-b70f-ee9f19abbf0f",
   "metadata": {},
   "source": [
    "### b. Overlay the K-Means cluster colors"
   ]
  },
  {
   "cell_type": "code",
   "execution_count": null,
   "id": "fb370e57-b847-47e0-bbdd-b14b374079d9",
   "metadata": {},
   "outputs": [],
   "source": [
    "# transform the data\n"
   ]
  },
  {
   "cell_type": "code",
   "execution_count": null,
   "id": "f6967e40-c801-4296-9793-2e4352371308",
   "metadata": {},
   "outputs": [],
   "source": [
    "# plot the data\n"
   ]
  },
  {
   "cell_type": "code",
   "execution_count": null,
   "id": "a0e4ea14-92db-45b3-9eef-b65b6720b455",
   "metadata": {
    "scrolled": true
   },
   "outputs": [],
   "source": [
    "# overlay the kmeans clusters (hint: set the hue to be the cluster labels)\n"
   ]
  },
  {
   "cell_type": "markdown",
   "id": "b30741b7-38f8-4a5a-a1b5-9d56554d60cb",
   "metadata": {},
   "source": [
    "### c. Overlay the Department colors instead"
   ]
  },
  {
   "cell_type": "code",
   "execution_count": null,
   "id": "3f0c2586-c654-4ae7-b35b-b8932c70434a",
   "metadata": {},
   "outputs": [],
   "source": [
    "# overlay the department colors (hint: set the hue to be the department column)\n"
   ]
  },
  {
   "cell_type": "markdown",
   "id": "44655c04-dc8a-44a8-9110-c4808cda8856",
   "metadata": {},
   "source": [
    "## 4. K-Means Clustering: Round 2"
   ]
  },
  {
   "cell_type": "markdown",
   "id": "602381c8-cfa4-4c21-bb41-d4ddcf04c43b",
   "metadata": {},
   "source": [
    "Since the departments seemed to dominate the visualization, let's exclude them and try fitting more K-Means models."
   ]
  },
  {
   "cell_type": "markdown",
   "id": "6625fcf6-8178-42aa-8c13-6e1ded9751c6",
   "metadata": {},
   "source": [
    "### a. Create a new dataframe without the Departments"
   ]
  },
  {
   "cell_type": "code",
   "execution_count": null,
   "id": "786da65a-83e8-4ec2-bce9-91826006ea2c",
   "metadata": {},
   "outputs": [],
   "source": [
    "# create a new dataframe that excludes the three department columns from the scaled dataframe\n"
   ]
  },
  {
   "cell_type": "markdown",
   "id": "2808eab2-fc04-4d9b-8d08-efa72382769c",
   "metadata": {},
   "source": [
    "### b. Write a loop to fit models with 2 to 15 clusters and record the inertia and silhouette scores"
   ]
  },
  {
   "cell_type": "code",
   "execution_count": null,
   "id": "750a9936-9e08-40d0-81f3-483b771b68e3",
   "metadata": {},
   "outputs": [],
   "source": [
    "# write a loop to fit models with 2 to 15 clusters\n"
   ]
  },
  {
   "cell_type": "code",
   "execution_count": null,
   "id": "1b944672-7ea3-40a4-b9ed-5aab4fa9b426",
   "metadata": {},
   "outputs": [],
   "source": [
    "# plot the inertia values\n"
   ]
  },
  {
   "cell_type": "code",
   "execution_count": null,
   "id": "3c5511d1-d042-40b8-bcda-c7799877143c",
   "metadata": {},
   "outputs": [],
   "source": [
    "# plot the silhouette scores\n"
   ]
  },
  {
   "cell_type": "markdown",
   "id": "271e54d7-3d0b-44b4-b8d8-0976d5f57abd",
   "metadata": {},
   "source": [
    "### c. Identify a few k values that looks like an elbow on the inertia plot and have a high silhouette score"
   ]
  },
  {
   "cell_type": "markdown",
   "id": "da251f2a-7eaa-4810-a303-196ff50c8bf9",
   "metadata": {},
   "source": [
    "#### i. k = [some value]"
   ]
  },
  {
   "cell_type": "code",
   "execution_count": null,
   "id": "094e774e-3051-4bdf-86f7-4b287b468d34",
   "metadata": {},
   "outputs": [],
   "source": [
    "# fit a kmeans model for the k value that you identified\n"
   ]
  },
  {
   "cell_type": "code",
   "execution_count": null,
   "id": "f0dc40b4-e771-4723-83d3-f4d1ecb9af80",
   "metadata": {},
   "outputs": [],
   "source": [
    "# find the number of employees in each cluster\n"
   ]
  },
  {
   "cell_type": "code",
   "execution_count": null,
   "id": "e2be4e43-5cde-4bcc-a83b-a3d4e9c63185",
   "metadata": {},
   "outputs": [],
   "source": [
    "# create a heat map of the cluster centers\n"
   ]
  },
  {
   "cell_type": "code",
   "execution_count": null,
   "id": "6a0a59a3-8c30-4b38-a4b0-023c45a516a9",
   "metadata": {},
   "outputs": [],
   "source": [
    "# interpret the clusters\n"
   ]
  },
  {
   "cell_type": "markdown",
   "id": "caad22df-239c-405b-9f31-901564c0d7f2",
   "metadata": {},
   "source": [
    "#### ii. k = [another value]"
   ]
  },
  {
   "cell_type": "code",
   "execution_count": null,
   "id": "6ae83ec6-2c2c-47a3-9601-044f64a9a944",
   "metadata": {},
   "outputs": [],
   "source": [
    "# fit a kmeans model for the k value that you identified\n"
   ]
  },
  {
   "cell_type": "code",
   "execution_count": null,
   "id": "2a9f0b52-143b-4b40-b2ee-a9220fe9cfb4",
   "metadata": {},
   "outputs": [],
   "source": [
    "# find the number of employees in each cluster\n"
   ]
  },
  {
   "cell_type": "code",
   "execution_count": null,
   "id": "c30adb23-72c6-4609-a9c6-ed095666d04e",
   "metadata": {},
   "outputs": [],
   "source": [
    "# create a heat map of the cluster centers\n"
   ]
  },
  {
   "cell_type": "code",
   "execution_count": null,
   "id": "a1a66dee-7e72-4d2c-af9c-5b6b7835f4c2",
   "metadata": {},
   "outputs": [],
   "source": [
    "# interpret the clusters\n"
   ]
  },
  {
   "cell_type": "markdown",
   "id": "b30ecdeb-8db7-4a9b-8482-fc96943fb886",
   "metadata": {},
   "source": [
    "#### iii. k = [another value]"
   ]
  },
  {
   "cell_type": "code",
   "execution_count": null,
   "id": "c9778a5d-1c7a-42db-93f9-87d0855b0f93",
   "metadata": {},
   "outputs": [],
   "source": [
    "# fit a kmeans model for the k value that you identified\n"
   ]
  },
  {
   "cell_type": "code",
   "execution_count": null,
   "id": "2a39cf28-f54b-476d-8a31-f5e53bce44f5",
   "metadata": {},
   "outputs": [],
   "source": [
    "# find the number of employees in each cluster\n"
   ]
  },
  {
   "cell_type": "code",
   "execution_count": null,
   "id": "1f0234df-19c6-4dc9-8acd-5ec61515da9d",
   "metadata": {},
   "outputs": [],
   "source": [
    "# create a heat map of the cluster centers\n"
   ]
  },
  {
   "cell_type": "code",
   "execution_count": null,
   "id": "3bf3b756-f480-4396-9c19-5664c401b44c",
   "metadata": {},
   "outputs": [],
   "source": [
    "# interpret the clusters\n"
   ]
  },
  {
   "cell_type": "markdown",
   "id": "805901e2-1048-45d7-9bdd-9796ee95d81a",
   "metadata": {},
   "source": [
    "## 5. PCA: Round 2"
   ]
  },
  {
   "cell_type": "markdown",
   "id": "b8903331-e502-4ca0-94e5-3e62f035e44a",
   "metadata": {},
   "source": [
    "Let's visualize the data (without Departments) using PCA."
   ]
  },
  {
   "cell_type": "markdown",
   "id": "2a0177d8-5698-4cf7-8db6-d39b819d7b3b",
   "metadata": {},
   "source": [
    "### a. Fit a PCA Model with 2 components for visualization"
   ]
  },
  {
   "cell_type": "code",
   "execution_count": null,
   "id": "fee2e915-06f9-4316-baf3-583aab041bca",
   "metadata": {},
   "outputs": [],
   "source": [
    "# fit a PCA model with 2 components\n"
   ]
  },
  {
   "cell_type": "code",
   "execution_count": null,
   "id": "fe345831-f20b-4639-ab4e-57adc5b68c61",
   "metadata": {},
   "outputs": [],
   "source": [
    "# view the explained variance ratio\n"
   ]
  },
  {
   "cell_type": "code",
   "execution_count": null,
   "id": "19e01601-b3fc-4558-95e4-6dfb461949a9",
   "metadata": {},
   "outputs": [],
   "source": [
    "# view the components\n"
   ]
  },
  {
   "cell_type": "code",
   "execution_count": null,
   "id": "57306892-98f4-4634-8bce-139c1acd6c55",
   "metadata": {},
   "outputs": [],
   "source": [
    "# view the columns\n"
   ]
  },
  {
   "cell_type": "code",
   "execution_count": null,
   "id": "123e80f4-772e-4e8e-940e-7533fa299eaa",
   "metadata": {},
   "outputs": [],
   "source": [
    "# interpret the components\n"
   ]
  },
  {
   "cell_type": "markdown",
   "id": "e61acc90-55ca-459b-9416-e743e7bbbd44",
   "metadata": {},
   "source": [
    "### b. Overlay the K-Means cluster colors"
   ]
  },
  {
   "cell_type": "code",
   "execution_count": null,
   "id": "861cdcb0-c359-42a6-a20c-74e69bb16a9a",
   "metadata": {},
   "outputs": [],
   "source": [
    "# transform the data\n"
   ]
  },
  {
   "cell_type": "code",
   "execution_count": null,
   "id": "26cbece1-458e-4553-8d39-29e4d9101910",
   "metadata": {},
   "outputs": [],
   "source": [
    "# plot the data\n"
   ]
  },
  {
   "cell_type": "code",
   "execution_count": null,
   "id": "bbeb3f25-3214-417f-9527-e3d5b4099f16",
   "metadata": {
    "scrolled": true
   },
   "outputs": [],
   "source": [
    "# overlay the kmeans clusters (choose your favorite k-means model from the previous section)\n"
   ]
  },
  {
   "cell_type": "markdown",
   "id": "aae920f2-a08e-4d02-8be8-2ae332f77f84",
   "metadata": {},
   "source": [
    "### c. OPTIONAL: Create a 3D plot"
   ]
  },
  {
   "cell_type": "code",
   "execution_count": null,
   "id": "4d0aa880-0c25-4a54-a0c2-6d190675e71c",
   "metadata": {},
   "outputs": [],
   "source": [
    "# fit a PCA model with 3 components\n"
   ]
  },
  {
   "cell_type": "code",
   "execution_count": null,
   "id": "1c42a051-0ab7-476f-9714-9800b06a6c43",
   "metadata": {},
   "outputs": [],
   "source": [
    "# view the explained variance ratio\n"
   ]
  },
  {
   "cell_type": "code",
   "execution_count": null,
   "id": "5354f476-0f63-4540-b3b7-2bd09165da29",
   "metadata": {},
   "outputs": [],
   "source": [
    "# view the components\n"
   ]
  },
  {
   "cell_type": "code",
   "execution_count": null,
   "id": "03b6c369-313f-48aa-a58c-0b81e41339c4",
   "metadata": {},
   "outputs": [],
   "source": [
    "# view the columns\n"
   ]
  },
  {
   "cell_type": "code",
   "execution_count": null,
   "id": "3e75247a-62ef-4b0a-8c9e-7e8442f09f39",
   "metadata": {},
   "outputs": [],
   "source": [
    "# interpret the components\n"
   ]
  },
  {
   "cell_type": "code",
   "execution_count": null,
   "id": "a0da578b-f1d1-4f8e-8bcc-1d6a5d17519b",
   "metadata": {},
   "outputs": [],
   "source": [
    "# transform the data\n"
   ]
  },
  {
   "cell_type": "code",
   "execution_count": null,
   "id": "a321682d-c8fa-41ce-a3d4-188e5ef3ca5f",
   "metadata": {},
   "outputs": [],
   "source": [
    "# create a 3d scatter plot\n"
   ]
  },
  {
   "cell_type": "markdown",
   "id": "b57e16d1-56a4-476f-ac4f-f898e1481689",
   "metadata": {},
   "source": [
    "## 6. EDA on Clusters"
   ]
  },
  {
   "cell_type": "markdown",
   "id": "c35c406d-018d-44b2-8752-c4a7e3ce92b3",
   "metadata": {},
   "source": [
    "Let's decide to go with the 6 clusters without department data."
   ]
  },
  {
   "cell_type": "markdown",
   "id": "a1b81304-a671-44f4-a136-10910d4dd7ad",
   "metadata": {},
   "source": [
    "### a. Confirm the 6 clusters"
   ]
  },
  {
   "cell_type": "code",
   "execution_count": null,
   "id": "663c67f3-0db8-47fc-83dd-0b506e80e447",
   "metadata": {},
   "outputs": [],
   "source": [
    "# fit a kmeans model with 6 clusters\n"
   ]
  },
  {
   "cell_type": "code",
   "execution_count": null,
   "id": "bf97a3a7-7873-4e9e-baf0-b2b756153e25",
   "metadata": {},
   "outputs": [],
   "source": [
    "# view the cluster labels\n"
   ]
  },
  {
   "cell_type": "markdown",
   "id": "f82df74f-ced5-467f-955f-7a9286a0e7e1",
   "metadata": {},
   "source": [
    "### b. Create a dataframe with the cluster labels and names"
   ]
  },
  {
   "cell_type": "code",
   "execution_count": null,
   "id": "895738de-4138-471f-81c6-e7c62fa118b3",
   "metadata": {},
   "outputs": [],
   "source": [
    "# create a dataframe with two columns - one of the label and another of the cluster name\n",
    "\n",
    "# create a mapping for the cluster names\n",
    "\n",
    "# combine the labels and names into a single dataframe\n"
   ]
  },
  {
   "cell_type": "markdown",
   "id": "2b8befb3-0d66-4b52-9a44-f7475d256b8e",
   "metadata": {},
   "source": [
    "### c. View the attrition rates for each cluster"
   ]
  },
  {
   "cell_type": "code",
   "execution_count": null,
   "id": "ea2b82f9-50a0-48e0-b373-2c0ec259e2f4",
   "metadata": {},
   "outputs": [],
   "source": [
    "# combine the clusters and attrition data\n"
   ]
  },
  {
   "cell_type": "code",
   "execution_count": null,
   "id": "6fae2df8-f99e-41ac-809c-31fe0acb1b38",
   "metadata": {},
   "outputs": [],
   "source": [
    "# what is the attrition rate for each cluster?\n"
   ]
  },
  {
   "cell_type": "code",
   "execution_count": null,
   "id": "0e133dda-8fe6-4af8-928a-a14dbe59304c",
   "metadata": {},
   "outputs": [],
   "source": [
    "# sort the values\n"
   ]
  },
  {
   "cell_type": "code",
   "execution_count": null,
   "id": "3e42e359-fd10-4630-a0fd-ab7547995264",
   "metadata": {},
   "outputs": [],
   "source": [
    "# interpret the findings\n"
   ]
  },
  {
   "cell_type": "code",
   "execution_count": null,
   "id": "bfe9411a-5766-424c-a920-c910bf7f83bf",
   "metadata": {},
   "outputs": [],
   "source": [
    "# find the number of employees in each cluster\n"
   ]
  },
  {
   "cell_type": "markdown",
   "id": "6d001ccf-ce30-474e-8b13-216b93458492",
   "metadata": {},
   "source": [
    "### d. View the department breakdown for each cluster"
   ]
  },
  {
   "cell_type": "code",
   "execution_count": null,
   "id": "69df2143-bfbc-484c-95e2-8ce121d01038",
   "metadata": {},
   "outputs": [],
   "source": [
    "# combine the clusters and department data\n"
   ]
  },
  {
   "cell_type": "code",
   "execution_count": null,
   "id": "a232237a-f84a-45af-a604-b3424311b0d6",
   "metadata": {},
   "outputs": [],
   "source": [
    "# what is the attrition rate for each cluster + department combination?\n"
   ]
  },
  {
   "cell_type": "code",
   "execution_count": null,
   "id": "56bf36e4-e689-401a-bee0-c86302fe6566",
   "metadata": {},
   "outputs": [],
   "source": [
    "# sort the values\n"
   ]
  },
  {
   "cell_type": "code",
   "execution_count": null,
   "id": "c8003303-eed8-456e-a778-bb92a3a931c5",
   "metadata": {},
   "outputs": [],
   "source": [
    "# interpret the findings\n"
   ]
  },
  {
   "cell_type": "code",
   "execution_count": null,
   "id": "df9e92a7-f9b8-42cc-ad88-251e2402156d",
   "metadata": {},
   "outputs": [],
   "source": [
    "# find the number of employees in each cluster + department combo\n"
   ]
  },
  {
   "cell_type": "markdown",
   "id": "374fd524-d895-4999-9c81-f2f353d8c6de",
   "metadata": {},
   "source": [
    "## 7. Make Recommendations"
   ]
  },
  {
   "cell_type": "code",
   "execution_count": null,
   "id": "ac9eae10-c765-437b-8c49-53291c77119d",
   "metadata": {},
   "outputs": [],
   "source": [
    "# looking at the clusters, what segment info would you share with the team?\n"
   ]
  },
  {
   "cell_type": "code",
   "execution_count": null,
   "id": "94f6cc20-91ce-4d82-8b1c-06cacd8eb705",
   "metadata": {},
   "outputs": [],
   "source": [
    "# what recommendations would you suggest to retain employees in each cluster?\n"
   ]
  },
  {
   "cell_type": "code",
   "execution_count": null,
   "id": "339993a2",
   "metadata": {},
   "outputs": [],
   "source": []
  }
 ],
 "metadata": {
  "kernelspec": {
   "display_name": "Python 3 (ipykernel)",
   "language": "python",
   "name": "python3"
  },
  "language_info": {
   "codemirror_mode": {
    "name": "ipython",
    "version": 3
   },
   "file_extension": ".py",
   "mimetype": "text/x-python",
   "name": "python",
   "nbconvert_exporter": "python",
   "pygments_lexer": "ipython3",
   "version": "3.11.5"
  }
 },
 "nbformat": 4,
 "nbformat_minor": 5
}
